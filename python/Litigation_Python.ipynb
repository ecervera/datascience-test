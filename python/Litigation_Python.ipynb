{
 "cells": [
  {
   "cell_type": "code",
   "execution_count": null,
   "id": "89c9c16e-300f-44ea-b376-37d8c15ef04f",
   "metadata": {},
   "outputs": [],
   "source": [
    "import pandas as pd"
   ]
  },
  {
   "cell_type": "code",
   "execution_count": null,
   "id": "2c7cad4a-29ea-4015-af7b-84cf0cb9a5eb",
   "metadata": {},
   "outputs": [],
   "source": [
    "df = pd.read_csv('litigation.csv')"
   ]
  },
  {
   "cell_type": "code",
   "execution_count": null,
   "id": "bf46d2cf-a634-46e8-bc4f-1daf297fdf64",
   "metadata": {},
   "outputs": [],
   "source": [
    "df['id'] = df.groupby('country').ngroup()"
   ]
  },
  {
   "cell_type": "code",
   "execution_count": null,
   "id": "509e29af-b488-49c3-a20e-a45ed0244766",
   "metadata": {},
   "outputs": [],
   "source": [
    "import numpy as np\n",
    "df['lnghg'] = np.log(df['ghg'])\n",
    "df['lngdp'] = np.log(df['gdp'])\n",
    "df['lngdp2'] = df['lngdp']**2\n",
    "df['lnpopulation'] = np.log(df['population'])\n",
    "df['lnlaw'] = np.log(df['ruleoflaw'])"
   ]
  },
  {
   "cell_type": "code",
   "execution_count": null,
   "id": "94274f4c-a943-4e7b-a2a8-b0b8f7a65398",
   "metadata": {
    "scrolled": true
   },
   "outputs": [],
   "source": [
    "df[['lnghg', 'lngdp', 'lngdp2', 'lnpopulation', 'lnlaw', 'litigation']].describe().transpose()"
   ]
  },
  {
   "cell_type": "markdown",
   "id": "39731f2c-be45-4956-ab6a-e381e93c3274",
   "metadata": {},
   "source": [
    "### TABLE 3 NEW"
   ]
  },
  {
   "cell_type": "code",
   "execution_count": null,
   "id": "fc89780c-89c3-4dea-a3ec-dc34ae75538d",
   "metadata": {},
   "outputs": [],
   "source": [
    "# reg lnghg lngdp lngdp2 lnpopulation lnlaw litigation , robust\n",
    "\n",
    "import statsmodels.api as sm\n",
    "\n",
    "data = df[['lnghg', 'lngdp', 'lngdp2', 'lnpopulation', \n",
    "           'lnlaw', 'litigation']].dropna()\n",
    "X = data[['lngdp', 'lngdp2', 'lnpopulation', 'lnlaw', 'litigation']]\n",
    "X = sm.add_constant(X)\n",
    "y = data['lnghg']\n",
    "model = sm.OLS(y, X).fit(cov_type='HC3')\n",
    "print(model.summary())"
   ]
  },
  {
   "cell_type": "code",
   "execution_count": null,
   "id": "ad5ad573-7cef-4ef4-8713-5b48488a4b42",
   "metadata": {},
   "outputs": [],
   "source": [
    "# xtreg lnghg lngdp lngdp2 lnpopulation lnlaw litigation i.year, fe robust\n",
    "\n",
    "from linearmodels.panel import PanelOLS\n",
    "\n",
    "data = df[['lnghg', 'lngdp', 'lngdp2', 'lnpopulation', \n",
    "           'lnlaw', 'litigation', 'year', 'id']].dropna()\n",
    "data['cons'] = 1\n",
    "panel_data = data.set_index(['id', 'year'])\n",
    "\n",
    "y = panel_data['lnghg']\n",
    "X = panel_data[['lngdp', 'lngdp2', 'lnpopulation', 'lnlaw', 'litigation', 'cons']]\n",
    "\n",
    "model = PanelOLS(y, X, entity_effects=True, time_effects=True)\n",
    "results = model.fit(cov_type='kernel', kernel='bartlett')\n",
    "print(results)"
   ]
  },
  {
   "cell_type": "code",
   "execution_count": null,
   "id": "0d3effe7-ce2c-4819-a7a8-412f14f3ac81",
   "metadata": {},
   "outputs": [],
   "source": [
    "hi_countries = ['BEL', 'AUS', 'CAN', 'CHE', 'DEU', 'ESP', 'EST', 'FIN', \n",
    "                'FRA', 'GBR', 'GRC', 'HRV', 'ITA', 'LTU', 'LUX', 'NLD', \n",
    "                'NOR', 'NZL', 'POL', 'PRT', 'SVK', 'SWE', 'ROU']\n",
    "df['HI'] = 0\n",
    "df.loc[df['country'].isin(hi_countries), 'HI'] = 1"
   ]
  },
  {
   "cell_type": "code",
   "execution_count": null,
   "id": "12e7db4a-8d60-448d-9f9c-f7710724a714",
   "metadata": {},
   "outputs": [],
   "source": [
    "# reg lnghg lngdp lngdp2 lnpopulation lnlaw HI#c.litigation, robust\n",
    "\n",
    "data = df[['lnghg', 'lngdp', 'lngdp2', 'lnpopulation', \n",
    "           'lnlaw', 'litigation', 'year', 'id', 'HI']].dropna()\n",
    "data['HITRUE_litigation'] = data['HI'] * data['litigation']\n",
    "data['HIFALSE_litigation'] = (1-data['HI']) * data['litigation']\n",
    "\n",
    "X = data[['lngdp', 'lngdp2', 'lnpopulation', 'lnlaw', 'HITRUE_litigation', 'HIFALSE_litigation']]\n",
    "X = sm.add_constant(X)\n",
    "y = data['lnghg']\n",
    "\n",
    "model = sm.OLS(y, X).fit(cov_type='HC3')\n",
    "print(model.summary())"
   ]
  },
  {
   "cell_type": "code",
   "execution_count": null,
   "id": "af8561cb-b1f8-4bcc-b553-0d683c38dc27",
   "metadata": {},
   "outputs": [],
   "source": [
    "# xtreg lnghg lngdp lngdp2 lnpopulation lnlaw HI#c.litigation i.year, fe robust\n",
    "\n",
    "data = df[['lnghg', 'lngdp', 'lngdp2', 'lnpopulation', \n",
    "           'lnlaw', 'litigation', 'year', 'id', 'HI']].dropna()\n",
    "data['cons'] = 1\n",
    "data['HITRUE_litigation'] = data['HI'] * data['litigation']\n",
    "data['HIFALSE_litigation'] = (1-data['HI']) * data['litigation']\n",
    "panel_data = data.set_index(['id', 'year'])\n",
    "\n",
    "y = panel_data['lnghg']\n",
    "X = panel_data[['lngdp', 'lngdp2', 'lnpopulation', 'lnlaw', 'HITRUE_litigation', 'HIFALSE_litigation', 'cons']]\n",
    "\n",
    "model = PanelOLS(y, X, entity_effects=True, time_effects=True)\n",
    "results = model.fit(cov_type='kernel', kernel='bartlett')\n",
    "print(results)"
   ]
  },
  {
   "cell_type": "code",
   "execution_count": null,
   "id": "57b79a86-42a7-4a55-8c60-49d881e871f7",
   "metadata": {},
   "outputs": [],
   "source": []
  }
 ],
 "metadata": {
  "kernelspec": {
   "display_name": "Python 3 (ipykernel)",
   "language": "python",
   "name": "python3"
  },
  "language_info": {
   "codemirror_mode": {
    "name": "ipython",
    "version": 3
   },
   "file_extension": ".py",
   "mimetype": "text/x-python",
   "name": "python",
   "nbconvert_exporter": "python",
   "pygments_lexer": "ipython3",
   "version": "3.11.6"
  }
 },
 "nbformat": 4,
 "nbformat_minor": 5
}
