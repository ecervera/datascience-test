{
 "cells": [
  {
   "cell_type": "markdown",
   "id": "ec15f30c-9860-49eb-ac9d-8414bc392219",
   "metadata": {},
   "source": [
    "# The Impact of Litigations on GHG Emissions\n",
    "* \"litigation\" from [Graham Institute](https://climate-laws.org/legislation_and_policies), takes the value of 1 when the first case related to environmental laws was solved in a given year, independently of the result\n",
    "* \"rule of law\" from World Bank\n",
    "* Sample excludes the US, and includes all countries for which there has been at least a case with a resolution: 23 countries, mostly HI and MI countries"
   ]
  },
  {
   "cell_type": "code",
   "execution_count": 1,
   "id": "89c9c16e-300f-44ea-b376-37d8c15ef04f",
   "metadata": {},
   "outputs": [],
   "source": [
    "import pandas as pd\n",
    "import numpy as np\n",
    "import matplotlib.pyplot as plt\n",
    "from linearmodels.panel import PanelOLS"
   ]
  },
  {
   "cell_type": "code",
   "execution_count": 2,
   "id": "2c7cad4a-29ea-4015-af7b-84cf0cb9a5eb",
   "metadata": {},
   "outputs": [],
   "source": [
    "df = pd.read_csv('../data/litigclean_eps.csv')"
   ]
  },
  {
   "cell_type": "markdown",
   "id": "efaccce3-1538-4723-bf1a-5c18c5b55381",
   "metadata": {},
   "source": [
    "Define Country_ID as numerical"
   ]
  },
  {
   "cell_type": "code",
   "execution_count": 3,
   "id": "bf46d2cf-a634-46e8-bc4f-1daf297fdf64",
   "metadata": {},
   "outputs": [],
   "source": [
    "df['id'] = df.groupby('country').ngroup()"
   ]
  },
  {
   "cell_type": "markdown",
   "id": "500863fc-d1f1-48d3-9804-b085a1ac58fb",
   "metadata": {},
   "source": [
    "Creation of log values"
   ]
  },
  {
   "cell_type": "code",
   "execution_count": 4,
   "id": "509e29af-b488-49c3-a20e-a45ed0244766",
   "metadata": {},
   "outputs": [],
   "source": [
    "df['lnghg'] = np.log(df['ghg'])\n",
    "df['lngdp'] = np.log(df['gdp'])\n",
    "df['lngdp2'] = df['lngdp']**2\n",
    "df['lnpopulation'] = np.log(df['population'])\n",
    "df['lnlaw'] = np.log(df['ruleoflaw'])"
   ]
  },
  {
   "cell_type": "markdown",
   "id": "cbf8997b-28c9-4ed0-b1f1-77abe806fdf9",
   "metadata": {},
   "source": [
    "Definition of High-Income and Middle-Income countries"
   ]
  },
  {
   "cell_type": "code",
   "execution_count": 5,
   "id": "a35861a3-af0c-4cf1-a50e-ad6b53078844",
   "metadata": {},
   "outputs": [],
   "source": [
    "hi_countries = ['BEL', 'AUS', 'CAN', 'CHE', 'DEU', 'ESP', 'EST', 'FIN', \n",
    "                'FRA', 'GBR', 'GRC', 'HRV', 'ITA', 'LTU', 'LUX', 'NLD', \n",
    "                'NOR', 'NZL', 'POL', 'PRT', 'SVK', 'SWE', 'ROU']\n",
    "df['HI'] = 0\n",
    "df.loc[df['country'].isin(hi_countries), 'HI'] = 1"
   ]
  },
  {
   "cell_type": "code",
   "execution_count": 6,
   "id": "07b78840-8887-4021-ad93-2fc85797f4bc",
   "metadata": {},
   "outputs": [],
   "source": [
    "mi_countries = ['BGR', 'CRI', 'FJI', 'IND', 'KEN', \n",
    "                'PAK', 'NPL', 'PHL', 'UKR']\n",
    "df['MI'] = 0\n",
    "df.loc[df['country'].isin(mi_countries), 'MI'] = 1"
   ]
  },
  {
   "cell_type": "markdown",
   "id": "60815a7c-4bf9-4baf-b918-0f7126cb0dfe",
   "metadata": {},
   "source": [
    "(2) TW-FE"
   ]
  },
  {
   "cell_type": "code",
   "execution_count": 7,
   "id": "ad5ad573-7cef-4ef4-8713-5b48488a4b42",
   "metadata": {},
   "outputs": [
    {
     "name": "stdout",
     "output_type": "stream",
     "text": [
      "                          PanelOLS Estimation Summary                           \n",
      "================================================================================\n",
      "Dep. Variable:                  lnghg   R-squared:                        0.6836\n",
      "Estimator:                   PanelOLS   R-squared (Between):              0.8024\n",
      "No. Observations:                 359   R-squared (Within):              -0.1254\n",
      "Date:                Fri, Jan 03 2025   R-squared (Overall):              0.7945\n",
      "Time:                        09:01:09   Log-likelihood                    534.59\n",
      "Cov. Estimator:        Driscoll-Kraay                                           \n",
      "                                        F-statistic:                      113.79\n",
      "Entities:                          18   P-value                           0.0000\n",
      "Avg Obs:                       19.944   Distribution:                   F(6,316)\n",
      "Min Obs:                       19.000                                           \n",
      "Max Obs:                       20.000   F-statistic (robust):             629.75\n",
      "                                        P-value                           0.0000\n",
      "Time periods:                      20   Distribution:                   F(6,316)\n",
      "Avg Obs:                       17.950                                           \n",
      "Min Obs:                       17.000                                           \n",
      "Max Obs:                       18.000                                           \n",
      "                                                                                \n",
      "                              Parameter Estimates                               \n",
      "================================================================================\n",
      "              Parameter  Std. Err.     T-stat    P-value    Lower CI    Upper CI\n",
      "--------------------------------------------------------------------------------\n",
      "lngdp            2.3456     0.3360     6.9806     0.0000      1.6845      3.0067\n",
      "lngdp2          -0.0949     0.0153    -6.1862     0.0000     -0.1251     -0.0647\n",
      "lnpopulation     1.2446     0.1752     7.1055     0.0000      0.9000      1.5893\n",
      "lnlaw           -0.1196     0.0322    -3.7147     0.0002     -0.1829     -0.0563\n",
      "litigation      -0.0315     0.0120    -2.6206     0.0092     -0.0552     -0.0079\n",
      "eps             -0.0275     0.0199    -1.3813     0.1682     -0.0666      0.0117\n",
      "cons            -15.442     1.2634    -12.223     0.0000     -17.928     -12.956\n",
      "================================================================================\n",
      "\n",
      "F-test for Poolability: 313.72\n",
      "P-value: 0.0000\n",
      "Distribution: F(36,316)\n",
      "\n",
      "Included effects: Entity, Time\n"
     ]
    }
   ],
   "source": [
    "# xtreg lnghg lngdp lngdp2 lnpop lnlaw litigation eps i.year, fe robust\n",
    "\n",
    "data = df[['lnghg', 'lngdp', 'lngdp2', 'lnpopulation', \n",
    "           'lnlaw', 'litigation', 'eps', 'year', 'id']].dropna()\n",
    "data['cons'] = 1\n",
    "panel_data = data.set_index(['id', 'year'])\n",
    "\n",
    "y = panel_data['lnghg']\n",
    "X = panel_data[['lngdp', 'lngdp2', 'lnpopulation', 'lnlaw', 'litigation', 'eps', 'cons']]\n",
    "\n",
    "model = PanelOLS(y, X, entity_effects=True, time_effects=True)\n",
    "results = model.fit(cov_type='kernel', kernel='bartlett')\n",
    "print(results)"
   ]
  },
  {
   "cell_type": "code",
   "execution_count": 8,
   "id": "a1b777fd-cbc2-485b-8d02-019977aafef2",
   "metadata": {},
   "outputs": [
    {
     "name": "stdout",
     "output_type": "stream",
     "text": [
      "                          PanelOLS Estimation Summary                           \n",
      "================================================================================\n",
      "Dep. Variable:                  lnghg   R-squared:                        0.6885\n",
      "Estimator:                   PanelOLS   R-squared (Between):              0.7685\n",
      "No. Observations:                 359   R-squared (Within):              -0.1590\n",
      "Date:                Fri, Jan 03 2025   R-squared (Overall):              0.7605\n",
      "Time:                        09:01:09   Log-likelihood                    537.38\n",
      "Cov. Estimator:        Driscoll-Kraay                                           \n",
      "                                        F-statistic:                      86.741\n",
      "Entities:                          18   P-value                           0.0000\n",
      "Avg Obs:                       19.944   Distribution:                   F(8,314)\n",
      "Min Obs:                       19.000                                           \n",
      "Max Obs:                       20.000   F-statistic (robust):             705.94\n",
      "                                        P-value                           0.0000\n",
      "Time periods:                      20   Distribution:                   F(8,314)\n",
      "Avg Obs:                       17.950                                           \n",
      "Min Obs:                       17.000                                           \n",
      "Max Obs:                       18.000                                           \n",
      "                                                                                \n",
      "                              Parameter Estimates                               \n",
      "================================================================================\n",
      "              Parameter  Std. Err.     T-stat    P-value    Lower CI    Upper CI\n",
      "--------------------------------------------------------------------------------\n",
      "lngdp            2.2480     0.3161     7.1106     0.0000      1.6260      2.8701\n",
      "lngdp2          -0.0899     0.0144    -6.2475     0.0000     -0.1182     -0.0616\n",
      "lnpopulation     1.2896     0.1737     7.4240     0.0000      0.9478      1.6313\n",
      "lnlaw           -0.1177     0.0352    -3.3406     0.0009     -0.1870     -0.0484\n",
      "litigation      -0.0350     0.0139    -2.5136     0.0124     -0.0625     -0.0076\n",
      "eps_mk          -0.0283     0.0101    -2.7859     0.0057     -0.0482     -0.0083\n",
      "eps_nm          -0.0035     0.0065    -0.5348     0.5932     -0.0162      0.0093\n",
      "eps_ts          -0.0083     0.0072    -1.1417     0.2545     -0.0225      0.0060\n",
      "cons            -15.748     1.3104    -12.018     0.0000     -18.326     -13.170\n",
      "================================================================================\n",
      "\n",
      "F-test for Poolability: 301.74\n",
      "P-value: 0.0000\n",
      "Distribution: F(36,314)\n",
      "\n",
      "Included effects: Entity, Time\n"
     ]
    }
   ],
   "source": [
    "# xtreg lnghg lngdp lngdp2 lnpop lnlaw litigation eps_* i.year,fe robust\n",
    "\n",
    "data = df[['lnghg', 'lngdp', 'lngdp2', 'lnpopulation', \n",
    "           'lnlaw', 'litigation', 'eps_mk', 'eps_nm', 'eps_ts', 'year', 'id']].dropna()\n",
    "data['cons'] = 1\n",
    "panel_data = data.set_index(['id', 'year'])\n",
    "\n",
    "y = panel_data['lnghg']\n",
    "X = panel_data[['lngdp', 'lngdp2', 'lnpopulation', 'lnlaw', 'litigation', 'eps_mk', 'eps_nm', 'eps_ts', 'cons']]\n",
    "\n",
    "model = PanelOLS(y, X, entity_effects=True, time_effects=True)\n",
    "results = model.fit(cov_type='kernel', kernel='bartlett')\n",
    "print(results)"
   ]
  },
  {
   "cell_type": "code",
   "execution_count": null,
   "id": "af8a02cf-832c-4262-9c9f-db1c161bcbf1",
   "metadata": {},
   "outputs": [],
   "source": []
  }
 ],
 "metadata": {
  "kernelspec": {
   "display_name": "Python 3 (ipykernel)",
   "language": "python",
   "name": "python3"
  },
  "language_info": {
   "codemirror_mode": {
    "name": "ipython",
    "version": 3
   },
   "file_extension": ".py",
   "mimetype": "text/x-python",
   "name": "python",
   "nbconvert_exporter": "python",
   "pygments_lexer": "ipython3",
   "version": "3.10.10"
  }
 },
 "nbformat": 4,
 "nbformat_minor": 5
}
