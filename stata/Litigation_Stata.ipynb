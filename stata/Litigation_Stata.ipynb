{
 "cells": [
  {
   "cell_type": "markdown",
   "id": "30de3b1e-bc0a-40b9-8867-37fa730bdeff",
   "metadata": {},
   "source": [
    "# The Impact of Litigations on GHG Emissions\n",
    "* \"litigation\" from [Graham Institute](https://climate-laws.org/legislation_and_policies), takes the value of 1 when the first case related to environmental laws was solved in a given year, independently of the result\n",
    "* \"rule of law\" from World Bank\n",
    "* Sample excludes the US, and includes all countries for which there has been at least a case with a resolution: 23 countries, mostly HI and MI countries"
   ]
  },
  {
   "cell_type": "code",
   "execution_count": 1,
   "id": "ce939040-1207-4a55-ad64-e42746961e2a",
   "metadata": {},
   "outputs": [
    {
     "name": "stdout",
     "output_type": "stream",
     "text": [
      "\n",
      "checking xtivreg2 consistency and verifying not already installed...\n",
      "all files already exist and are up to date.\n",
      "\n",
      "checking ivreg2 consistency and verifying not already installed...\n",
      "all files already exist and are up to date.\n",
      "\n",
      "checking ranktest consistency and verifying not already installed...\n",
      "all files already exist and are up to date.\n",
      "\n",
      "checking medsem consistency and verifying not already installed...\n",
      "all files already exist and are up to date.\n"
     ]
    }
   ],
   "source": [
    "ssc inst xtivreg2\n",
    "ssc install ivreg2\n",
    "ssc install ranktest\n",
    "ssc inst medsem"
   ]
  },
  {
   "cell_type": "code",
   "execution_count": 2,
   "id": "b73a8fe1-e1a6-48fe-9804-37b2cc348ebc",
   "metadata": {},
   "outputs": [
    {
     "name": "stdout",
     "output_type": "stream",
     "text": [
      "(8 vars, 928 obs)\n"
     ]
    }
   ],
   "source": [
    "insheet using \"litigation.csv\", comma clear"
   ]
  },
  {
   "cell_type": "code",
   "execution_count": 3,
   "id": "6a2ccedf-101d-477f-9394-80affbe480dd",
   "metadata": {},
   "outputs": [
    {
     "name": "stdout",
     "output_type": "stream",
     "text": [
      "\n",
      "\n",
      "\n",
      "Panel variable: id (strongly balanced)\n",
      " Time variable: year, 1990 to 2018\n",
      "         Delta: 1 unit\n"
     ]
    }
   ],
   "source": [
    "egen id = group(country)\n",
    "xtset id year"
   ]
  },
  {
   "cell_type": "code",
   "execution_count": 4,
   "id": "a8f3511e-0668-4f5d-9977-0eb96ece7282",
   "metadata": {},
   "outputs": [
    {
     "name": "stdout",
     "output_type": "stream",
     "text": [
      "\n",
      "\n",
      "(23 missing values generated)\n",
      "\n",
      "(23 missing values generated)\n",
      "\n",
      "\n",
      "(288 missing values generated)\n"
     ]
    }
   ],
   "source": [
    "gen lnghg = ln(ghg)\n",
    "gen lngdp = ln(gdp)\n",
    "gen lngdp2 = lngdp^2\n",
    "gen lnpopulation = ln(population)\n",
    "gen lnlaw = ln(ruleoflaw)"
   ]
  },
  {
   "cell_type": "code",
   "execution_count": 5,
   "id": "6874ac2c-7f89-4077-a08a-5774dfeeb338",
   "metadata": {},
   "outputs": [
    {
     "name": "stdout",
     "output_type": "stream",
     "text": [
      "\n",
      "    Variable |        Obs        Mean    Std. dev.       Min        Max\n",
      "-------------+---------------------------------------------------------\n",
      "       lnghg |        928    18.48851     1.49546   14.41435   21.93966\n",
      "       lngdp |        905    9.986052    .9750395   7.388111   11.70063\n",
      "      lngdp2 |        905    100.6709     18.6502   54.58419   136.9048\n",
      "lnpopulation |        928    16.52304    1.576204   12.85278   21.02533\n",
      "       lnlaw |        640    4.183953     .470828   2.664199    4.60517\n",
      "-------------+---------------------------------------------------------\n",
      "  litigation |        928    .2176724     .412886          0          1\n"
     ]
    }
   ],
   "source": [
    "sum lnghg lngdp lngdp2 lnpop lnlaw litigation"
   ]
  },
  {
   "cell_type": "code",
   "execution_count": 6,
   "id": "e7d3504a-3753-4b45-9681-ad05a6388eab",
   "metadata": {},
   "outputs": [
    {
     "name": "stdout",
     "output_type": "stream",
     "text": [
      "\n",
      "\n",
      "\n",
      "\n",
      "\n",
      "    Variable |        Obs        Mean    Std. dev.       Min        Max\n",
      "-------------+---------------------------------------------------------\n",
      "       lnghg |        667     18.6179     1.27205   15.95322   20.87187\n",
      "       lngdp |        644    10.49497    .4640565   9.257596   11.70063\n",
      "      lngdp2 |        644    110.3594    9.684836   85.70309   136.9048\n",
      "lnpopulation |        667    16.26146    1.283457   12.85278   18.23322\n",
      "       lnlaw |        460    4.411902    .2305409   2.664199    4.60517\n",
      "-------------+---------------------------------------------------------\n",
      "  litigation |        667    .2593703     .438618          0          1\n"
     ]
    }
   ],
   "source": [
    "local high_income_countries \"BEL AUS CAN CHE DEU ESP EST FIN FRA GBR GRC HRV ITA LTU LUX NLD NOR NZL POL PRT SVK SWE ROU\"\n",
    "gen HI=0\n",
    "foreach country of local high_income_countries {\n",
    "    quietly replace HI = 1 if country == \"`country'\"\n",
    "}\n",
    "sum lnghg lngdp lngdp2 lnpop lnlaw litigation if HI==1"
   ]
  },
  {
   "cell_type": "code",
   "execution_count": 7,
   "id": "8a620c45-0513-4d3a-867c-c2e781f4d4ab",
   "metadata": {},
   "outputs": [
    {
     "name": "stdout",
     "output_type": "stream",
     "text": [
      "\n",
      "\n",
      "\n",
      "\n",
      "\n",
      "    Variable |        Obs        Mean    Std. dev.       Min        Max\n",
      "-------------+---------------------------------------------------------\n",
      "       lnghg |        261    18.15782    1.917304   14.41435   21.93966\n",
      "       lngdp |        261    8.730336    .7406391   7.388111   11.24273\n",
      "      lngdp2 |        261    76.76522    13.08562   54.58419   126.3991\n",
      "lnpopulation |        261    17.19153    2.003558   13.49885   21.02533\n",
      "       lnlaw |        180    3.601417    .4246114   2.664199   4.304065\n",
      "-------------+---------------------------------------------------------\n",
      "  litigation |        261    .1111111    .3148735          0          1\n"
     ]
    }
   ],
   "source": [
    "local middle_income_countries \"BGR CRI FJI IND KEN PAK NPL PHL UKR\"\n",
    "gen MI=0\n",
    "foreach country of local middle_income_countries {\n",
    "    quietly replace MI = 1 if country == \"`country'\"\n",
    "}\n",
    "sum lnghg lngdp lngdp2 lnpop lnlaw litigation if MI==1"
   ]
  },
  {
   "cell_type": "markdown",
   "id": "b0581216-a823-4847-b05c-c97b3de08492",
   "metadata": {},
   "source": [
    "### Table 3"
   ]
  },
  {
   "cell_type": "code",
   "execution_count": 8,
   "id": "4ab4d4f2-6da1-47cc-ac6f-309e639385a5",
   "metadata": {},
   "outputs": [
    {
     "name": "stdout",
     "output_type": "stream",
     "text": [
      "\n",
      "Linear regression                               Number of obs     =        639\n",
      "                                                F(5, 633)         =    1929.50\n",
      "                                                Prob > F          =     0.0000\n",
      "                                                R-squared         =     0.9221\n",
      "                                                Root MSE          =     .41807\n",
      "\n",
      "------------------------------------------------------------------------------\n",
      "             |               Robust\n",
      "       lnghg | Coefficient  std. err.      t    P>|t|     [95% conf. interval]\n",
      "-------------+----------------------------------------------------------------\n",
      "       lngdp |   2.578943   .3068436     8.40   0.000     1.976388    3.181497\n",
      "      lngdp2 |  -.0985641   .0162742    -6.06   0.000    -.1305221   -.0666062\n",
      "lnpopulation |   .9994721   .0113074    88.39   0.000     .9772675    1.021677\n",
      "       lnlaw |   .0755278   .0674979     1.12   0.264    -.0570191    .2080747\n",
      "  litigation |  -.0478646   .0365063    -1.31   0.190    -.1195527    .0238235\n",
      "       _cons |  -14.22819   1.443451    -9.86   0.000    -17.06272   -11.39366\n",
      "------------------------------------------------------------------------------\n"
     ]
    }
   ],
   "source": [
    "reg lnghg lngdp lngdp2 lnpopulation lnlaw litigation, robust"
   ]
  },
  {
   "cell_type": "code",
   "execution_count": 9,
   "id": "137e37fd-abaa-4d93-9fde-92821b4b9edc",
   "metadata": {},
   "outputs": [
    {
     "name": "stdout",
     "output_type": "stream",
     "text": [
      "\n",
      "Fixed-effects (within) regression               Number of obs     =        639\n",
      "Group variable: id                              Number of groups  =         32\n",
      "\n",
      "R-squared:                                      Obs per group:\n",
      "     Within  = 0.7271                                         min =         19\n",
      "     Between = 0.8887                                         avg =       20.0\n",
      "     Overall = 0.8873                                         max =         20\n",
      "\n",
      "                                                F(24, 31)         =      38.79\n",
      "corr(u_i, Xb) = -0.8080                         Prob > F          =     0.0000\n",
      "\n",
      "                                    (Std. err. adjusted for 32 clusters in id)\n",
      "------------------------------------------------------------------------------\n",
      "             |               Robust\n",
      "       lnghg | Coefficient  std. err.      t    P>|t|     [95% conf. interval]\n",
      "-------------+----------------------------------------------------------------\n",
      "       lngdp |   2.457918   .5489154     4.48   0.000     1.338398    3.577439\n",
      "      lngdp2 |  -.0965792    .029694    -3.25   0.003    -.1571404    -.036018\n",
      "lnpopulation |   1.429587   .1783251     8.02   0.000     1.065891    1.793284\n",
      "       lnlaw |  -.0692582   .0356233    -1.94   0.061    -.1419125     .003396\n",
      "  litigation |  -.0344485    .016462    -2.09   0.045     -.068023   -.0008741\n",
      "             |\n",
      "        year |\n",
      "       1998  |  -.0491423   .0134783    -3.65   0.001    -.0766315    -.021653\n",
      "       2000  |  -.1065373   .0243319    -4.38   0.000    -.1561625   -.0569122\n",
      "       2002  |   -.123345   .0274754    -4.49   0.000    -.1793815   -.0673085\n",
      "       2003  |  -.1237227   .0281328    -4.40   0.000    -.1810999   -.0663456\n",
      "       2004  |   -.141219   .0347568    -4.06   0.000     -.212106   -.0703319\n",
      "       2005  |  -.1704263   .0383976    -4.44   0.000    -.2487387   -.0921138\n",
      "       2006  |   -.195242   .0406627    -4.80   0.000     -.278174   -.1123099\n",
      "       2007  |  -.2032095   .0425278    -4.78   0.000    -.2899456   -.1164734\n",
      "       2008  |  -.2353605   .0444311    -5.30   0.000    -.3259784   -.1447427\n",
      "       2009  |  -.2794017   .0440281    -6.35   0.000    -.3691977   -.1896058\n",
      "       2010  |  -.2672939   .0428639    -6.24   0.000    -.3547154   -.1798724\n",
      "       2011  |  -.2897628     .04608    -6.29   0.000    -.3837437    -.195782\n",
      "       2012  |  -.3130799   .0464491    -6.74   0.000    -.4078135   -.2183464\n",
      "       2013  |  -.3381188   .0472355    -7.16   0.000    -.4344564   -.2417813\n",
      "       2014  |  -.3694603   .0512844    -7.20   0.000    -.4740554   -.2648651\n",
      "       2015  |  -.3912014   .0556687    -7.03   0.000    -.5047385   -.2776643\n",
      "       2016  |  -.4027138   .0582252    -6.92   0.000    -.5214648   -.2839628\n",
      "       2017  |    -.41096   .0649669    -6.33   0.000    -.5434608   -.2784592\n",
      "       2018  |  -.4337645   .0658701    -6.59   0.000    -.5681076   -.2994215\n",
      "             |\n",
      "       _cons |  -19.48714   3.184008    -6.12   0.000    -25.98097   -12.99332\n",
      "-------------+----------------------------------------------------------------\n",
      "     sigma_u |  .85502555\n",
      "     sigma_e |  .06983064\n",
      "         rho |  .99337407   (fraction of variance due to u_i)\n",
      "------------------------------------------------------------------------------\n"
     ]
    }
   ],
   "source": [
    "xtreg lnghg lngdp lngdp2 lnpopulation lnlaw litigation i.year, fe robust"
   ]
  },
  {
   "cell_type": "code",
   "execution_count": 10,
   "id": "58b50598-9de7-4fce-8082-2d9f8f6e1619",
   "metadata": {},
   "outputs": [
    {
     "name": "stdout",
     "output_type": "stream",
     "text": [
      "\n",
      "Linear regression                               Number of obs     =        639\n",
      "                                                F(6, 632)         =    1642.01\n",
      "                                                Prob > F          =     0.0000\n",
      "                                                R-squared         =     0.9225\n",
      "                                                Root MSE          =     .41737\n",
      "\n",
      "------------------------------------------------------------------------------\n",
      "             |               Robust\n",
      "       lnghg | Coefficient  std. err.      t    P>|t|     [95% conf. interval]\n",
      "-------------+----------------------------------------------------------------\n",
      "       lngdp |   2.515082   .3069351     8.19   0.000     1.912346    3.117818\n",
      "      lngdp2 |  -.0954019   .0162537    -5.87   0.000    -.1273196   -.0634841\n",
      "lnpopulation |   .9978254   .0113636    87.81   0.000     .9755103     1.02014\n",
      "       lnlaw |   .1021409   .0698572     1.46   0.144    -.0350394    .2393211\n",
      "             |\n",
      "          HI#|\n",
      "c.litigation |\n",
      "          0  |   .0868467   .0722466     1.20   0.230    -.0550257    .2287191\n",
      "          1  |  -.0721082   .0390842    -1.84   0.066    -.1488588    .0046423\n",
      "             |\n",
      "       _cons |  -13.99221   1.435837    -9.74   0.000     -16.8118   -11.17262\n",
      "------------------------------------------------------------------------------\n"
     ]
    }
   ],
   "source": [
    "reg lnghg lngdp lngdp2 lnpopulation lnlaw HI#c.litigation, robust"
   ]
  },
  {
   "cell_type": "code",
   "execution_count": 11,
   "id": "67de6bb7-1b9e-4700-8329-4d0238569193",
   "metadata": {},
   "outputs": [
    {
     "name": "stdout",
     "output_type": "stream",
     "text": [
      "> \n",
      "\n",
      "Fixed-effects (within) regression               Number of obs     =        639\n",
      "Group variable: id                              Number of groups  =         32\n",
      "\n",
      "R-squared:                                      Obs per group:\n",
      "     Within  = 0.7282                                         min =         19\n",
      "     Between = 0.8871                                         avg =       20.0\n",
      "     Overall = 0.8856                                         max =         20\n",
      "\n",
      "                                                F(25, 31)         =      32.25\n",
      "corr(u_i, Xb) = -0.8081                         Prob > F          =     0.0000\n",
      "\n",
      "                                    (Std. err. adjusted for 32 clusters in id)\n",
      "------------------------------------------------------------------------------\n",
      "             |               Robust\n",
      "       lnghg | Coefficient  std. err.      t    P>|t|     [95% conf. interval]\n",
      "-------------+----------------------------------------------------------------\n",
      "       lngdp |   2.326192   .5203568     4.47   0.000     1.264918    3.387467\n",
      "      lngdp2 |  -.0901084   .0281018    -3.21   0.003    -.1474224   -.0327944\n",
      "lnpopulation |   1.430749   .1822153     7.85   0.000     1.059119     1.80238\n",
      "       lnlaw |  -.0692299   .0362873    -1.91   0.066    -.1432384    .0047787\n",
      "             |\n",
      "          HI#|\n",
      "c.litigation |\n",
      "          0  |  -.0108667   .0364692    -0.30   0.768    -.0852461    .0635127\n",
      "          1  |  -.0407709   .0187288    -2.18   0.037    -.0789685   -.0025733\n",
      "             |\n",
      "        year |\n",
      "       1998  |  -.0491615    .013617    -3.61   0.001    -.0769335   -.0213894\n",
      "       2000  |  -.1064899   .0247123    -4.31   0.000    -.1568909   -.0560888\n",
      "       2002  |  -.1230434   .0280176    -4.39   0.000    -.1801857    -.065901\n",
      "       2003  |  -.1232073   .0288292    -4.27   0.000    -.1820048   -.0644097\n",
      "       2004  |  -.1404773   .0357062    -3.93   0.000    -.2133006    -.067654\n",
      "       2005  |  -.1693299   .0396176    -4.27   0.000    -.2501306   -.0885292\n",
      "       2006  |  -.1938219   .0421624    -4.60   0.000    -.2798128    -.107831\n",
      "       2007  |  -.2013184   .0443467    -4.54   0.000     -.291764   -.1108728\n",
      "       2008  |  -.2325815   .0468189    -4.97   0.000    -.3280693   -.1370936\n",
      "       2009  |  -.2760425   .0466038    -5.92   0.000    -.3710915   -.1809935\n",
      "       2010  |  -.2641478   .0454947    -5.81   0.000    -.3569349   -.1713607\n",
      "       2011  |  -.2870563   .0483556    -5.94   0.000    -.3856783   -.1884344\n",
      "       2012  |  -.3098329   .0488618    -6.34   0.000    -.4094871   -.2101787\n",
      "       2013  |  -.3345467   .0497288    -6.73   0.000    -.4359693   -.2331241\n",
      "       2014  |  -.3655778   .0541053    -6.76   0.000    -.4759263   -.2552293\n",
      "       2015  |  -.3887204   .0581203    -6.69   0.000    -.5072575   -.2701834\n",
      "       2016  |  -.3999771   .0607138    -6.59   0.000    -.5238037   -.2761504\n",
      "       2017  |  -.4084586   .0675189    -6.05   0.000    -.5461644   -.2707528\n",
      "       2018  |  -.4326393   .0677365    -6.39   0.000    -.5707888   -.2944897\n",
      "             |\n",
      "       _cons |  -18.84315   3.312906    -5.69   0.000    -25.59986   -12.08643\n",
      "-------------+----------------------------------------------------------------\n",
      "     sigma_u |  .86155679\n",
      "     sigma_e |  .06975049\n",
      "         rho |  .99348837   (fraction of variance due to u_i)\n",
      "------------------------------------------------------------------------------\n"
     ]
    }
   ],
   "source": [
    "xtreg lnghg lngdp lngdp2 lnpopulation lnlaw HI#c.litigation i.year, fe robust"
   ]
  },
  {
   "cell_type": "markdown",
   "id": "54b8cda6-1413-4e6d-a25c-d2785352d4d8",
   "metadata": {},
   "source": [
    "### Table 4"
   ]
  },
  {
   "cell_type": "code",
   "execution_count": 12,
   "id": "96e2e85c-c45b-4fed-a92f-5db554e17495",
   "metadata": {},
   "outputs": [
    {
     "name": "stdout",
     "output_type": "stream",
     "text": [
      "\n",
      "Fixed-effects (within) regression               Number of obs     =        639\n",
      "Group variable: id                              Number of groups  =         32\n",
      "\n",
      "R-squared:                                      Obs per group:\n",
      "     Within  = 0.7274                                         min =         19\n",
      "     Between = 0.8883                                         avg =       20.0\n",
      "     Overall = 0.8869                                         max =         20\n",
      "\n",
      "                                                F(24, 31)         =      37.74\n",
      "corr(u_i, Xb) = -0.8097                         Prob > F          =     0.0000\n",
      "\n",
      "                                    (Std. err. adjusted for 32 clusters in id)\n",
      "------------------------------------------------------------------------------\n",
      "             |               Robust\n",
      "       lnghg | Coefficient  std. err.      t    P>|t|     [95% conf. interval]\n",
      "-------------+----------------------------------------------------------------\n",
      "       lngdp |   2.418571   .5453638     4.43   0.000     1.306294    3.530848\n",
      "      lngdp2 |  -.0945369   .0295298    -3.20   0.003    -.1547632   -.0343105\n",
      "lnpopulation |   1.432804   .1802556     7.95   0.000      1.06517    1.800437\n",
      "             |\n",
      "  litigation#|\n",
      "     c.lnlaw |\n",
      "          0  |  -.0694242   .0355687    -1.95   0.060    -.1419671    .0031186\n",
      "          1  |  -.0776899   .0355574    -2.18   0.037    -.1502097   -.0051702\n",
      "             |\n",
      "        year |\n",
      "       1998  |  -.0493129   .0134684    -3.66   0.001    -.0767818    -.021844\n",
      "       2000  |  -.1068509   .0243332    -4.39   0.000    -.1564788   -.0572231\n",
      "       2002  |  -.1237056   .0274737    -4.50   0.000    -.1797386   -.0676726\n",
      "       2003  |  -.1240946   .0281555    -4.41   0.000    -.1815181   -.0666712\n",
      "       2004  |  -.1416295   .0348025    -4.07   0.000    -.2126096   -.0706494\n",
      "       2005  |   -.170781   .0384891    -4.44   0.000      -.24928   -.0922819\n",
      "       2006  |   -.195544   .0408178    -4.79   0.000    -.2787926   -.1122955\n",
      "       2007  |  -.2035203   .0427505    -4.76   0.000    -.2907105   -.1163301\n",
      "       2008  |  -.2354153    .044793    -5.26   0.000    -.3267711   -.1440594\n",
      "       2009  |  -.2793227   .0444172    -6.29   0.000    -.3699121   -.1887332\n",
      "       2010  |   -.267305   .0433739    -6.16   0.000    -.3557667   -.1788433\n",
      "       2011  |  -.2897685   .0465303    -6.23   0.000    -.3846677   -.1948694\n",
      "       2012  |  -.3130464   .0468689    -6.68   0.000    -.4086362   -.2174566\n",
      "       2013  |  -.3379979   .0476686    -7.09   0.000    -.4352187   -.2407771\n",
      "       2014  |  -.3692359    .051792    -7.13   0.000    -.4748665   -.2636053\n",
      "       2015  |  -.3913855   .0562918    -6.95   0.000    -.5061934   -.2765777\n",
      "       2016  |  -.4028653   .0587789    -6.85   0.000    -.5227456   -.2829849\n",
      "       2017  |  -.4111088   .0656519    -6.26   0.000    -.5450068   -.2772108\n",
      "       2018  |   -.434113   .0664962    -6.53   0.000    -.5697329    -.298493\n",
      "             |\n",
      "       _cons |  -19.35185   3.149839    -6.14   0.000    -25.77599   -12.92771\n",
      "-------------+----------------------------------------------------------------\n",
      "     sigma_u |  .85995262\n",
      "     sigma_e |  .06979306\n",
      "         rho |  .99345629   (fraction of variance due to u_i)\n",
      "------------------------------------------------------------------------------\n"
     ]
    }
   ],
   "source": [
    "xtreg lnghg lngdp lngdp2 lnpop c.lnlaw#i.litigation i.year, fe robust"
   ]
  },
  {
   "cell_type": "code",
   "execution_count": 13,
   "id": "4088cdae-0516-421c-8c63-e6622c42dc8e",
   "metadata": {},
   "outputs": [],
   "source": [
    "gen UMI=0\n",
    "quietly replace UMI=1 if gdp<12700"
   ]
  },
  {
   "cell_type": "code",
   "execution_count": 14,
   "id": "3ff0d73f-85b8-4cdb-b124-d033d235d814",
   "metadata": {},
   "outputs": [
    {
     "name": "stdout",
     "output_type": "stream",
     "text": [
      "\n",
      "Fixed-effects (within) regression               Number of obs     =        639\n",
      "Group variable: id                              Number of groups  =         32\n",
      "\n",
      "R-squared:                                      Obs per group:\n",
      "     Within  = 0.7272                                         min =         19\n",
      "     Between = 0.8888                                         avg =       20.0\n",
      "     Overall = 0.8874                                         max =         20\n",
      "\n",
      "                                                F(25, 31)         =      40.23\n",
      "corr(u_i, Xb) = -0.8090                         Prob > F          =     0.0000\n",
      "\n",
      "                                    (Std. err. adjusted for 32 clusters in id)\n",
      "------------------------------------------------------------------------------\n",
      "             |               Robust\n",
      "       lnghg | Coefficient  std. err.      t    P>|t|     [95% conf. interval]\n",
      "-------------+----------------------------------------------------------------\n",
      "       lngdp |   2.491482   .5004926     4.98   0.000      1.47072    3.512243\n",
      "      lngdp2 |  -.0982759   .0270101    -3.64   0.001    -.1533633   -.0431884\n",
      "lnpopulation |     1.4314   .1826567     7.84   0.000      1.05887    1.803931\n",
      "       lnlaw |  -.0691693   .0353824    -1.95   0.060    -.1413322    .0029936\n",
      "             |\n",
      "         UMI#|\n",
      "c.litigation |\n",
      "          0  |   -.033164   .0179939    -1.84   0.075    -.0698628    .0035348\n",
      "          1  |  -.0416295   .0522256    -0.80   0.431    -.1481443    .0648854\n",
      "             |\n",
      "        year |\n",
      "       1998  |  -.0491177   .0134328    -3.66   0.001     -.076514   -.0217214\n",
      "       2000  |  -.1064992   .0242016    -4.40   0.000    -.1558587   -.0571398\n",
      "       2002  |  -.1233518   .0274204    -4.50   0.000     -.179276   -.0674276\n",
      "       2003  |  -.1237724   .0281503    -4.40   0.000    -.1811853   -.0663596\n",
      "       2004  |  -.1413002   .0348299    -4.06   0.000    -.2123362   -.0702641\n",
      "       2005  |  -.1705719   .0386255    -4.42   0.000    -.2493491   -.0917948\n",
      "       2006  |  -.1954345   .0410092    -4.77   0.000    -.2790733   -.1117957\n",
      "       2007  |  -.2034708   .0429432    -4.74   0.000    -.2910541   -.1158875\n",
      "       2008  |  -.2358115   .0453209    -5.20   0.000    -.3282442   -.1433788\n",
      "       2009  |  -.2800341   .0454592    -6.16   0.000    -.3727486   -.1873195\n",
      "       2010  |   -.267808   .0437696    -6.12   0.000    -.3570767   -.1785393\n",
      "       2011  |  -.2906405   .0478254    -6.08   0.000    -.3881811   -.1930999\n",
      "       2012  |  -.3140839   .0485477    -6.47   0.000    -.4130976   -.2150702\n",
      "       2013  |  -.3391978   .0495103    -6.85   0.000    -.4401748   -.2382208\n",
      "       2014  |  -.3703422   .0528209    -7.01   0.000    -.4780711   -.2626132\n",
      "       2015  |  -.3916456   .0562752    -6.96   0.000    -.5064196   -.2768717\n",
      "       2016  |  -.4032026   .0588317    -6.85   0.000    -.5231905   -.2832146\n",
      "       2017  |  -.4113166   .0653505    -6.29   0.000    -.5445997   -.2780334\n",
      "       2018  |  -.4339502   .0658756    -6.59   0.000    -.5683043   -.2995962\n",
      "             |\n",
      "       _cons |  -19.68176   3.543171    -5.55   0.000     -26.9081   -12.45542\n",
      "-------------+----------------------------------------------------------------\n",
      "     sigma_u |  .85668666\n",
      "     sigma_e |  .06988273\n",
      "         rho |  .99338979   (fraction of variance due to u_i)\n",
      "------------------------------------------------------------------------------\n"
     ]
    }
   ],
   "source": [
    "xtreg lnghg lngdp lngdp2 lnpop lnlaw UMI#c.litigation i.year, fe  robust"
   ]
  },
  {
   "cell_type": "code",
   "execution_count": 15,
   "id": "fa8e936b-6899-4137-a151-d02917037274",
   "metadata": {},
   "outputs": [
    {
     "name": "stdout",
     "output_type": "stream",
     "text": [
      "i.year            _Iyear_1990-2018    (naturally coded; _Iyear_1990 omitted)\n",
      "Warning - collinearities detected\n",
      "Vars dropped:       _Iyear_1991 _Iyear_1992 _Iyear_1993 _Iyear_1994 _Iyear_1995\n",
      "                    _Iyear_1997 _Iyear_1999 _Iyear_2001 _Iyear_2016 _Iyear_2017\n",
      "                    _Iyear_2018\n",
      "\n",
      "FIXED EFFECTS ESTIMATION\n",
      "------------------------\n",
      "Number of groups =        32                    Obs per group: min =        16\n",
      "                                                               avg =      17.9\n",
      "                                                               max =        18\n",
      "Warning - collinearities detected\n",
      "Vars dropped:  _Iyear_1991 _Iyear_1992 _Iyear_1993 _Iyear_1994 _Iyear_1995\n",
      "               _Iyear_1997 _Iyear_1999 _Iyear_2001 _Iyear_2016 _Iyear_2017\n",
      "               _Iyear_2018\n",
      "\n",
      "2-Step GMM estimation\n",
      "---------------------\n",
      "\n",
      "Estimates efficient for homoskedasticity only\n",
      "Statistics consistent for homoskedasticity only\n",
      "\n",
      "                                                      Number of obs =      573\n",
      "                                                      F( 22,   519) =    55.46\n",
      "                                                      Prob > F      =   0.0000\n",
      "Total (centered) SS     =  7.882060378                Centered R2   =   0.6990\n",
      "Total (uncentered) SS   =  7.882060378                Uncentered R2 =   0.6990\n",
      "Residual SS             =  2.372868688                Root MSE      =   .06623\n",
      "\n",
      "------------------------------------------------------------------------------\n",
      "       lnghg | Coefficient  Std. err.      z    P>|z|     [95% conf. interval]\n",
      "-------------+----------------------------------------------------------------\n",
      "  litigation |  -.0713622   .0328579    -2.17   0.030    -.1357625   -.0069619\n",
      "       lngdp |   2.011617    .253736     7.93   0.000     1.514303     2.50893\n",
      "      lngdp2 |  -.0752439   .0137398    -5.48   0.000    -.1021735   -.0483144\n",
      "lnpopulation |   1.399483   .0837323    16.71   0.000      1.23537    1.563595\n",
      "       lnlaw |  -.0738034   .0186268    -3.96   0.000    -.1103114   -.0372955\n",
      " _Iyear_1991 |          0  (omitted)\n",
      " _Iyear_1992 |          0  (omitted)\n",
      " _Iyear_1993 |          0  (omitted)\n",
      " _Iyear_1994 |          0  (omitted)\n",
      " _Iyear_1995 |          0  (omitted)\n",
      " _Iyear_1996 |   .3609546   .0396018     9.11   0.000     .2833365    .4385727\n",
      " _Iyear_1997 |          0  (omitted)\n",
      " _Iyear_1998 |   .3128461   .0380837     8.21   0.000     .2382035    .3874888\n",
      " _Iyear_1999 |          0  (omitted)\n",
      " _Iyear_2000 |   .2565932   .0363446     7.06   0.000      .185359    .3278273\n",
      " _Iyear_2001 |          0  (omitted)\n",
      " _Iyear_2002 |    .241879   .0350819     6.89   0.000     .1731198    .3106382\n",
      " _Iyear_2003 |   .2385782   .0340827     7.00   0.000     .1717773    .3053791\n",
      " _Iyear_2004 |    .224129   .0331587     6.76   0.000     .1591391    .2891189\n",
      " _Iyear_2005 |   .1997019   .0318556     6.27   0.000      .137266    .2621377\n",
      " _Iyear_2006 |   .1771991   .0302845     5.85   0.000     .1178426    .2365557\n",
      " _Iyear_2007 |   .1724274   .0279929     6.16   0.000     .1175624    .2272923\n",
      " _Iyear_2008 |   .1455506   .0244449     5.95   0.000     .0976394    .1934617\n",
      " _Iyear_2009 |   .1041061   .0229189     4.54   0.000      .059186    .1490262\n",
      " _Iyear_2010 |   .1205462    .020602     5.85   0.000     .0801671    .1609254\n",
      " _Iyear_2011 |   .1010564   .0192153     5.26   0.000     .0633951    .1387178\n",
      " _Iyear_2012 |   .0809018   .0181349     4.46   0.000      .045358    .1164455\n",
      " _Iyear_2013 |   .0577661   .0175828     3.29   0.001     .0233044    .0922278\n",
      " _Iyear_2014 |   .0285877   .0171275     1.67   0.095    -.0049817     .062157\n",
      " _Iyear_2015 |   .0097676   .0166578     0.59   0.558    -.0228811    .0424162\n",
      " _Iyear_2016 |          0  (omitted)\n",
      " _Iyear_2017 |          0  (omitted)\n",
      " _Iyear_2018 |          0  (omitted)\n",
      "------------------------------------------------------------------------------\n",
      "Underidentification test (Anderson canon. corr. LM statistic):          58.832\n",
      "                                                   Chi-sq(2) P-val =    0.0000\n",
      "------------------------------------------------------------------------------\n",
      "Weak identification test (Cragg-Donald Wald F statistic):               31.602\n",
      "Stock-Yogo weak ID test critical values: 10% maximal IV size             19.93\n",
      "                                         15% maximal IV size             11.59\n",
      "                                         20% maximal IV size              8.75\n",
      "                                         25% maximal IV size              7.25\n",
      "Source: Stock-Yogo (2005).  Reproduced by permission.\n",
      "------------------------------------------------------------------------------\n",
      "Sargan statistic (overidentification test of all instruments):           0.292\n",
      "                                                   Chi-sq(1) P-val =    0.5891\n",
      "------------------------------------------------------------------------------\n",
      "Instrumented:         litigation\n",
      "Included instruments: lngdp lngdp2 lnpopulation lnlaw _Iyear_1996 _Iyear_1998\n",
      "                      _Iyear_2000 _Iyear_2002 _Iyear_2003 _Iyear_2004\n",
      "                      _Iyear_2005 _Iyear_2006 _Iyear_2007 _Iyear_2008\n",
      "                      _Iyear_2009 _Iyear_2010 _Iyear_2011 _Iyear_2012\n",
      "                      _Iyear_2013 _Iyear_2014 _Iyear_2015\n",
      "Excluded instruments: F2.fillingdate F.fillingdate\n",
      "Dropped collinear:    _Iyear_1991 _Iyear_1992 _Iyear_1993 _Iyear_1994\n",
      "                      _Iyear_1995 _Iyear_1997 _Iyear_1999 _Iyear_2001\n",
      "                      _Iyear_2016 _Iyear_2017 _Iyear_2018\n",
      "------------------------------------------------------------------------------\n"
     ]
    }
   ],
   "source": [
    "xi:xtivreg2 lnghg lngdp lngdp2 lnpop lnlaw i.year (litigation=l(-2/-1).fillingdate), fe gmm"
   ]
  },
  {
   "cell_type": "markdown",
   "id": "de6bb4da-2d15-4ba1-8fe6-6e28f0f0bcd2",
   "metadata": {},
   "source": [
    "### Table 5\n",
    "Robustness: Exclusion of EIT."
   ]
  },
  {
   "cell_type": "code",
   "execution_count": 16,
   "id": "31ea4870-a06d-4b13-a76d-739397c7f25b",
   "metadata": {},
   "outputs": [],
   "source": [
    "gen EIT=1\n",
    "local non_EIT_countries \"BGR HRV EST LTU POL ROU SVK\"\n",
    "foreach country of local non_EIT_countries {\n",
    "    quietly replace EIT = 0 if country == \"`country'\"\n",
    "}"
   ]
  },
  {
   "cell_type": "code",
   "execution_count": 17,
   "id": "ade001c4-537e-4a22-923a-07ffe221cc82",
   "metadata": {},
   "outputs": [
    {
     "name": "stdout",
     "output_type": "stream",
     "text": [
      "\n",
      "Linear regression                               Number of obs     =        499\n",
      "                                                F(5, 493)         =    2435.53\n",
      "                                                Prob > F          =     0.0000\n",
      "                                                R-squared         =     0.9234\n",
      "                                                Root MSE          =     .42998\n",
      "\n",
      "------------------------------------------------------------------------------\n",
      "             |               Robust\n",
      "       lnghg | Coefficient  std. err.      t    P>|t|     [95% conf. interval]\n",
      "-------------+----------------------------------------------------------------\n",
      "       lngdp |   1.559951   .3545044     4.40   0.000     .8634255    2.256477\n",
      "      lngdp2 |  -.0409589    .018641    -2.20   0.028    -.0775846   -.0043332\n",
      "lnpopulation |   1.032568   .0112994    91.38   0.000     1.010367    1.054768\n",
      "       lnlaw |  -.0475804   .0720267    -0.66   0.509    -.1890976    .0939368\n",
      "  litigation |  -.0428846   .0464876    -0.92   0.357    -.1342229    .0484536\n",
      "       _cons |  -9.947671   1.634099    -6.09   0.000    -13.15833   -6.737013\n",
      "------------------------------------------------------------------------------\n"
     ]
    }
   ],
   "source": [
    "reg lnghg lngdp lngdp2 lnpop lnlaw litigation if EIT==1, robust"
   ]
  },
  {
   "cell_type": "code",
   "execution_count": 18,
   "id": "7fffe3fb-1304-44d4-bd9c-34d5427af09a",
   "metadata": {},
   "outputs": [
    {
     "name": "stdout",
     "output_type": "stream",
     "text": [
      "\n",
      "Fixed-effects (within) regression               Number of obs     =        499\n",
      "Group variable: id                              Number of groups  =         25\n",
      "\n",
      "R-squared:                                      Obs per group:\n",
      "     Within  = 0.7706                                         min =         19\n",
      "     Between = 0.8710                                         avg =       20.0\n",
      "     Overall = 0.8699                                         max =         20\n",
      "\n",
      "                                                F(24, 24)         =    1454.17\n",
      "corr(u_i, Xb) = -0.8295                         Prob > F          =     0.0000\n",
      "\n",
      "                                    (Std. err. adjusted for 25 clusters in id)\n",
      "------------------------------------------------------------------------------\n",
      "             |               Robust\n",
      "       lnghg | Coefficient  std. err.      t    P>|t|     [95% conf. interval]\n",
      "-------------+----------------------------------------------------------------\n",
      "       lngdp |   2.454993   .5380235     4.56   0.000     1.344567    3.565419\n",
      "      lngdp2 |  -.0958326   .0291719    -3.29   0.003    -.1560405   -.0356248\n",
      "lnpopulation |   1.524426   .2680742     5.69   0.000     .9711479    2.077704\n",
      "       lnlaw |  -.0830995   .0295552    -2.81   0.010    -.1440985   -.0221006\n",
      "  litigation |  -.0453271   .0194623    -2.33   0.029    -.0854953   -.0051588\n",
      "             |\n",
      "        year |\n",
      "       1998  |  -.0442595   .0143595    -3.08   0.005     -.073896    -.014623\n",
      "       2000  |  -.0905941   .0254744    -3.56   0.002    -.1431708   -.0380175\n",
      "       2002  |  -.1069958   .0272034    -3.93   0.001    -.1631408   -.0508507\n",
      "       2003  |  -.1132015   .0276962    -4.09   0.000    -.1703636   -.0560393\n",
      "       2004  |  -.1288986   .0354801    -3.63   0.001    -.2021259   -.0556714\n",
      "       2005  |  -.1615988   .0397189    -4.07   0.000    -.2435747    -.079623\n",
      "       2006  |  -.1852239   .0401451    -4.61   0.000    -.2680794   -.1023684\n",
      "       2007  |  -.2009154   .0421771    -4.76   0.000    -.2879647   -.1138661\n",
      "       2008  |  -.2322163    .044095    -5.27   0.000    -.3232239   -.1412086\n",
      "       2009  |  -.2707345   .0440639    -6.14   0.000    -.3616778   -.1797912\n",
      "       2010  |  -.2672144    .043217    -6.18   0.000    -.3564099   -.1780188\n",
      "       2011  |  -.2951357   .0465857    -6.34   0.000    -.3912839   -.1989874\n",
      "       2012  |  -.3135923   .0482239    -6.50   0.000    -.4131215   -.2140632\n",
      "       2013  |  -.3388612   .0484087    -7.00   0.000    -.4387719   -.2389505\n",
      "       2014  |  -.3703843   .0539331    -6.87   0.000    -.4816967   -.2590719\n",
      "       2015  |  -.3946355   .0587724    -6.71   0.000    -.5159357   -.2733352\n",
      "       2016  |  -.4070614   .0612497    -6.65   0.000    -.5334745   -.2806482\n",
      "       2017  |  -.4204378    .068116    -6.17   0.000    -.5610224   -.2798533\n",
      "       2018  |  -.4410143   .0684624    -6.44   0.000    -.5823138   -.2997148\n",
      "             |\n",
      "       _cons |  -21.19908    4.59144    -4.62   0.000    -30.67535   -11.72282\n",
      "-------------+----------------------------------------------------------------\n",
      "     sigma_u |  1.0102824\n",
      "     sigma_e |  .06877571\n",
      "         rho |  .99538707   (fraction of variance due to u_i)\n",
      "------------------------------------------------------------------------------\n"
     ]
    }
   ],
   "source": [
    "xtreg lnghg lngdp lngdp2 lnpop lnlaw litigation i.year if EIT==1,fe robust"
   ]
  },
  {
   "cell_type": "markdown",
   "id": "2725ad83-603e-4937-b8a2-c389bdd516fe",
   "metadata": {},
   "source": [
    "### Table 6\n",
    "Robustness: Only European countries."
   ]
  },
  {
   "cell_type": "code",
   "execution_count": 19,
   "id": "0d3f6a20-87c2-4e15-875f-6f4a595251cd",
   "metadata": {},
   "outputs": [],
   "source": [
    "gen EU=1\n",
    "local non_EU_countries \"CAN CRI FJI IND KEN NZL PAK PHL AUS NPL\"\n",
    "foreach country of local non_EU_countries {\n",
    "    quietly replace EU = 0 if country == \"`country'\"\n",
    "}"
   ]
  },
  {
   "cell_type": "code",
   "execution_count": 20,
   "id": "106be40a-9511-4d52-b558-8741715d7f64",
   "metadata": {},
   "outputs": [
    {
     "name": "stdout",
     "output_type": "stream",
     "text": [
      "\n",
      "Linear regression                               Number of obs     =        440\n",
      "                                                F(5, 434)         =    1610.12\n",
      "                                                Prob > F          =     0.0000\n",
      "                                                R-squared         =     0.9497\n",
      "                                                Root MSE          =     .27774\n",
      "\n",
      "------------------------------------------------------------------------------\n",
      "             |               Robust\n",
      "       lnghg | Coefficient  std. err.      t    P>|t|     [95% conf. interval]\n",
      "-------------+----------------------------------------------------------------\n",
      "       lngdp |  -5.469029   .7243627    -7.55   0.000    -6.892724   -4.045333\n",
      "      lngdp2 |    .270321   .0345623     7.82   0.000     .2023906    .3382514\n",
      "lnpopulation |   .9592662   .0115746    82.88   0.000      .936517    .9820154\n",
      "       lnlaw |   .2054986   .0580232     3.54   0.000     .0914571      .31954\n",
      "  litigation |  -.0346855   .0275774    -1.26   0.209    -.0888873    .0195163\n",
      "       _cons |   29.54363    3.59818     8.21   0.000     22.47161    36.61566\n",
      "------------------------------------------------------------------------------\n"
     ]
    }
   ],
   "source": [
    "reg lnghg lngdp lngdp2 lnpop lnlaw litigation if EU==1, robust"
   ]
  },
  {
   "cell_type": "code",
   "execution_count": 21,
   "id": "d1e1b48a-11ba-4b9e-abdd-f83eb608e957",
   "metadata": {},
   "outputs": [
    {
     "name": "stdout",
     "output_type": "stream",
     "text": [
      "\n",
      "Fixed-effects (within) regression               Number of obs     =        440\n",
      "Group variable: id                              Number of groups  =         22\n",
      "\n",
      "R-squared:                                      Obs per group:\n",
      "     Within  = 0.7050                                         min =         20\n",
      "     Between = 0.8142                                         avg =       20.0\n",
      "     Overall = 0.8057                                         max =         20\n",
      "\n",
      "                                                F(21, 21)         =          .\n",
      "corr(u_i, Xb) = 0.7442                          Prob > F          =          .\n",
      "\n",
      "                                    (Std. err. adjusted for 22 clusters in id)\n",
      "------------------------------------------------------------------------------\n",
      "             |               Robust\n",
      "       lnghg | Coefficient  std. err.      t    P>|t|     [95% conf. interval]\n",
      "-------------+----------------------------------------------------------------\n",
      "       lngdp |  -3.258662   .7719596    -4.22   0.000     -4.86404   -1.653284\n",
      "      lngdp2 |    .182269   .0385158     4.73   0.000     .1021711     .262367\n",
      "lnpopulation |   .3876366   .2064532     1.88   0.074    -.0417064    .8169795\n",
      "       lnlaw |  -.1240958   .0264185    -4.70   0.000    -.1790362   -.0691554\n",
      "  litigation |  -.0291008   .0159542    -1.82   0.082    -.0622793    .0040778\n",
      "             |\n",
      "        year |\n",
      "       1998  |  -.0555352    .020075    -2.77   0.012    -.0972835   -.0137868\n",
      "       2000  |  -.1220954   .0312865    -3.90   0.001    -.1871592   -.0570316\n",
      "       2002  |  -.1109197   .0324728    -3.42   0.003    -.1784507   -.0433888\n",
      "       2003  |  -.0894851   .0312576    -2.86   0.009    -.1544889   -.0244814\n",
      "       2004  |  -.1044781   .0355096    -2.94   0.008    -.1783245   -.0306318\n",
      "       2005  |  -.1264631   .0417608    -3.03   0.006    -.2133093   -.0396168\n",
      "       2006  |  -.1498218    .041942    -3.57   0.002    -.2370449   -.0625987\n",
      "       2007  |  -.1647118   .0448667    -3.67   0.001    -.2580173   -.0714064\n",
      "       2008  |  -.1899582   .0466482    -4.07   0.001    -.2869685   -.0929479\n",
      "       2009  |  -.2369297      .0467    -5.07   0.000    -.3340477   -.1398118\n",
      "       2010  |  -.2078218   .0431117    -4.82   0.000    -.2974775    -.118166\n",
      "       2011  |  -.2422515   .0456341    -5.31   0.000    -.3371529   -.1473502\n",
      "       2012  |  -.2654543   .0452437    -5.87   0.000    -.3595437   -.1713649\n",
      "       2013  |   -.289992   .0451968    -6.42   0.000    -.3839839   -.1960001\n",
      "       2014  |  -.3345179   .0492781    -6.79   0.000    -.4369974   -.2320385\n",
      "       2015  |  -.3518086   .0566107    -6.21   0.000     -.469537   -.2340802\n",
      "       2016  |  -.3661191   .0567826    -6.45   0.000    -.4842049   -.2480332\n",
      "       2017  |  -.3794107   .0637023    -5.96   0.000     -.511887   -.2469345\n",
      "       2018  |  -.4069413   .0622537    -6.54   0.000    -.5364049   -.2774777\n",
      "             |\n",
      "       _cons |   27.02992   6.075784     4.45   0.000     14.39463     39.6652\n",
      "-------------+----------------------------------------------------------------\n",
      "     sigma_u |    .825668\n",
      "     sigma_e |  .06088252\n",
      "         rho |  .99459222   (fraction of variance due to u_i)\n",
      "------------------------------------------------------------------------------\n"
     ]
    }
   ],
   "source": [
    "xtreg lnghg lngdp lngdp2 lnpop lnlaw litigation i.year if EU==1,fe robust"
   ]
  }
 ],
 "metadata": {
  "kernelspec": {
   "display_name": "Stata",
   "language": "stata",
   "name": "stata"
  },
  "language_info": {
   "codemirror_mode": "stata",
   "file_extension": ".do",
   "mimetype": "text/x-stata",
   "name": "stata",
   "version": "15.1"
  }
 },
 "nbformat": 4,
 "nbformat_minor": 5
}
