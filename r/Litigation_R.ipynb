{
 "cells": [
  {
   "cell_type": "markdown",
   "id": "de1e290a-bfab-4667-a768-e174ec57eb04",
   "metadata": {},
   "source": [
    "# The Impact of Litigations on GHG Emissions\n",
    "* \"litigation\" from [Graham Institute](https://climate-laws.org/legislation_and_policies), takes the value of 1 when the first case related to environmental laws was solved in a given year, independently of the result\n",
    "* \"rule of law\" from World Bank\n",
    "* Sample excludes the US, and includes all countries for which there has been at least a case with a resolution: 23 countries, mostly HI and MI countries"
   ]
  },
  {
   "cell_type": "code",
   "execution_count": 1,
   "id": "715c4dee-c289-4dad-815f-60cd17464e65",
   "metadata": {},
   "outputs": [
    {
     "name": "stderr",
     "output_type": "stream",
     "text": [
      "Loading required package: zoo\n",
      "\n"
     ]
    }
   ],
   "source": [
    "options(conflicts.policy = list(warn = FALSE))\n",
    "library(\"dplyr\")\n",
    "library(\"estimatr\")\n",
    "library(\"lmtest\")\n",
    "library(\"plm\")\n",
    "library(\"readr\")\n",
    "library(\"rstatix\")"
   ]
  },
  {
   "cell_type": "code",
   "execution_count": 2,
   "id": "799210a7-c24d-43f6-a1fb-d7df70af28d3",
   "metadata": {},
   "outputs": [],
   "source": [
    "my_data <- read_csv(\"litigation.csv\", show_col_types = 'FALSE')"
   ]
  },
  {
   "cell_type": "code",
   "execution_count": 3,
   "id": "13ed4bfd-45f0-4c6d-aa5e-abd02597ca27",
   "metadata": {
    "scrolled": true
   },
   "outputs": [],
   "source": [
    "# egen id = group(country)\n",
    "my_data <- my_data %>% group_by(country) %>% mutate(id = cur_group_id())"
   ]
  },
  {
   "cell_type": "code",
   "execution_count": 4,
   "id": "5c13e04b-9972-439c-b149-affa0d31395b",
   "metadata": {},
   "outputs": [
    {
     "data": {
      "text/html": [
       "TRUE"
      ],
      "text/latex": [
       "TRUE"
      ],
      "text/markdown": [
       "TRUE"
      ],
      "text/plain": [
       "[1] TRUE"
      ]
     },
     "metadata": {},
     "output_type": "display_data"
    }
   ],
   "source": [
    "# xtset id year\n",
    "plm::is.pbalanced(my_data$id, my_data$year)"
   ]
  },
  {
   "cell_type": "code",
   "execution_count": 5,
   "id": "531cdc67-a2ca-40b7-aee0-0ae8bbcac57d",
   "metadata": {},
   "outputs": [],
   "source": [
    "my_data$lnghg <- log(my_data$ghg)\n",
    "my_data$lngdp <- log(my_data$gdp)\n",
    "my_data$lngdp2 <- log(my_data$gdp)^2\n",
    "my_data$lnpopulation <- log(my_data$population)\n",
    "my_data$lnlaw <- log(my_data$ruleoflaw)"
   ]
  },
  {
   "cell_type": "code",
   "execution_count": 6,
   "id": "bc46d3f8-0174-4aab-bcc9-260ac267bf69",
   "metadata": {},
   "outputs": [
    {
     "data": {
      "text/plain": [
       " my_data.lnghg   my_data.lngdp    my_data.lngdp2   my_data.lnpopulation\n",
       " Min.   :14.41   Min.   : 7.388   Min.   : 54.58   Min.   :12.85       \n",
       " 1st Qu.:17.64   1st Qu.: 9.420   1st Qu.: 88.74   1st Qu.:15.45       \n",
       " Median :18.27   Median :10.323   Median :106.56   Median :16.39       \n",
       " Mean   :18.49   Mean   : 9.986   Mean   :100.67   Mean   :16.52       \n",
       " 3rd Qu.:19.83   3rd Qu.:10.677   3rd Qu.:114.00   3rd Qu.:17.65       \n",
       " Max.   :21.94   Max.   :11.701   Max.   :136.90   Max.   :21.03       \n",
       "                 NA's   :23       NA's   :23                           \n",
       " my_data.lnlaw  \n",
       " Min.   :2.664  \n",
       " 1st Qu.:3.990  \n",
       " Median :4.367  \n",
       " Mean   :4.184  \n",
       " 3rd Qu.:4.553  \n",
       " Max.   :4.605  \n",
       " NA's   :288    "
      ]
     },
     "metadata": {},
     "output_type": "display_data"
    }
   ],
   "source": [
    "# sum lnghg lngdp lngdp2 lnpop lnlaw litigation\n",
    "d <- data.frame(my_data$lnghg, my_data$lngdp, my_data$lngdp2, my_data$lnpopulation, my_data$lnlaw)\n",
    "summary(d)"
   ]
  },
  {
   "cell_type": "markdown",
   "id": "9eac887b-f433-44b2-a226-32cca151b094",
   "metadata": {},
   "source": [
    "### Table 3"
   ]
  },
  {
   "cell_type": "code",
   "execution_count": 7,
   "id": "a4652a80-5476-4f34-abca-ef0f37b2c429",
   "metadata": {},
   "outputs": [
    {
     "data": {
      "text/plain": [
       "\n",
       "Call:\n",
       "estimatr::lm_robust(formula = lnghg ~ lngdp + lngdp2 + lnpopulation + \n",
       "    lnlaw + litigation, data = my_data, se_type = \"stata\")\n",
       "\n",
       "Standard error type:  HC1 \n",
       "\n",
       "Coefficients:\n",
       "              Estimate Std. Error t value  Pr(>|t|)  CI Lower  CI Upper  DF\n",
       "(Intercept)  -14.22820    1.44345  -9.857 2.027e-21 -17.06273 -11.39367 633\n",
       "lngdp          2.57894    0.30684   8.405 2.832e-16   1.97639   3.18150 633\n",
       "lngdp2        -0.09856    0.01627  -6.056 2.387e-09  -0.13052  -0.06661 633\n",
       "lnpopulation   0.99947    0.01131  88.391 0.000e+00   0.97727   1.02168 633\n",
       "lnlaw          0.07553    0.06750   1.119 2.636e-01  -0.05702   0.20807 633\n",
       "litigation    -0.04786    0.03651  -1.311 1.903e-01  -0.11955   0.02382 633\n",
       "\n",
       "Multiple R-squared:  0.9221 ,\tAdjusted R-squared:  0.9215 \n",
       "F-statistic:  1930 on 5 and 633 DF,  p-value: < 2.2e-16"
      ]
     },
     "metadata": {},
     "output_type": "display_data"
    }
   ],
   "source": [
    "# reg lnghg lngdp lngdp2 lnpopulation lnlaw litigation , robust\n",
    "mod2 <-estimatr::lm_robust(lnghg ~ lngdp + lngdp2 + lnpopulation + lnlaw + litigation, data = my_data, se_type = \"stata\")\n",
    "summary(mod2)"
   ]
  },
  {
   "cell_type": "code",
   "execution_count": 8,
   "id": "5807d9d2-5f79-451f-b3e6-c195dc20bb22",
   "metadata": {},
   "outputs": [
    {
     "data": {
      "text/plain": [
       "Twoways effects Within Model\n",
       "\n",
       "Note: Coefficient variance-covariance matrix supplied: plm::vcovHC(modfe)\n",
       "\n",
       "Call:\n",
       "plm::plm(formula = lnghg ~ lngdp + lngdp2 + lnpopulation + lnlaw + \n",
       "    litigation, data = my_data, effect = \"twoways\", model = \"within\", \n",
       "    index = c(\"id\", \"year\"))\n",
       "\n",
       "Unbalanced Panel: n = 32, T = 19-20, N = 639\n",
       "\n",
       "Residuals:\n",
       "      Min.    1st Qu.     Median    3rd Qu.       Max. \n",
       "-0.2205138 -0.0372824 -0.0013006  0.0396659  0.1973966 \n",
       "\n",
       "Coefficients:\n",
       "              Estimate Std. Error t-value  Pr(>|t|)    \n",
       "lngdp         2.457919   0.530010  4.6375 4.357e-06 ***\n",
       "lngdp2       -0.096579   0.028671 -3.3685 0.0008057 ***\n",
       "lnpopulation  1.429588   0.172184  8.3027 7.123e-16 ***\n",
       "lnlaw        -0.069259   0.034396 -2.0135 0.0445173 *  \n",
       "litigation   -0.034449   0.015895 -2.1673 0.0306194 *  \n",
       "---\n",
       "Signif. codes:  0 ‘***’ 0.001 ‘**’ 0.01 ‘*’ 0.05 ‘.’ 0.1 ‘ ’ 1\n",
       "\n",
       "Total Sum of Squares:    9.9414\n",
       "Residual Sum of Squares: 2.8429\n",
       "R-Squared:      0.71404\n",
       "Adj. R-Squared: 0.68706\n",
       "F-statistic: 55.0814 on 5 and 31 DF, p-value: 1.6815e-14"
      ]
     },
     "metadata": {},
     "output_type": "display_data"
    }
   ],
   "source": [
    "# xtreg lnghg lngdp lngdp2 lnpopulation lnlaw litigation i.year, fe robust\n",
    "\n",
    "modfe <- plm::plm(lnghg ~ lngdp + lngdp2 + lnpopulation + lnlaw + litigation,\n",
    "                  index = c(\"id\", \"year\"), model=\"within\", effect='twoways', data = my_data)\n",
    "summary(modfe, vcov=plm::vcovHC(modfe))"
   ]
  },
  {
   "cell_type": "code",
   "execution_count": 9,
   "id": "9e4eda0e-77a4-4b79-961a-ba36447033c8",
   "metadata": {},
   "outputs": [],
   "source": [
    "HI <- my_data$country %in% c('BEL', 'AUS', 'CAN', 'CHE', 'DEU', 'ESP', 'EST', 'FIN', \n",
    "                             'FRA', 'GBR', 'GRC', 'HRV', 'ITA', 'LTU', 'LUX', 'NLD', \n",
    "                             'NOR', 'NZL', 'POL', 'PRT', 'SVK', 'SWE', 'ROU')\n",
    "my_data$HITRUE_litigation <- HI * my_data$litigation\n",
    "my_data$HIFALSE_litigation <- (1-HI) * my_data$litigation"
   ]
  },
  {
   "cell_type": "code",
   "execution_count": 10,
   "id": "bfef46e3-1a55-4c3c-8bd3-bc70347682d1",
   "metadata": {},
   "outputs": [
    {
     "data": {
      "text/plain": [
       "\n",
       "Call:\n",
       "estimatr::lm_robust(formula = lnghg ~ lngdp + lngdp2 + lnpopulation + \n",
       "    lnlaw + HITRUE_litigation + HIFALSE_litigation, data = my_data, \n",
       "    se_type = \"stata\")\n",
       "\n",
       "Standard error type:  HC1 \n",
       "\n",
       "Coefficients:\n",
       "                    Estimate Std. Error t value  Pr(>|t|)  CI Lower   CI Upper\n",
       "(Intercept)        -13.99222    1.43584  -9.745 5.337e-21 -16.81181 -11.172628\n",
       "lngdp                2.51508    0.30694   8.194 1.404e-15   1.91235   3.117820\n",
       "lngdp2              -0.09540    0.01625  -5.870 7.057e-09  -0.12732  -0.063484\n",
       "lnpopulation         0.99783    0.01136  87.809 0.000e+00   0.97551   1.020140\n",
       "lnlaw                0.10214    0.06986   1.462 1.442e-01  -0.03504   0.239321\n",
       "HITRUE_litigation   -0.07211    0.03908  -1.845 6.551e-02  -0.14886   0.004642\n",
       "HIFALSE_litigation   0.08685    0.07225   1.202 2.298e-01  -0.05503   0.228719\n",
       "                    DF\n",
       "(Intercept)        632\n",
       "lngdp              632\n",
       "lngdp2             632\n",
       "lnpopulation       632\n",
       "lnlaw              632\n",
       "HITRUE_litigation  632\n",
       "HIFALSE_litigation 632\n",
       "\n",
       "Multiple R-squared:  0.9225 ,\tAdjusted R-squared:  0.9218 \n",
       "F-statistic:  1642 on 6 and 632 DF,  p-value: < 2.2e-16"
      ]
     },
     "metadata": {},
     "output_type": "display_data"
    }
   ],
   "source": [
    "# reg lnghg lngdp lngdp2 lnpopulation lnlaw HI#c.litigation, robust\n",
    "\n",
    "mod2 <-estimatr::lm_robust(lnghg ~ lngdp + lngdp2 + lnpopulation + lnlaw + HITRUE_litigation + HIFALSE_litigation, data = my_data, se_type = \"stata\")\n",
    "summary(mod2)"
   ]
  },
  {
   "cell_type": "code",
   "execution_count": 11,
   "id": "407290b7-f128-4af0-8328-b9e42b2421cc",
   "metadata": {},
   "outputs": [
    {
     "data": {
      "text/plain": [
       "Twoways effects Within Model\n",
       "\n",
       "Note: Coefficient variance-covariance matrix supplied: plm::vcovHC(modfe)\n",
       "\n",
       "Call:\n",
       "plm::plm(formula = lnghg ~ lngdp + lngdp2 + lnpopulation + lnlaw + \n",
       "    HITRUE_litigation + HIFALSE_litigation, data = my_data, effect = \"twoways\", \n",
       "    model = \"within\", index = c(\"id\", \"year\"))\n",
       "\n",
       "Unbalanced Panel: n = 32, T = 19-20, N = 639\n",
       "\n",
       "Residuals:\n",
       "       Min.     1st Qu.      Median     3rd Qu.        Max. \n",
       "-0.22312652 -0.03797838 -0.00071444  0.03988400  0.20408018 \n",
       "\n",
       "Coefficients:\n",
       "                    Estimate Std. Error t-value  Pr(>|t|)    \n",
       "lngdp               2.326192   0.502026  4.6336 4.438e-06 ***\n",
       "lngdp2             -0.090108   0.027112 -3.3236 0.0009445 ***\n",
       "lnpopulation        1.430751   0.175797  8.1387 2.433e-15 ***\n",
       "lnlaw              -0.069230   0.035009 -1.9775 0.0484574 *  \n",
       "HITRUE_litigation  -0.040771   0.018069 -2.2564 0.0244154 *  \n",
       "HIFALSE_litigation -0.010867   0.035185 -0.3088 0.7575470    \n",
       "---\n",
       "Signif. codes:  0 ‘***’ 0.001 ‘**’ 0.01 ‘*’ 0.05 ‘.’ 0.1 ‘ ’ 1\n",
       "\n",
       "Total Sum of Squares:    9.9414\n",
       "Residual Sum of Squares: 2.8315\n",
       "R-Squared:      0.71518\n",
       "Adj. R-Squared: 0.68778\n",
       "F-statistic: 46.003 on 6 and 31 DF, p-value: 4.3452e-14"
      ]
     },
     "metadata": {},
     "output_type": "display_data"
    }
   ],
   "source": [
    "# xtreg lnghg lngdp lngdp2 lnpopulation lnlaw HI#c.litigation i.year, fe robust\n",
    "\n",
    "modfe <- plm::plm(lnghg ~ lngdp + lngdp2 + lnpopulation + lnlaw + HITRUE_litigation + HIFALSE_litigation,\n",
    "                  index = c(\"id\", \"year\"), model=\"within\", effect='twoways', data = my_data)\n",
    "summary(modfe, vcov=plm::vcovHC(modfe))"
   ]
  },
  {
   "cell_type": "code",
   "execution_count": null,
   "id": "9fb0f358-cfe3-4cef-b0c6-fa58bd6d58f9",
   "metadata": {},
   "outputs": [],
   "source": []
  }
 ],
 "metadata": {
  "kernelspec": {
   "display_name": "R",
   "language": "R",
   "name": "ir"
  },
  "language_info": {
   "codemirror_mode": "r",
   "file_extension": ".r",
   "mimetype": "text/x-r-source",
   "name": "R",
   "pygments_lexer": "r",
   "version": "4.3.1"
  }
 },
 "nbformat": 4,
 "nbformat_minor": 5
}
