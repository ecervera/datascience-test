{
 "cells": [
  {
   "cell_type": "markdown",
   "id": "de1e290a-bfab-4667-a768-e174ec57eb04",
   "metadata": {},
   "source": [
    "# The Impact of Litigations on GHG Emissions\n",
    "* \"litigation\" from [Graham Institute](https://climate-laws.org/legislation_and_policies), takes the value of 1 when the first case related to environmental laws was solved in a given year, independently of the result\n",
    "* \"rule of law\" from World Bank\n",
    "* Sample excludes the US, and includes all countries for which there has been at least a case with a resolution: 23 countries, mostly HI and MI countries"
   ]
  },
  {
   "cell_type": "markdown",
   "id": "fc95e4f4-f05b-4268-87cd-c51604b694b5",
   "metadata": {},
   "source": [
    "##### Load R packages"
   ]
  },
  {
   "cell_type": "code",
   "execution_count": 1,
   "id": "715c4dee-c289-4dad-815f-60cd17464e65",
   "metadata": {},
   "outputs": [
    {
     "name": "stderr",
     "output_type": "stream",
     "text": [
      "Loading required package: sandwich\n",
      "\n",
      "Loading required package: zoo\n",
      "\n"
     ]
    }
   ],
   "source": [
    "options(conflicts.policy = list(warn = FALSE))\n",
    "library(\"dplyr\")\n",
    "library(\"estimatr\")\n",
    "library(\"fixest\")\n",
    "library(\"ggplot2\")\n",
    "library(\"gmm\")\n",
    "library(\"lmtest\")\n",
    "library(\"plm\")\n",
    "library(\"readr\")\n",
    "library(\"rstatix\")"
   ]
  },
  {
   "cell_type": "markdown",
   "id": "adfb390b-08ad-4bba-8d56-a4cd5fe98bf8",
   "metadata": {},
   "source": [
    "##### Read data"
   ]
  },
  {
   "cell_type": "code",
   "execution_count": 2,
   "id": "799210a7-c24d-43f6-a1fb-d7df70af28d3",
   "metadata": {},
   "outputs": [],
   "source": [
    "my_data <- read_csv(\"../data/litigclean_eps.csv\", show_col_types = 'FALSE')"
   ]
  },
  {
   "cell_type": "markdown",
   "id": "6f91920d-81a9-4304-8cb4-80521f92cb6c",
   "metadata": {},
   "source": [
    "##### Define Country_ID as numerical"
   ]
  },
  {
   "cell_type": "code",
   "execution_count": 3,
   "id": "13ed4bfd-45f0-4c6d-aa5e-abd02597ca27",
   "metadata": {
    "scrolled": true
   },
   "outputs": [],
   "source": [
    "# egen id = group(country)\n",
    "my_data <- my_data %>% group_by(country) %>% mutate(id = cur_group_id())"
   ]
  },
  {
   "cell_type": "code",
   "execution_count": 4,
   "id": "5c13e04b-9972-439c-b149-affa0d31395b",
   "metadata": {},
   "outputs": [
    {
     "data": {
      "text/html": [
       "TRUE"
      ],
      "text/latex": [
       "TRUE"
      ],
      "text/markdown": [
       "TRUE"
      ],
      "text/plain": [
       "[1] TRUE"
      ]
     },
     "metadata": {},
     "output_type": "display_data"
    }
   ],
   "source": [
    "# xtset id year\n",
    "plm::is.pbalanced(my_data$id, my_data$year)"
   ]
  },
  {
   "cell_type": "markdown",
   "id": "3b2e0c8f-6a5f-42db-b9ba-a627c3f49fe0",
   "metadata": {},
   "source": [
    "##### Creation of log values"
   ]
  },
  {
   "cell_type": "code",
   "execution_count": 5,
   "id": "531cdc67-a2ca-40b7-aee0-0ae8bbcac57d",
   "metadata": {},
   "outputs": [],
   "source": [
    "my_data$lnghg <- log(my_data$ghg)\n",
    "my_data$lngdp <- log(my_data$gdp)\n",
    "my_data$lngdp2 <- log(my_data$gdp)^2\n",
    "my_data$lnpopulation <- log(my_data$population)\n",
    "my_data$lnlaw <- log(my_data$ruleoflaw)"
   ]
  },
  {
   "cell_type": "markdown",
   "id": "c21d7f05-9971-42e8-83fe-b194c3ac83a8",
   "metadata": {},
   "source": [
    "##### Definition of High-Income and Middle-Income countries"
   ]
  },
  {
   "cell_type": "code",
   "execution_count": 6,
   "id": "5f92e318-54b3-4265-95a6-5fd4161a7507",
   "metadata": {},
   "outputs": [],
   "source": [
    "HI <- my_data$country %in% c('BEL', 'AUS', 'CAN', 'CHE', 'DEU', 'ESP', 'EST', 'FIN', \n",
    "                             'FRA', 'GBR', 'GRC', 'HRV', 'ITA', 'LTU', 'LUX', 'NLD', \n",
    "                             'NOR', 'NZL', 'POL', 'PRT', 'SVK', 'SWE', 'ROU')\n"
   ]
  },
  {
   "cell_type": "code",
   "execution_count": 7,
   "id": "282cec7b-23e5-49e2-8c88-ae0e505c403c",
   "metadata": {},
   "outputs": [],
   "source": [
    "MI <- my_data$country %in% c('BGR', 'CRI', 'FJI', 'IND', 'KEN', \n",
    "                             'PAK', 'NPL', 'PHL', 'UKR')"
   ]
  },
  {
   "cell_type": "markdown",
   "id": "0926c02a-bf30-4a9a-9c42-d8f7e6fbd2fd",
   "metadata": {},
   "source": [
    "(2) TW-FE"
   ]
  },
  {
   "cell_type": "code",
   "execution_count": 8,
   "id": "5807d9d2-5f79-451f-b3e6-c195dc20bb22",
   "metadata": {},
   "outputs": [
    {
     "data": {
      "text/plain": [
       "Twoways effects Within Model\n",
       "\n",
       "Note: Coefficient variance-covariance matrix supplied: plm::vcovHC(modfe)\n",
       "\n",
       "Call:\n",
       "plm::plm(formula = lnghg ~ lngdp + lngdp2 + lnpopulation + lnlaw + \n",
       "    litigation + eps, data = my_data, effect = \"twoways\", model = \"within\", \n",
       "    index = c(\"id\", \"year\"))\n",
       "\n",
       "Unbalanced Panel: n = 18, T = 19-20, N = 359\n",
       "\n",
       "Residuals:\n",
       "      Min.    1st Qu.     Median    3rd Qu.       Max. \n",
       "-0.1856773 -0.0348761 -0.0014917  0.0337854  0.1519308 \n",
       "\n",
       "Coefficients:\n",
       "              Estimate Std. Error t-value  Pr(>|t|)    \n",
       "lngdp         2.345554   0.409284  5.7309 2.331e-08 ***\n",
       "lngdp2       -0.094936   0.023563 -4.0291 7.020e-05 ***\n",
       "lnpopulation  1.244627   0.243557  5.1102 5.581e-07 ***\n",
       "lnlaw        -0.119600   0.018605 -6.4282 4.758e-10 ***\n",
       "litigation   -0.031540   0.015878 -1.9863   0.04786 *  \n",
       "eps          -0.027488   0.020243 -1.3579   0.17546    \n",
       "---\n",
       "Signif. codes:  0 ‘***’ 0.001 ‘**’ 0.01 ‘*’ 0.05 ‘.’ 0.1 ‘ ’ 1\n",
       "\n",
       "Total Sum of Squares:    3.3802\n",
       "Residual Sum of Squares: 1.0695\n",
       "R-Squared:      0.68359\n",
       "Adj. R-Squared: 0.64154\n",
       "F-statistic: 241.278 on 6 and 17 DF, p-value: 1.7332e-15"
      ]
     },
     "metadata": {},
     "output_type": "display_data"
    }
   ],
   "source": [
    "# xtreg lnghg lngdp lngdp2 lnpop lnlaw litigation eps i.year, fe robust\n",
    "\n",
    "modfe <- plm::plm(lnghg ~ lngdp + lngdp2 + lnpopulation + lnlaw + litigation + eps,\n",
    "                  index = c(\"id\", \"year\"), model=\"within\", effect='twoways', \n",
    "                  data = my_data)\n",
    "summary(modfe, vcov=plm::vcovHC(modfe))"
   ]
  },
  {
   "cell_type": "code",
   "execution_count": 9,
   "id": "fef201f2-f3ab-414f-b090-723fb86187bc",
   "metadata": {},
   "outputs": [
    {
     "data": {
      "text/plain": [
       "Twoways effects Within Model\n",
       "\n",
       "Note: Coefficient variance-covariance matrix supplied: plm::vcovHC(modfe)\n",
       "\n",
       "Call:\n",
       "plm::plm(formula = lnghg ~ lngdp + lngdp2 + lnpopulation + lnlaw + \n",
       "    litigation + eps_mk + eps_nm + eps_ts, data = my_data, effect = \"twoways\", \n",
       "    model = \"within\", index = c(\"id\", \"year\"))\n",
       "\n",
       "Unbalanced Panel: n = 18, T = 19-20, N = 359\n",
       "\n",
       "Residuals:\n",
       "      Min.    1st Qu.     Median    3rd Qu.       Max. \n",
       "-0.1824098 -0.0348066 -0.0019761  0.0342712  0.1553823 \n",
       "\n",
       "Coefficients:\n",
       "               Estimate Std. Error t-value  Pr(>|t|)    \n",
       "lngdp         2.2480150  0.3838961  5.8558 1.196e-08 ***\n",
       "lngdp2       -0.0898721  0.0229929 -3.9087 0.0001137 ***\n",
       "lnpopulation  1.2895690  0.2298957  5.6094 4.458e-08 ***\n",
       "lnlaw        -0.1177078  0.0210098 -5.6025 4.622e-08 ***\n",
       "litigation   -0.0350416  0.0161779 -2.1660 0.0310617 *  \n",
       "eps_mk       -0.0282713  0.0214096 -1.3205 0.1876308    \n",
       "eps_nm       -0.0034705  0.0070854 -0.4898 0.6246115    \n",
       "eps_ts       -0.0082549  0.0098566 -0.8375 0.4029444    \n",
       "---\n",
       "Signif. codes:  0 ‘***’ 0.001 ‘**’ 0.01 ‘*’ 0.05 ‘.’ 0.1 ‘ ’ 1\n",
       "\n",
       "Total Sum of Squares:    3.3802\n",
       "Residual Sum of Squares: 1.053\n",
       "R-Squared:      0.68847\n",
       "Adj. R-Squared: 0.64482\n",
       "F-statistic: 227.721 on 8 and 17 DF, p-value: 9.5714e-16"
      ]
     },
     "metadata": {},
     "output_type": "display_data"
    }
   ],
   "source": [
    "# xtreg lnghg lngdp lngdp2 lnpop lnlaw litigation eps_* i.year,fe robust\n",
    "\n",
    "modfe <- plm::plm(lnghg ~ lngdp + lngdp2 + lnpopulation + lnlaw + litigation + eps_mk + eps_nm + eps_ts,\n",
    "                  index = c(\"id\", \"year\"), model=\"within\", effect='twoways', \n",
    "                  data = my_data)\n",
    "summary(modfe, vcov=plm::vcovHC(modfe))"
   ]
  },
  {
   "cell_type": "code",
   "execution_count": 11,
   "id": "6be0d735-1910-4fd6-9072-b7688ef04740",
   "metadata": {},
   "outputs": [
    {
     "data": {
      "text/plain": [
       "Twoways effects Within Model\n",
       "\n",
       "Note: Coefficient variance-covariance matrix supplied: plm::vcovHC(modfe)\n",
       "\n",
       "Call:\n",
       "plm::plm(formula = lnghg ~ lngdp + lngdp2 + lnpopulation + lnlaw + \n",
       "    litigation + eps_mk + eps_nm + eps_ts + lnlaw_eps_mk + lnlaw_eps_nm + \n",
       "    lnlaw_eps_ts, data = my_data, effect = \"twoways\", model = \"within\", \n",
       "    index = c(\"id\", \"year\"))\n",
       "\n",
       "Unbalanced Panel: n = 18, T = 19-20, N = 359\n",
       "\n",
       "Residuals:\n",
       "       Min.     1st Qu.      Median     3rd Qu.        Max. \n",
       "-0.17997882 -0.03514777 -0.00074481  0.03414351  0.14014233 \n",
       "\n",
       "Coefficients:\n",
       "              Estimate Std. Error t-value  Pr(>|t|)    \n",
       "lngdp         2.588482   0.654524  3.9548 9.492e-05 ***\n",
       "lngdp2       -0.105623   0.037091 -2.8477  0.004697 ** \n",
       "lnpopulation  1.120063   0.232115  4.8255 2.192e-06 ***\n",
       "lnlaw        -0.366093   0.144774 -2.5287  0.011942 *  \n",
       "litigation   -0.030877   0.015830 -1.9505  0.052019 .  \n",
       "eps_mk       -0.338599   0.178957 -1.8921  0.059411 .  \n",
       "eps_nm       -0.125692   0.068677 -1.8302  0.068177 .  \n",
       "eps_ts       -0.055443   0.194644 -0.2848  0.775952    \n",
       "lnlaw_eps_mk  0.069831   0.041331  1.6895  0.092116 .  \n",
       "lnlaw_eps_nm  0.028656   0.016729  1.7129  0.087719 .  \n",
       "lnlaw_eps_ts  0.010546   0.043599  0.2419  0.809021    \n",
       "---\n",
       "Signif. codes:  0 ‘***’ 0.001 ‘**’ 0.01 ‘*’ 0.05 ‘.’ 0.1 ‘ ’ 1\n",
       "\n",
       "Total Sum of Squares:    3.3802\n",
       "Residual Sum of Squares: 1.0314\n",
       "R-Squared:      0.69488\n",
       "Adj. R-Squared: 0.64877\n",
       "F-statistic: 890.902 on 11 and 17 DF, p-value: < 2.22e-16"
      ]
     },
     "metadata": {},
     "output_type": "display_data"
    }
   ],
   "source": [
    "# xtreg lnghg lngdp lngdp2 lnpop litigation c.lnlaw##c.eps_* i.year,fe robust\n",
    "\n",
    "my_data$lnlaw_eps_mk <- my_data$lnlaw * my_data$eps_mk\n",
    "my_data$lnlaw_eps_nm <- my_data$lnlaw * my_data$eps_nm\n",
    "my_data$lnlaw_eps_ts <- my_data$lnlaw * my_data$eps_ts\n",
    "\n",
    "modfe <- plm::plm(lnghg ~ lngdp + lngdp2 + lnpopulation + lnlaw + litigation + eps_mk + eps_nm + eps_ts\n",
    "                  + lnlaw_eps_mk + lnlaw_eps_nm + lnlaw_eps_ts,\n",
    "                  index = c(\"id\", \"year\"), model=\"within\", effect='twoways', data = my_data)\n",
    "summary(modfe, vcov=plm::vcovHC(modfe))"
   ]
  },
  {
   "cell_type": "code",
   "execution_count": 12,
   "id": "de1ac80d-a39d-4111-861c-5a2b1a3141d7",
   "metadata": {},
   "outputs": [
    {
     "data": {
      "text/plain": [
       "Twoways effects Within Model\n",
       "\n",
       "Note: Coefficient variance-covariance matrix supplied: plm::vcovHC(modfe)\n",
       "\n",
       "Call:\n",
       "plm::plm(formula = lnghg ~ lngdp + lngdp2 + lnpopulation + lnlaw + \n",
       "    litigation + eps_mk + eps_nm + eps_ts + litigation_eps_mk + \n",
       "    litigation_eps_nm + litigation_eps_ts, data = my_data, effect = \"twoways\", \n",
       "    model = \"within\", index = c(\"id\", \"year\"))\n",
       "\n",
       "Unbalanced Panel: n = 18, T = 19-20, N = 359\n",
       "\n",
       "Residuals:\n",
       "      Min.    1st Qu.     Median    3rd Qu.       Max. \n",
       "-0.1882849 -0.0318157 -0.0012683  0.0321062  0.1663998 \n",
       "\n",
       "Coefficients:\n",
       "                    Estimate Std. Error t-value  Pr(>|t|)    \n",
       "lngdp              2.2150624  0.3113362  7.1147 7.767e-12 ***\n",
       "lngdp2            -0.0880871  0.0202922 -4.3409 1.921e-05 ***\n",
       "lnpopulation       1.2414333  0.2191743  5.6641 3.365e-08 ***\n",
       "lnlaw             -0.1070925  0.0223811 -4.7849 2.647e-06 ***\n",
       "litigation         0.0761786  0.0909742  0.8374 0.4030307    \n",
       "eps_mk            -0.0012342  0.0177631 -0.0695 0.9446491    \n",
       "eps_nm            -0.0026007  0.0070766 -0.3675 0.7134868    \n",
       "eps_ts            -0.0116090  0.0118437 -0.9802 0.3277590    \n",
       "litigation_eps_mk -0.0433391  0.0129960 -3.3348 0.0009569 ***\n",
       "litigation_eps_nm -0.0095490  0.0162531 -0.5875 0.5572830    \n",
       "litigation_eps_ts  0.0011404  0.0117315  0.0972 0.9226231    \n",
       "---\n",
       "Signif. codes:  0 ‘***’ 0.001 ‘**’ 0.01 ‘*’ 0.05 ‘.’ 0.1 ‘ ’ 1\n",
       "\n",
       "Total Sum of Squares:    3.3802\n",
       "Residual Sum of Squares: 0.9727\n",
       "R-Squared:      0.71224\n",
       "Adj. R-Squared: 0.66875\n",
       "F-statistic: 232.552 on 11 and 17 DF, p-value: 2.8467e-16"
      ]
     },
     "metadata": {},
     "output_type": "display_data"
    }
   ],
   "source": [
    "# xtreg lnghg lngdp lngdp2 lnpop lnlaw i.litigation##c.eps_* i.year,fe robust\n",
    "\n",
    "my_data$litigation_eps_mk <- my_data$litigation * my_data$eps_mk\n",
    "my_data$litigation_eps_nm <- my_data$litigation * my_data$eps_nm\n",
    "my_data$litigation_eps_ts <- my_data$litigation * my_data$eps_ts\n",
    "\n",
    "modfe <- plm::plm(lnghg ~ lngdp + lngdp2 + lnpopulation + lnlaw + litigation + eps_mk + eps_nm + eps_ts\n",
    "                  + litigation_eps_mk + litigation_eps_nm + litigation_eps_ts,\n",
    "                  index = c(\"id\", \"year\"), model=\"within\", effect='twoways', data = my_data)\n",
    "summary(modfe, vcov=plm::vcovHC(modfe))"
   ]
  },
  {
   "cell_type": "code",
   "execution_count": null,
   "id": "bc90c37f-b6d3-4691-8bbd-f852672cc299",
   "metadata": {},
   "outputs": [],
   "source": []
  }
 ],
 "metadata": {
  "kernelspec": {
   "display_name": "R",
   "language": "R",
   "name": "ir"
  },
  "language_info": {
   "codemirror_mode": "r",
   "file_extension": ".r",
   "mimetype": "text/x-r-source",
   "name": "R",
   "pygments_lexer": "r",
   "version": "4.2.3"
  }
 },
 "nbformat": 4,
 "nbformat_minor": 5
}
