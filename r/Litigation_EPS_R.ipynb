{
 "cells": [
  {
   "cell_type": "markdown",
   "id": "de1e290a-bfab-4667-a768-e174ec57eb04",
   "metadata": {},
   "source": [
    "# The Impact of Litigations on GHG Emissions\n",
    "* \"litigation\" from [Graham Institute](https://climate-laws.org/legislation_and_policies), takes the value of 1 when the first case related to environmental laws was solved in a given year, independently of the result\n",
    "* \"rule of law\" from World Bank\n",
    "* Sample excludes the US, and includes all countries for which there has been at least a case with a resolution: 23 countries, mostly HI and MI countries"
   ]
  },
  {
   "cell_type": "markdown",
   "id": "fc95e4f4-f05b-4268-87cd-c51604b694b5",
   "metadata": {},
   "source": [
    "##### Load R packages"
   ]
  },
  {
   "cell_type": "code",
   "execution_count": 1,
   "id": "715c4dee-c289-4dad-815f-60cd17464e65",
   "metadata": {},
   "outputs": [
    {
     "name": "stderr",
     "output_type": "stream",
     "text": [
      "Loading required package: sandwich\n",
      "\n",
      "Loading required package: zoo\n",
      "\n"
     ]
    }
   ],
   "source": [
    "options(conflicts.policy = list(warn = FALSE))\n",
    "library(\"dplyr\")\n",
    "library(\"estimatr\")\n",
    "library(\"fixest\")\n",
    "library(\"ggplot2\")\n",
    "library(\"gmm\")\n",
    "library(\"lmtest\")\n",
    "library(\"plm\")\n",
    "library(\"readr\")\n",
    "library(\"rstatix\")"
   ]
  },
  {
   "cell_type": "markdown",
   "id": "adfb390b-08ad-4bba-8d56-a4cd5fe98bf8",
   "metadata": {},
   "source": [
    "##### Read data"
   ]
  },
  {
   "cell_type": "code",
   "execution_count": 3,
   "id": "799210a7-c24d-43f6-a1fb-d7df70af28d3",
   "metadata": {},
   "outputs": [],
   "source": [
    "my_data <- read_csv(\"../data/litigclean_eps.csv\", show_col_types = 'FALSE')"
   ]
  },
  {
   "cell_type": "markdown",
   "id": "6f91920d-81a9-4304-8cb4-80521f92cb6c",
   "metadata": {},
   "source": [
    "##### Define Country_ID as numerical"
   ]
  },
  {
   "cell_type": "code",
   "execution_count": 4,
   "id": "13ed4bfd-45f0-4c6d-aa5e-abd02597ca27",
   "metadata": {
    "scrolled": true
   },
   "outputs": [],
   "source": [
    "# egen id = group(country)\n",
    "my_data <- my_data %>% group_by(country) %>% mutate(id = cur_group_id())"
   ]
  },
  {
   "cell_type": "code",
   "execution_count": 5,
   "id": "5c13e04b-9972-439c-b149-affa0d31395b",
   "metadata": {},
   "outputs": [
    {
     "data": {
      "text/html": [
       "TRUE"
      ],
      "text/latex": [
       "TRUE"
      ],
      "text/markdown": [
       "TRUE"
      ],
      "text/plain": [
       "[1] TRUE"
      ]
     },
     "metadata": {},
     "output_type": "display_data"
    }
   ],
   "source": [
    "# xtset id year\n",
    "plm::is.pbalanced(my_data$id, my_data$year)"
   ]
  },
  {
   "cell_type": "markdown",
   "id": "3b2e0c8f-6a5f-42db-b9ba-a627c3f49fe0",
   "metadata": {},
   "source": [
    "##### Creation of log values"
   ]
  },
  {
   "cell_type": "code",
   "execution_count": 6,
   "id": "531cdc67-a2ca-40b7-aee0-0ae8bbcac57d",
   "metadata": {},
   "outputs": [],
   "source": [
    "my_data$lnghg <- log(my_data$ghg)\n",
    "my_data$lngdp <- log(my_data$gdp)\n",
    "my_data$lngdp2 <- log(my_data$gdp)^2\n",
    "my_data$lnpopulation <- log(my_data$population)\n",
    "my_data$lnlaw <- log(my_data$ruleoflaw)"
   ]
  },
  {
   "cell_type": "markdown",
   "id": "c21d7f05-9971-42e8-83fe-b194c3ac83a8",
   "metadata": {},
   "source": [
    "##### Definition of High-Income and Middle-Income countries"
   ]
  },
  {
   "cell_type": "code",
   "execution_count": 7,
   "id": "5f92e318-54b3-4265-95a6-5fd4161a7507",
   "metadata": {},
   "outputs": [],
   "source": [
    "HI <- my_data$country %in% c('BEL', 'AUS', 'CAN', 'CHE', 'DEU', 'ESP', 'EST', 'FIN', \n",
    "                             'FRA', 'GBR', 'GRC', 'HRV', 'ITA', 'LTU', 'LUX', 'NLD', \n",
    "                             'NOR', 'NZL', 'POL', 'PRT', 'SVK', 'SWE', 'ROU')\n"
   ]
  },
  {
   "cell_type": "code",
   "execution_count": 8,
   "id": "282cec7b-23e5-49e2-8c88-ae0e505c403c",
   "metadata": {},
   "outputs": [],
   "source": [
    "MI <- my_data$country %in% c('BGR', 'CRI', 'FJI', 'IND', 'KEN', \n",
    "                             'PAK', 'NPL', 'PHL', 'UKR')"
   ]
  },
  {
   "cell_type": "markdown",
   "id": "9eac887b-f433-44b2-a226-32cca151b094",
   "metadata": {},
   "source": [
    "### Table 3. Estimation Results for the Whole Sample"
   ]
  },
  {
   "cell_type": "markdown",
   "id": "aa36e365-6e4d-4f69-9308-c0ec3fd6c291",
   "metadata": {},
   "source": [
    "(1) OLS"
   ]
  },
  {
   "cell_type": "markdown",
   "id": "0926c02a-bf30-4a9a-9c42-d8f7e6fbd2fd",
   "metadata": {},
   "source": [
    "(2) TW-FE"
   ]
  },
  {
   "cell_type": "code",
   "execution_count": 9,
   "id": "5807d9d2-5f79-451f-b3e6-c195dc20bb22",
   "metadata": {},
   "outputs": [
    {
     "data": {
      "text/plain": [
       "Twoways effects Within Model\n",
       "\n",
       "Note: Coefficient variance-covariance matrix supplied: plm::vcovHC(modfe)\n",
       "\n",
       "Call:\n",
       "plm::plm(formula = lnghg ~ lngdp + lngdp2 + lnpopulation + lnlaw + \n",
       "    litigation + eps, data = my_data, effect = \"twoways\", model = \"within\", \n",
       "    index = c(\"id\", \"year\"))\n",
       "\n",
       "Unbalanced Panel: n = 18, T = 19-20, N = 359\n",
       "\n",
       "Residuals:\n",
       "      Min.    1st Qu.     Median    3rd Qu.       Max. \n",
       "-0.1856773 -0.0348761 -0.0014917  0.0337854  0.1519308 \n",
       "\n",
       "Coefficients:\n",
       "              Estimate Std. Error t-value  Pr(>|t|)    \n",
       "lngdp         2.345554   0.409284  5.7309 2.331e-08 ***\n",
       "lngdp2       -0.094936   0.023563 -4.0291 7.020e-05 ***\n",
       "lnpopulation  1.244627   0.243557  5.1102 5.581e-07 ***\n",
       "lnlaw        -0.119600   0.018605 -6.4282 4.758e-10 ***\n",
       "litigation   -0.031540   0.015878 -1.9863   0.04786 *  \n",
       "eps          -0.027488   0.020243 -1.3579   0.17546    \n",
       "---\n",
       "Signif. codes:  0 ‘***’ 0.001 ‘**’ 0.01 ‘*’ 0.05 ‘.’ 0.1 ‘ ’ 1\n",
       "\n",
       "Total Sum of Squares:    3.3802\n",
       "Residual Sum of Squares: 1.0695\n",
       "R-Squared:      0.68359\n",
       "Adj. R-Squared: 0.64154\n",
       "F-statistic: 241.278 on 6 and 17 DF, p-value: 1.7332e-15"
      ]
     },
     "metadata": {},
     "output_type": "display_data"
    }
   ],
   "source": [
    "# xtreg lnghg lngdp lngdp2 lnpop lnlaw litigation eps i.year, fe robust\n",
    "\n",
    "modfe <- plm::plm(lnghg ~ lngdp + lngdp2 + lnpopulation + lnlaw + litigation + eps,\n",
    "                  index = c(\"id\", \"year\"), model=\"within\", effect='twoways', \n",
    "                  data = my_data)\n",
    "summary(modfe, vcov=plm::vcovHC(modfe))"
   ]
  },
  {
   "cell_type": "code",
   "execution_count": null,
   "id": "fef201f2-f3ab-414f-b090-723fb86187bc",
   "metadata": {},
   "outputs": [],
   "source": []
  }
 ],
 "metadata": {
  "kernelspec": {
   "display_name": "R",
   "language": "R",
   "name": "ir"
  },
  "language_info": {
   "codemirror_mode": "r",
   "file_extension": ".r",
   "mimetype": "text/x-r-source",
   "name": "R",
   "pygments_lexer": "r",
   "version": "4.2.3"
  }
 },
 "nbformat": 4,
 "nbformat_minor": 5
}
