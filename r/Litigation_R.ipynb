{
 "cells": [
  {
   "cell_type": "code",
   "execution_count": null,
   "id": "715c4dee-c289-4dad-815f-60cd17464e65",
   "metadata": {},
   "outputs": [],
   "source": [
    "options(conflicts.policy = list(warn = FALSE))\n",
    "library(\"dplyr\")\n",
    "library(\"estimatr\")\n",
    "library(\"lmtest\")\n",
    "library(\"plm\")\n",
    "library(\"readr\")\n",
    "library(\"rstatix\")"
   ]
  },
  {
   "cell_type": "code",
   "execution_count": null,
   "id": "799210a7-c24d-43f6-a1fb-d7df70af28d3",
   "metadata": {},
   "outputs": [],
   "source": [
    "my_data <- read_csv(\"litigation.csv\", show_col_types = 'FALSE')"
   ]
  },
  {
   "cell_type": "code",
   "execution_count": null,
   "id": "13ed4bfd-45f0-4c6d-aa5e-abd02597ca27",
   "metadata": {
    "scrolled": true
   },
   "outputs": [],
   "source": [
    "# egen id = group(country)\n",
    "my_data <- my_data %>% group_by(country) %>% mutate(id = cur_group_id())"
   ]
  },
  {
   "cell_type": "code",
   "execution_count": null,
   "id": "5c13e04b-9972-439c-b149-affa0d31395b",
   "metadata": {},
   "outputs": [],
   "source": [
    "# xtset id year\n",
    "plm::is.pbalanced(my_data$id, my_data$year)"
   ]
  },
  {
   "cell_type": "code",
   "execution_count": null,
   "id": "531cdc67-a2ca-40b7-aee0-0ae8bbcac57d",
   "metadata": {},
   "outputs": [],
   "source": [
    "my_data$lnghg <- log(my_data$ghg)\n",
    "my_data$lngdp <- log(my_data$gdp)\n",
    "my_data$lngdp2 <- log(my_data$gdp)^2\n",
    "my_data$lnpopulation <- log(my_data$population)\n",
    "my_data$lnlaw <- log(my_data$ruleoflaw)"
   ]
  },
  {
   "cell_type": "code",
   "execution_count": null,
   "id": "bc46d3f8-0174-4aab-bcc9-260ac267bf69",
   "metadata": {},
   "outputs": [],
   "source": [
    "# sum lnghg lngdp lngdp2 lnpop lnlaw litigation\n",
    "d <- data.frame(my_data$lnghg, my_data$lngdp, my_data$lngdp2, my_data$lnpopulation, my_data$lnlaw)\n",
    "summary(d)"
   ]
  },
  {
   "cell_type": "code",
   "execution_count": null,
   "id": "c1d2afef-1f18-4c5e-ae43-36699e35b301",
   "metadata": {},
   "outputs": [],
   "source": [
    "# reg lnghg lngdp lngdp2 lnpopulation lnlaw litigation\n",
    "mod <-lm(lnghg ~ lngdp + lngdp2 + lnpopulation + lnlaw + litigation, data = my_data)\n",
    "summary(mod)"
   ]
  },
  {
   "cell_type": "code",
   "execution_count": null,
   "id": "2a64cbec-f11e-4e90-a514-259f2649da5f",
   "metadata": {},
   "outputs": [],
   "source": [
    "#predict pred_lngdp\n",
    "#predict pred_residuals, res\n",
    "#scatter pred_residuals pred_lngdp\n",
    "pred_lngdp <- predict(mod)\n",
    "pred_residuals <- residuals(mod)\n",
    "plot(y = pred_residuals, pred_lngdp)"
   ]
  },
  {
   "cell_type": "code",
   "execution_count": null,
   "id": "96572fa8-e04d-43c7-9563-cec6e26bc7d0",
   "metadata": {},
   "outputs": [],
   "source": [
    "# hettest\n",
    "lmtest::bptest(mod)"
   ]
  },
  {
   "cell_type": "code",
   "execution_count": null,
   "id": "fdfd5e5a-7132-4342-946d-7b24a1495cd0",
   "metadata": {},
   "outputs": [],
   "source": [
    "# pwcorr lnpopulation lngdp, sig star(0.05)\n",
    "cor.test(my_data$lnpopulation, my_data$lngdp)"
   ]
  },
  {
   "cell_type": "code",
   "execution_count": null,
   "id": "f946d1b3-e706-42db-89ac-014b841cf525",
   "metadata": {},
   "outputs": [],
   "source": [
    "# pwcorr lnghg lngdp* lnpop litigation lnlaw, sig star(0.05)\n",
    "my_data[,c(\"lnghg\",\"lngdp\", \"lngdp2\", \"lnpopulation\", \"litigation\", \"lnlaw\")] %>% cor_test(\n",
    "  vars = c(\"lnghg\"),\n",
    "  vars2 = c(\"lngdp\", \"lngdp2\",\"lnpopulation\", \"litigation\", \"lnlaw\")\n",
    " )"
   ]
  },
  {
   "cell_type": "code",
   "execution_count": null,
   "id": "079a1f67-5ada-49fa-8b6c-9ce5051f912a",
   "metadata": {},
   "outputs": [],
   "source": [
    "# pwcorr lnghg lngdp* lnpop litigation lnlaw, sig star(0.05)\n",
    "my_data[,c(\"lnghg\",\"lngdp\", \"lngdp2\", \"lnpopulation\", \"litigation\", \"lnlaw\")] %>% cor_test()"
   ]
  },
  {
   "cell_type": "code",
   "execution_count": null,
   "id": "e877da8c-72a0-47c6-9d2e-38198abc962c",
   "metadata": {},
   "outputs": [],
   "source": [
    "qqnorm(pred_residuals)"
   ]
  },
  {
   "cell_type": "markdown",
   "id": "9eac887b-f433-44b2-a226-32cca151b094",
   "metadata": {},
   "source": [
    "### TABLE 3 NEW"
   ]
  },
  {
   "cell_type": "code",
   "execution_count": null,
   "id": "a4652a80-5476-4f34-abca-ef0f37b2c429",
   "metadata": {},
   "outputs": [],
   "source": [
    "# reg lnghg lngdp lngdp2 lnpopulation lnlaw litigation , robust\n",
    "mod2 <-estimatr::lm_robust(lnghg ~ lngdp + lngdp2 + lnpopulation + lnlaw + litigation, data = my_data, se_type = \"stata\")\n",
    "summary(mod2)"
   ]
  },
  {
   "cell_type": "code",
   "execution_count": null,
   "id": "5807d9d2-5f79-451f-b3e6-c195dc20bb22",
   "metadata": {},
   "outputs": [],
   "source": [
    "# xtreg lnghg lngdp lngdp2 lnpopulation lnlaw litigation i.year, fe robust\n",
    "\n",
    "modfe <- plm::plm(lnghg ~ lngdp + lngdp2 + lnpopulation + lnlaw + litigation,\n",
    "                  index = c(\"id\", \"year\"), model=\"within\", effect='twoways', data = my_data)\n",
    "summary(modfe, vcov=plm::vcovHC(modfe))"
   ]
  },
  {
   "cell_type": "code",
   "execution_count": null,
   "id": "9e4eda0e-77a4-4b79-961a-ba36447033c8",
   "metadata": {},
   "outputs": [],
   "source": [
    "HI <- my_data$country %in% c('BEL', 'AUS', 'CAN', 'CHE', 'DEU', 'ESP', 'EST', 'FIN', \n",
    "                             'FRA', 'GBR', 'GRC', 'HRV', 'ITA', 'LTU', 'LUX', 'NLD', \n",
    "                             'NOR', 'NZL', 'POL', 'PRT', 'SVK', 'SWE', 'ROU')\n",
    "my_data$HITRUE_litigation <- HI * my_data$litigation\n",
    "my_data$HIFALSE_litigation <- (1-HI) * my_data$litigation"
   ]
  },
  {
   "cell_type": "code",
   "execution_count": null,
   "id": "bfef46e3-1a55-4c3c-8bd3-bc70347682d1",
   "metadata": {},
   "outputs": [],
   "source": [
    "# reg lnghg lngdp lngdp2 lnpopulation lnlaw HI#c.litigation, robust\n",
    "\n",
    "mod2 <-estimatr::lm_robust(lnghg ~ lngdp + lngdp2 + lnpopulation + lnlaw + HITRUE_litigation + HIFALSE_litigation, data = my_data, se_type = \"stata\")\n",
    "summary(mod2)"
   ]
  },
  {
   "cell_type": "code",
   "execution_count": null,
   "id": "407290b7-f128-4af0-8328-b9e42b2421cc",
   "metadata": {},
   "outputs": [],
   "source": [
    "# xtreg lnghg lngdp lngdp2 lnpopulation lnlaw HI#c.litigation i.year, fe robust\n",
    "\n",
    "modfe <- plm::plm(lnghg ~ lngdp + lngdp2 + lnpopulation + lnlaw + HITRUE_litigation + HIFALSE_litigation,\n",
    "                  index = c(\"id\", \"year\"), model=\"within\", effect='twoways', data = my_data)\n",
    "summary(modfe, vcov=plm::vcovHC(modfe))"
   ]
  },
  {
   "cell_type": "code",
   "execution_count": null,
   "id": "9fb0f358-cfe3-4cef-b0c6-fa58bd6d58f9",
   "metadata": {},
   "outputs": [],
   "source": []
  }
 ],
 "metadata": {
  "kernelspec": {
   "display_name": "R",
   "language": "R",
   "name": "ir"
  },
  "language_info": {
   "codemirror_mode": "r",
   "file_extension": ".r",
   "mimetype": "text/x-r-source",
   "name": "R",
   "pygments_lexer": "r",
   "version": "4.3.1"
  }
 },
 "nbformat": 4,
 "nbformat_minor": 5
}
