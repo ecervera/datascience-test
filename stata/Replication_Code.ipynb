{
 "cells": [
  {
   "cell_type": "code",
   "execution_count": null,
   "id": "ccdf3923-058c-485a-9c5e-c1c6c1977bdd",
   "metadata": {},
   "outputs": [],
   "source": [
    "ssc inst outreg2\n",
    "ssc inst oaxaca\n",
    "ssc inst kmatch\n",
    "ssc inst moremata\n",
    "ssc inst estout\n",
    "ssc inst qregplot\n",
    "ssc inst coefplot\n",
    "ssc inst fsum\n",
    "ssc inst ftools\n",
    "ssc inst fs"
   ]
  },
  {
   "cell_type": "code",
   "execution_count": null,
   "id": "94d27a8c-bb6a-4d9d-94ba-63bbcb0bf0a6",
   "metadata": {},
   "outputs": [],
   "source": [
    "net install nopo, from(\"https://raw.githubusercontent.com/mhamjediers/nopo_decomposition/master/\")\n",
    "net install grc1leg, from( http://www.stata.com/users/vwiggins/) "
   ]
  },
  {
   "cell_type": "code",
   "execution_count": null,
   "id": "f3b78951-0b81-4cdc-98d1-96c660220341",
   "metadata": {},
   "outputs": [],
   "source": [
    "clear all\n",
    "set more off"
   ]
  },
  {
   "cell_type": "code",
   "execution_count": null,
   "id": "77e03eb2-a43e-4441-a44a-85bea2dfc542",
   "metadata": {},
   "outputs": [],
   "source": [
    "******************************************************\r\n",
    "*Project: Female managers and firm performance:\n",
    "*         Evidence from the non-agricultural sectors in\n",
    "*          Caribbean Countries_Economic Modelling\r\n",
    "*By: Lo Bue and Martinez Zarzoso\r\n",
    "*Purpose: Replication dofile\r\n",
    "*Stata Version: 16\r\n",
    "******************************************************"
   ]
  },
  {
   "cell_type": "code",
   "execution_count": null,
   "id": "a2f6a8c8-124e-4c15-aae5-2e71e4bbc9b6",
   "metadata": {},
   "outputs": [],
   "source": [
    "*trace the file\n",
    "//local user \t  \"mlobue\" // USER'S NAME- To run this code change the name in brackets with your user name in Dropbox\n",
    "local raw \"2-data\" // PATH WHERE THE DATA IS STORED\n",
    "local result \"4-results\" // PATH WHERE THE RESULTS ARE STORED\n",
    "use \"`raw'/GENDER_manager_Data_IADB_FIRMs_LA_ProteQIN 13 Countries NO ID Var (All USD & NEW_ADD_WEIGHT) 20150319.dta\" // open the PROTEqIN file, monetary var already in USD"
   ]
  },
  {
   "cell_type": "code",
   "execution_count": null,
   "id": "8faee7d3-1791-4c84-bbf0-1718c6228f32",
   "metadata": {},
   "outputs": [],
   "source": [
    "***********************************************************************\n",
    "*Creation of  variables for the regression analysis\n",
    "***********************************************************************\n",
    "*Numeric Code for Country and sector dummies, SECTOR already numeric\n",
    "encode COUNTRY, gen(countryc) \n",
    "*encode SECTOR, gen(sectorc)\n",
    "tab GEND1A\n",
    "*Replace not know by missing \n",
    "replace GEND1A=. if GEND1A<0 /*How would you characterize the gender composition of the owners/shareholders of*/\n",
    "replace GEND2A=. if GEND2A<0 /*How would you characterize the gender composition of the management group*/"
   ]
  },
  {
   "cell_type": "code",
   "execution_count": null,
   "id": "d1ba9ecf-6ad3-4c06-a91f-424880d411fa",
   "metadata": {},
   "outputs": [],
   "source": [
    "*************************************\n",
    "*Female dummy variables creation*\n",
    "*************************************\n",
    "tab OLD_B7A /*Gender of the top manager*/\n",
    "gen tfem=OLD_B7A\n",
    "replace tfem=. if OLD_B7A==-44\n",
    "replace tfem=1 if OLD_B7A==2\n",
    "replace tfem=0 if OLD_B7A==1\n",
    "label var tfem \"Female Top Manager\"\n",
    "tab tfem"
   ]
  },
  {
   "cell_type": "code",
   "execution_count": null,
   "id": "7c1eece6-add1-415b-ba10-de5920f82def",
   "metadata": {},
   "outputs": [],
   "source": [
    "****************************************\n",
    " *GEND1B- Is the largest owner a female?\n",
    " ****************************************\n",
    " gen ofem=GEND1B\n",
    " replace ofem=0 if GEND1B==2\n",
    " replace ofem=0 if GEND1B==-44\n",
    " tab ofem\n",
    " label var ofem \"The main owner is a female\"\n",
    " tab tfem ofem"
   ]
  },
  {
   "cell_type": "code",
   "execution_count": null,
   "id": "9f5551ae-809f-4a83-9c74-890e215140a0",
   "metadata": {},
   "outputs": [],
   "source": [
    "**************************************\n",
    "/*What percentage of ownership does she own?*/\n",
    "tab GEND1D /* 54% missing observations*/\n",
    "gen femopc=GEND1D\n",
    "replace femopc=0 if GEND1D==-44\n",
    "replace femopc=. if GEND1D<-44\n",
    "label var femopc \"Percentage of the firm owned by female:GEND1D\"\n",
    "tab femopc"
   ]
  },
  {
   "cell_type": "code",
   "execution_count": null,
   "id": "b8da4c39-f55a-472c-84d9-6579d3bc8efa",
   "metadata": {},
   "outputs": [],
   "source": [
    "*GEND1A:Owners of the firm categories:1:all men,2:pre-dom men,3:equal,4:pre-dom women,5:all women  \n",
    "gen fem_cat=GEND1A if GEND1A>0 \n",
    "tab fem_cat\n",
    "label var fem_cat \"GEND1A>0:owners=1 all men,2:predom men,3:equal,4:predom women,5:all women\"\n",
    "\n",
    "gen femmore=1 if fem_cat==3|fem_cat==4|fem_cat==5\n",
    "replace femmore=0 if fem_cat==1|fem_cat==2\n",
    "tab femmore\n",
    "label var femmore \"1 if at least 50% of the owners are female:fem_cat\"\n",
    "****************************************\n",
    "*gender diversity should be defined as firms having both females and males in the management team\n",
    "gen gendivo=0\n",
    "replace gendivo=1 if fem_cat==2 |fem_cat==3|fem_cat==4\n",
    "label var gendivo \"There are males and females among owners\""
   ]
  },
  {
   "cell_type": "code",
   "execution_count": null,
   "id": "42582e40-3c1b-49ef-9e33-c7482c1f26b6",
   "metadata": {},
   "outputs": [],
   "source": [
    "*GEND2A:Management composition categories:1:all men,2:pre-dom men,3:equal,4:pre-dom women,5:all women \n",
    "gen tfem_cat=GEND2A if GEND2A>0\n",
    "tab tfem_cat\n",
    "label var tfem_cat \"GEND2A>0:managers=1 all men,2:predom men,3:equal,4:predom women,5:all women\"\n",
    "gen tfemmore=1 if tfem_cat==3|tfem_cat==4|tfem_cat==5\n",
    "replace tfemmore=0 if tfem_cat==1|tfem_cat==2\n",
    "tab tfemmore\n",
    "label var tfemmore \"1 if at least 50% among managers are female:tfem_cat\""
   ]
  },
  {
   "cell_type": "code",
   "execution_count": null,
   "id": "deb2e6d9-286f-4480-a6f1-521dcda28943",
   "metadata": {},
   "outputs": [],
   "source": [
    "*gender diversity should be defined as firms having both females and males in the management team\n",
    "gen gendivm=0\n",
    "replace gendivm=1 if tfem_cat==2 |tfem_cat==3|tfem_cat==4\n",
    "label var gendivm \"There are males and females in management team\""
   ]
  },
  {
   "cell_type": "code",
   "execution_count": null,
   "id": "fe59fbfe-3786-4582-b547-f374a6bebab4",
   "metadata": {},
   "outputs": [],
   "source": [
    "*Interaction between owner more and manager more female**\n",
    "gen tfemfem=femmore*tfemmore\n",
    "tab tfemfem\n",
    "label var tfemfem\"1 if at least 50% are female among the manager and owners:tfemfem\""
   ]
  },
  {
   "cell_type": "code",
   "execution_count": null,
   "id": "7f06ba00-61c4-4747-ba47-0b23c07cef8f",
   "metadata": {},
   "outputs": [],
   "source": [
    "**Years of experience of female manager in the firm/this is only avaiable for females**\n",
    "gen expin=GEND1F if GEND1F>0\n",
    "sum expin "
   ]
  },
  {
   "cell_type": "code",
   "execution_count": null,
   "id": "e463ceed-e7e9-4fff-8ffb-c2e9071d3368",
   "metadata": {},
   "outputs": [],
   "source": [
    "**Experience in other this is only avaiable for females****\n",
    "gen expout=GEND1G if GEND1G>0\n",
    "sum expout "
   ]
  },
  {
   "cell_type": "code",
   "execution_count": null,
   "id": "4273c0dc-cf28-45f0-b018-870d48295cd5",
   "metadata": {},
   "outputs": [],
   "source": [
    "**Manager experience in the same sector in years**\n",
    "gen expsec=B7 if B7>0\n",
    "sum expsec\n",
    "label var expin \"years of experience in the firm\"\n",
    "label var expout \"years of experience in other firm\"\n",
    "label var expsec \"years of experience in the same sector\""
   ]
  },
  {
   "cell_type": "code",
   "execution_count": null,
   "id": "1c36a966-2988-4ea4-a810-fd27de941315",
   "metadata": {},
   "outputs": [],
   "source": [
    "*dummy for concentration of ownership\n",
    "gen owncon=B2 if B2>0\n",
    "tab owncon\n",
    "label var owncon \"Percent owned by the largest owner\""
   ]
  },
  {
   "cell_type": "code",
   "execution_count": null,
   "id": "c7285b37-29a2-43e0-92d9-e9f2da0e9a4d",
   "metadata": {},
   "outputs": [],
   "source": [
    "*Number of employees at the end of fiscal year\n",
    "gen nworkers=I2A if I2A>0\n",
    "sum nworkers\n",
    "gen lnnworkers=log(nworkers)\n",
    "label var nworkers \"Number of employees at the end of last fiscal year\"\n",
    "label var lnnworkers \"Ln Number of employees\""
   ]
  },
  {
   "cell_type": "code",
   "execution_count": null,
   "id": "d9d9ae43-1734-49d2-b24e-029903f15579",
   "metadata": {},
   "outputs": [],
   "source": [
    "**** FIRM SIZE PROXIED BY NR OF WORKERS\n",
    "ta nworkers \n",
    "hist nworkers"
   ]
  },
  {
   "cell_type": "code",
   "execution_count": null,
   "id": "01a88ac2-bac9-40f1-b963-86cfd3e0f938",
   "metadata": {},
   "outputs": [],
   "source": [
    "**First classification: <=10; 11-50; >50\n",
    "gen fisize0=\"missing\"\n",
    "replace fisize0=\"small 0-10\" if nworkers <=10\n",
    "replace fisize0=\"medium 11-50\" if nworkers > 10 & nworkers <51\n",
    "replace fisize0=\"large 51-1782\" if nworkers >=51\n",
    "ta fisize0"
   ]
  },
  {
   "cell_type": "code",
   "execution_count": null,
   "id": "a1945879-77b4-4c2e-89e1-b7fae35562c4",
   "metadata": {},
   "outputs": [],
   "source": [
    "**Second classification: <=50; 51-199; >=200\n",
    "\n",
    "gen fisize=\"missing\"\n",
    "replace fisize=\"small 0-50\" if nworkers <=50\n",
    "replace fisize=\"medium 51-199\" if nworkers > 50 & nworkers <200\n",
    "replace fisize=\"large 200-1782\" if nworkers >=200\n",
    "\n",
    "ta fisize\n",
    "ta fisize0 tfem, row\n",
    "ta fisize0 tfemmore, row\n",
    "ta fisize tfem, row\n",
    "ta fisize tfemmore, row"
   ]
  },
  {
   "cell_type": "code",
   "execution_count": null,
   "id": "6c6fbbfb-aecb-4704-9772-bdc6f0e73f30",
   "metadata": {},
   "outputs": [],
   "source": [
    "**Number of female employees*\n",
    "des I2B2A I2B2B I2B3\n",
    "sum I2B2A I2B2B I2B3\n",
    "\n",
    "gen femempl_man=I2B1 if I2B1>=0\n",
    "gen femempl_skill=I2B2A   if   I2B2A>=0\n",
    "gen femempl_unsk=I2B2B  if  I2B2B>=0\n",
    "gen femempl_noprod=I2B3  if I2B3>=0\n",
    "gen femempl= (femempl_man+femempl_skill+femempl_unsk+femempl_noprod)\n",
    "sum femempl*\n",
    "corre femmore tfem ofem femempl\n",
    "sum nworkers\n",
    "gen pcfemempl=femempl*100/nworkers\n",
    "sum pcfemempl\n",
    "gen pcfemman=femempl_man*100/I2A1 \n",
    "replace pcfemman=100 if pcfemman>100\n",
    "sum pcfem*\n",
    "label var femempl \"No. of employees who were female at end of last fiscal yr\"\n",
    "label var femempl_man \"No. of females in management at end of last fiscal yr\"\n",
    "label var femempl_skill \"No. of skilled females at end of last fiscal yr\"\n",
    "label var femempl_unsk \"No. of Unskilled females in at end of last fiscal yr\"\n",
    "label var femempl_nopro \"No. of non-production females in at end of last fiscal yr\"\n",
    "label var pcfemempl \"Percent of female employees at end of last fiscal yr\"\n",
    "label var pcfemman \"Percent of female managers at end of last fiscal yr\""
   ]
  },
  {
   "cell_type": "code",
   "execution_count": null,
   "id": "8aace437-3d05-44a9-8c46-51ad8c6efbee",
   "metadata": {},
   "outputs": [],
   "source": [
    "************************************\n",
    "*education required for managers*\n",
    "************************************\n",
    " tab  I6A2\n",
    "gen edumanav=I6A2 if I6A2>0\n",
    "replace edumanav=1 if I6A2==9\n",
    "tab edumanav\n",
    "gen gradu=0\n",
    "replace gradu=1 if edumanav==7\n",
    "replace gradu=1 if edumanav==8\n",
    "tab gradu\n",
    "label var gradu \"The manager aver edu is university\"\n",
    "label var edumanav \"Average education level of the manager, 1-8\""
   ]
  },
  {
   "cell_type": "code",
   "execution_count": null,
   "id": "43a203c9-f9df-4856-8214-d05b71f561b4",
   "metadata": {},
   "outputs": [],
   "source": [
    "gen edumanmin=I6A1 if I6A1>0\n",
    "tab edumanmin\n",
    "replace edumanmin=1 if I6A1==9\n",
    "corre edu*\n",
    "gen gradumin=0\n",
    "replace gradumin=1 if edumanmin==7\n",
    "replace gradumin=1 if edumanmin==8\n",
    "tab gradumin\n",
    "\n",
    "label var gradumin \"The manager min education level is college\"\n",
    "label var edumanmin \"Minimum education level of the manager, 1-8\""
   ]
  },
  {
   "cell_type": "code",
   "execution_count": null,
   "id": "0e324253-4933-4b45-9496-4174479d7c27",
   "metadata": {},
   "outputs": [],
   "source": [
    "**********************************\n",
    "*Average salaries of the managers\n",
    "**********************************\n",
    "des I5*\n",
    "/*I5A1     Managers\n",
    "I5A2       Managers Avg. wage (gross) last year\n",
    "I5A3       Managers (previous year)\n",
    "I5A4       Managers Avg. wage (gross) previous year\n",
    "I5A5       Managers (one year from now)\n",
    "I5A6       Managers Avg. wage (gross) one year from now\n",
    "*/\n",
    "*should be deflated************\n",
    "gen wagem11=I5A2 \n",
    "replace wagem11=. if I5A2<0\n",
    "gen lnwagem11=log(wagem11)\n",
    "gen wagem12=I5A4\n",
    "replace wagem12=. if I5A4<0\n",
    "gen lnwagem12=log(wagem12)"
   ]
  },
  {
   "cell_type": "code",
   "execution_count": null,
   "id": "9cf8b9f5-947a-48b1-a1f1-36d697bc7394",
   "metadata": {},
   "outputs": [],
   "source": [
    "label var wagem11 \"Average Manager Wages in 2011 (USD)\"\n",
    "label var wagem12 \"Average Manager Wages in 2012 (USD)\"\n",
    "\n",
    "label var lnwagem11 \"ln Average Manager Wages in 2011\"\n",
    "label var lnwagem12 \"ln Average Manager Wages in 2012\""
   ]
  },
  {
   "cell_type": "code",
   "execution_count": null,
   "id": "66835063-ebba-4e17-9ca4-aafb2d0ceef5",
   "metadata": {},
   "outputs": [],
   "source": [
    "gen wagem12d=wagem12\n",
    "replace wagem12d=(wagem12*100/(100+3.3769)) if a1==134\n",
    "replace wagem12d=(wagem12*100/(100+1.9734)) if a1==127\n",
    "replace wagem12d=(wagem12*100/(100+4.5333)) if a1==137\n",
    "replace wagem12d=(wagem12*100/(100+1.3568)) if a1==138\n",
    "replace wagem12d=(wagem12*100/(100+2.4108)) if a1==139\n",
    "replace wagem12d=(wagem12*100/(100+2.3919)) if a1==140\n",
    "replace wagem12d=(wagem12*100/(100+6.8982)) if a1==123\n",
    "replace wagem12d=(wagem12*100/(100+0.816))  if a1==141\n",
    "replace wagem12d=(wagem12*100/(100+4.1776)) if a1==142\n",
    "replace wagem12d=(wagem12*100/(100+5.0069)) if a1==144\n",
    "replace wagem12d=(wagem12*100/(100+9.2603)) if a1==780\n",
    "replace wagem12d=(wagem12*100/(100+2.5984)) if a1==143"
   ]
  },
  {
   "cell_type": "code",
   "execution_count": null,
   "id": "71caf5e0-185e-4b74-8f00-550209414faf",
   "metadata": {},
   "outputs": [],
   "source": [
    "gen wagem11d=wagem11\n",
    "replace wagem11d=(wagem11*100/(100+3.4567)) if a1==134\n",
    "replace wagem11d=(wagem11*100/(100+3.1988)) if a1==127\n",
    "replace wagem11d=(wagem11*100/(100+9.4322)) if a1==137\n",
    "replace wagem11d=(wagem11*100/(100+1.1312)) if a1==138\n",
    "replace wagem11d=(wagem11*100/(100+3.0335)) if a1==139\n",
    "replace wagem11d=(wagem11*100/(100+4.9777)) if a1==140\n",
    "replace wagem11d=(wagem11*100/(100+7.5297)) if a1==123\n",
    "replace wagem11d=(wagem11*100/(100+5.8352))  if a1==141\n",
    "replace wagem11d=(wagem11*100/(100+2.7694)) if a1==142\n",
    "replace wagem11d=(wagem11*100/(100+17.7118)) if a1==144\n",
    "replace wagem11d=(wagem11*100/(100+5.1071)) if a1==780\n",
    "replace wagem11d=(wagem11*100/(100+3.1860)) if a1==143"
   ]
  },
  {
   "cell_type": "code",
   "execution_count": null,
   "id": "c4bac1e2-094b-48e0-adab-5a37ea5c0f49",
   "metadata": {},
   "outputs": [],
   "source": [
    "label var wagem11d \"Average Manager Wages in 2011 (USD, deflated)\"\n",
    "label var wagem12d \"Average Manager Wages in 2012 (USD, deflated)\"\n",
    "gen lnwagem11d=log(wagem11d)\n",
    "gen lnwagem12d=log(wagem12d)\n",
    "label var lnwagem11d \"Ln Average Manager Wages in 2011\"\n",
    "label var lnwagem12d \"Ln Average Manager Wages in 2012\""
   ]
  },
  {
   "cell_type": "code",
   "execution_count": null,
   "id": "6069e4af-cc11-47eb-87ff-712927f06c5c",
   "metadata": {},
   "outputs": [],
   "source": [
    "**************************************************\n",
    "**Performance Variables to measure productivity**\n",
    "*************************************************\n",
    "*Total Sales 2011 and 2012\n",
    "des K1*\n",
    "sum K1A K1B \n",
    "gen sales11=K1A if K1A>=0\n",
    "gen sales12=K1B if K1B>=0\n",
    "sum sales11 sales12\n",
    "label var sales11 \"USD sales in year 2011\"\n",
    "label var sales12 \"USD sales in year 2012\"\n",
    "gen lnsales11=log(sales11)\n",
    "gen lnsales12=log(sales12)\n",
    "label var lnsales11 \"ln sales in year 2011\"\n",
    "label var lnsales12 \"ln sales in year 2012\""
   ]
  },
  {
   "cell_type": "code",
   "execution_count": null,
   "id": "ed8b055f-c09a-4168-bf0b-e907393c27fc",
   "metadata": {},
   "outputs": [],
   "source": [
    "*I have the inflation in each Caribbean country from the WDI in 2012 and 2011 and will divide the sales by the corresponding CPI\n",
    "\n",
    "/*\tAntigua&Barbuda\tBahamas\tBelize(122)\tBarbados Dominica Grenada Guyana Jamaica St. Kitts and Nevis St.Lucia Suriname Trinidad&T St. Vincent and the Grenadines\n",
    "2011\t3,4567\t  3,1988\t\t\t9,4322\t 1,1312\t 3,0335\t  4,9777\t7,5297\t 5,8352\t         2,7694\t 17,7118\t5,1071\t\t3,1860\n",
    "2012\t3,3769\t  1,9734\t\t\t4,5333\t 1,3568\t 2,4108\t  2,3919\t6,8982\t 0,8161\t         4,1776\t 5,0069\t    9,2603\t\t2,5984\n",
    " */"
   ]
  },
  {
   "cell_type": "code",
   "execution_count": null,
   "id": "573d031c-1b96-486b-8c01-bfdd2e3da9f0",
   "metadata": {},
   "outputs": [],
   "source": [
    "gen sales12d=sales12\n",
    "replace sales12d=(sales12*100/(100+3.3769)) if a1==134\n",
    "replace sales12d=(sales12*100/(100+1.9734)) if a1==127\n",
    "replace sales12d=(sales12*100/(100+4.5333)) if a1==137\n",
    "replace sales12d=(sales12*100/(100+1.3568)) if a1==138\n",
    "replace sales12d=(sales12*100/(100+2.4108)) if a1==139\n",
    "replace sales12d=(sales12*100/(100+2.3919)) if a1==140\n",
    "replace sales12d=(sales12*100/(100+6.8982)) if a1==123\n",
    "replace sales12d=(sales12*100/(100+0.816))  if a1==141\n",
    "replace sales12d=(sales12*100/(100+4.1776)) if a1==142\n",
    "replace sales12d=(sales12*100/(100+5.0069)) if a1==144\n",
    "replace sales12d=(sales12*100/(100+9.2603)) if a1==780\n",
    "replace sales12d=(sales12*100/(100+2.5984)) if a1==143"
   ]
  },
  {
   "cell_type": "code",
   "execution_count": null,
   "id": "2930de58-d5b3-443b-9ee3-e09dee996b62",
   "metadata": {},
   "outputs": [],
   "source": [
    "gen sales11d=sales11\n",
    "replace sales11d=(sales11*100/(100+3.4567)) if a1==134\n",
    "replace sales11d=(sales11*100/(100+3.1988)) if a1==127\n",
    "replace sales11d=(sales11*100/(100+9.4322)) if a1==137\n",
    "replace sales11d=(sales11*100/(100+1.1312)) if a1==138\n",
    "replace sales11d=(sales11*100/(100+3.0335)) if a1==139\n",
    "replace sales11d=(sales11*100/(100+4.9777)) if a1==140\n",
    "replace sales11d=(sales11*100/(100+7.5297)) if a1==123\n",
    "replace sales11d=(sales11*100/(100+5.8352))  if a1==141\n",
    "replace sales11d=(sales11*100/(100+2.7694)) if a1==142\n",
    "replace sales11d=(sales11*100/(100+17.7118)) if a1==144\n",
    "replace sales11d=(sales11*100/(100+5.1071)) if a1==780\n",
    "replace sales11d=(sales11*100/(100+3.1860)) if a1==143"
   ]
  },
  {
   "cell_type": "code",
   "execution_count": null,
   "id": "0e5f49bd-ee55-4cb7-8832-a148ca4aaace",
   "metadata": {},
   "outputs": [],
   "source": [
    "label var sales11d \"Sales in year 2011 (USD, deflated)\"\n",
    "label var sales12d \"Sales in year 2012 (USD, deflated)\"\n",
    "\n",
    "gen lnsales11d=log(sales11d)\n",
    "gen lnsales12d=log(sales12d)\n",
    "\n",
    "label var lnsales11d \"Ln Sales in year 2011\"\n",
    "label var lnsales12d \"Ln Sales in year 2012\"\n",
    "\n",
    "gen difsales=(sales12d-sales11d)/sales11d\n",
    "sum difsales\n",
    "label var difsales \"Growth in sales in year 2012 (USD, deflated)\""
   ]
  },
  {
   "cell_type": "code",
   "execution_count": null,
   "id": "979d82a8-78dd-4810-8938-c527fd9097a4",
   "metadata": {},
   "outputs": [],
   "source": [
    "*Labor Productivity 2011,2012:Sales per worker\n",
    "gen labpro11=sales11d/nworkers\n",
    "gen labpro12=sales12d/nworkers\n",
    "gen lnlabpro11=log(labpro11)\n",
    "gen lnlabpro12=log(labpro12)\n",
    "\n",
    "label var labpro11 \"Total sales per worker in 2011(USD, deflated)\"  \n",
    "label var labpro12 \"Total sales per worker in 2012(USD, deflated)\"  \n",
    "\n",
    "label var lnlabpro11 \"Ln Total sales per worker in 2011\"  \n",
    "label var lnlabpro12 \"Ln Total sales per worker in 2012\"  "
   ]
  },
  {
   "cell_type": "code",
   "execution_count": null,
   "id": "797f5056-6932-4756-ad97-1b9e41a20e77",
   "metadata": {},
   "outputs": [],
   "source": [
    "*Materials and intermediate goods:K2A total costs of raw materials and intermediate goods used in production\n",
    "gen mat=K2A\n",
    "replace mat=. if K2A<0\n",
    "lab var mat   \"total costs of raw materials and intermediate goods used in production\""
   ]
  },
  {
   "cell_type": "code",
   "execution_count": null,
   "id": "1a2aa00a-a3be-4978-a12e-24962c1e13a8",
   "metadata": {},
   "outputs": [],
   "source": [
    "gen matd=mat\n",
    "replace matd=(mat*100/(100+3.3769)) if a1==134\n",
    "replace matd=(mat*100/(100+1.9734)) if a1==127\n",
    "replace matd=(mat*100/(100+4.5333)) if a1==137\n",
    "replace matd=(mat*100/(100+1.3568)) if a1==138\n",
    "replace matd=(mat*100/(100+2.4108)) if a1==139\n",
    "replace matd=(mat*100/(100+2.3919)) if a1==140\n",
    "replace matd=(mat*100/(100+6.8982)) if a1==123\n",
    "replace matd=(mat*100/(100+0.816))  if a1==141\n",
    "replace matd=(mat*100/(100+4.1776)) if a1==142\n",
    "replace matd=(mat*100/(100+5.0069)) if a1==144\n",
    "replace matd=(mat*100/(100+9.2603)) if a1==780\n",
    "replace matd=(mat*100/(100+2.5984)) if a1==143"
   ]
  },
  {
   "cell_type": "code",
   "execution_count": null,
   "id": "74da6c7a-60b7-49a7-bd5b-7885c06cd00b",
   "metadata": {},
   "outputs": [],
   "source": [
    "sum mat matd\n",
    "lab var matd   \"deflated total costs of raw materials and intermediate goods used in production\"\n",
    "gen lnmat=log(mat)\n",
    "lab var lnmat   \" Ln total costs of raw materials and intermediate goods used in production\"\n",
    "\n",
    "gen lnmatd=log(matd)\n",
    "lab var lnmatd   \"Ln deflated total costs of raw materials and intermediate goods used in production\"\n",
    "\n",
    "*VA per worker\n",
    "gen lnvapw11=log((sales11d-matd)/nworkers) \n",
    "gen lnvapw12=log((sales12d-matd)/nworkers) \n",
    "\n",
    "label var lnvapw11 \"Ln Value Added per worker in 2011\"  \n",
    "label var lnvapw12 \"Ln Value Added per worker in 2012\"  "
   ]
  },
  {
   "cell_type": "code",
   "execution_count": null,
   "id": "3e5e7631-7b10-4d22-a509-450db31aad5b",
   "metadata": {},
   "outputs": [],
   "source": [
    "*Total labor Costs:K2B Total costs of labor incl. wages,salaries,bonuses and social payments\n",
    "gen lcost=K2B \n",
    "replace lcost=. if K2B<0\n",
    "sum lcost\n",
    "gen lnlcost=log(lcost)"
   ]
  },
  {
   "cell_type": "code",
   "execution_count": null,
   "id": "4e7c77bb-504a-4623-b700-193efc9b1d99",
   "metadata": {},
   "outputs": [],
   "source": [
    "gen lcostd=lcost\n",
    "replace lcostd=(lcost*100/(100+3.3769)) if a1==134\n",
    "replace lcostd=(lcost*100/(100+1.9734)) if a1==127\n",
    "replace lcostd=(lcost*100/(100+4.5333)) if a1==137\n",
    "replace lcostd=(lcost*100/(100+1.3568)) if a1==138\n",
    "replace lcostd=(lcost*100/(100+2.4108)) if a1==139\n",
    "replace lcostd=(lcost*100/(100+2.3919)) if a1==140\n",
    "replace lcostd=(lcost*100/(100+6.8982)) if a1==123\n",
    "replace lcostd=(lcost*100/(100+0.816))  if a1==141\n",
    "replace lcostd=(lcost*100/(100+4.1776)) if a1==142\n",
    "replace lcostd=(lcost*100/(100+5.0069)) if a1==144\n",
    "replace lcostd=(lcost*100/(100+9.2603)) if a1==780\n",
    "replace lcostd=(lcost*100/(100+2.5984)) if a1==143"
   ]
  },
  {
   "cell_type": "code",
   "execution_count": null,
   "id": "2d15c859-89a4-411d-8ecf-808eda27394a",
   "metadata": {},
   "outputs": [],
   "source": [
    "gen lnlcostd=log(lcostd)\n",
    "\n",
    "lab var lcost \"Total costs of labor incl. wages,salaries,bonuses and social payments\"\n",
    "lab var lnlcost \"Ln Total costs of labor incl. wages,salaries,bonuses and social payments\"\n",
    "lab var lcostd \"Deflated Total costs of labor incl. wages,salaries,bonuses and social payments\"\n",
    "lab var lnlcostd \"Ln Deflated total costs of labor incl. wages,salaries,bonuses and social payments\""
   ]
  },
  {
   "cell_type": "code",
   "execution_count": null,
   "id": "19411cec-12c7-4d67-b278-d4c21132de66",
   "metadata": {},
   "outputs": [],
   "source": [
    "*I have to deflate materials and capital__> DONE\n",
    "\n",
    "**capital=K6A, net book value of machinery vehicles, and equipment in last fiscal year\n",
    "gen k=K6A if K6A>0\n",
    "gen lnk=log(k)\n",
    "lab var k   \"Net book value of machinery vehicles, and equipment in last fiscal year\"\n",
    "lab var lnk   \"Ln Net book value of machinery vehicles, and equipment in last fiscal year\""
   ]
  },
  {
   "cell_type": "code",
   "execution_count": null,
   "id": "41ecaf1f-b69e-48c1-849d-24200bfb541a",
   "metadata": {},
   "outputs": [],
   "source": [
    "gen kd=k\n",
    "replace kd=(k*100/(100+3.3769)) if a1==134\n",
    "replace kd=(k*100/(100+1.9734)) if a1==127\n",
    "replace kd=(k*100/(100+4.5333)) if a1==137\n",
    "replace kd=(k*100/(100+1.3568)) if a1==138\n",
    "replace kd=(k*100/(100+2.4108)) if a1==139\n",
    "replace kd=(k*100/(100+2.3919)) if a1==140\n",
    "replace kd=(k*100/(100+6.8982)) if a1==123\n",
    "replace kd=(k*100/(100+0.816))  if a1==141\n",
    "replace kd=(k*100/(100+4.1776)) if a1==142\n",
    "replace kd=(k*100/(100+5.0069)) if a1==144\n",
    "replace kd=(k*100/(100+9.2603)) if a1==780\n",
    "replace kd=(k*100/(100+2.5984)) if a1==143"
   ]
  },
  {
   "cell_type": "code",
   "execution_count": null,
   "id": "71b20f2b-309f-45c3-88c9-c62a9151657c",
   "metadata": {},
   "outputs": [],
   "source": [
    "gen lnkd=log(kd)\n",
    "\n",
    "lab var kd \"Net value of capital (USD, deflated)\"\n",
    "lab var lnkd \"Ln Net value of capital\""
   ]
  },
  {
   "cell_type": "code",
   "execution_count": null,
   "id": "964554c6-4259-45a6-80dc-9302afb72c0e",
   "metadata": {},
   "outputs": [],
   "source": [
    "***********************************************  \n",
    "**Control Variables Firm and Constraints**\n",
    "*************************************************\n",
    "*Did you purchase Fixed assets in your last fiscal year?\n",
    "tab J3A\n",
    "gen fixas=J3A\n",
    "replace fixas=0 if J3A==2\n",
    "tab fixas          \n",
    "label var fixas \"The firm purchases fixed assets\"\n",
    "**Foreign Ownership**\n",
    "*Is the establishment part of a larger firm? \n",
    "gen multi=0 if  A2A==2\n",
    "replace multi=1 if A2A==1\n",
    "tab multi\n",
    "lab var multi \"The establishment part of a larger firm\"\n",
    "*What percentage of this firm is owned by private foreign individuals, companies or organizations \n",
    "gen foreign=B3B\n",
    "replace foreign=1 if B3B>0\n",
    "\n",
    "lab var foreign \"Percentage of the firm owned by foreigners\""
   ]
  },
  {
   "cell_type": "code",
   "execution_count": null,
   "id": "ac58d5bc-1b03-439a-ab79-6489c365f990",
   "metadata": {},
   "outputs": [],
   "source": [
    "**Exporting (Direct+Indirect Exports)**\n",
    "gen expdi=D6B+D6A1\n",
    "tab expdi\n",
    "replace expdi=0 if expdi<0\n",
    "replace expdi=100 if expdi>100  \n",
    "sum expdi\n",
    "rename expdi exppc\n",
    "lab var exppc \"Percentage of direct and indirect exports\"\n",
    "*dummy exporter\n",
    "gen exporter=0\n",
    "replace exporter=1 if exppc>0\n",
    "tab exporter\n",
    "lab var exporter \"The firm exports\""
   ]
  },
  {
   "cell_type": "code",
   "execution_count": null,
   "id": "126dabc6-fc9a-4c05-82a0-84d663e711c3",
   "metadata": {},
   "outputs": [],
   "source": [
    "**Age of the firm** //Assuming that year of the survey is 2013\n",
    "tab B6A\n",
    "gen startyr=B6A if B6A<2014|B6A>1669\n",
    "lab var startyr \"Year in which the firm started operations\"\n",
    "gen age=2013-B6A if B6A>1669\n",
    "replace age=0.5 if age==0\n",
    "gen lnage=log(age)\n",
    "sum age \n",
    "lab var age \"Age of the firm\"\n",
    "lab var lnage \"Ln Age of the firm\""
   ]
  },
  {
   "cell_type": "code",
   "execution_count": null,
   "id": "8d3cacd5-2e92-4f1e-ad7e-f919728920f8",
   "metadata": {},
   "outputs": [],
   "source": [
    "**Current Legal Status of Firm**\n",
    "tab B1\n",
    "gen legals=B1 \n",
    "tab legals\n",
    " label var legals \"Firms current legal status,1-6;B1\"\n",
    "gen shareh=0\n",
    "replace shareh=1 if legals==1\n",
    "replace shareh=1 if legals==2\n",
    "tab shareh\n",
    "lab var shareh \"shareholding company\""
   ]
  },
  {
   "cell_type": "code",
   "execution_count": null,
   "id": "c9c0e94e-3f65-493b-9f6a-744346833fba",
   "metadata": {},
   "outputs": [],
   "source": [
    "**Sole Prop.\n",
    "gen solepro=0\n",
    "replace solepro=1 if legals==3\n",
    "tab solepro\n",
    "lab var solepro \"Sole propietorship\"\n",
    "gen partner=0\n",
    "replace partner=1 if legals==4\n",
    "tab partner\n",
    "lab var partner \"Partnership including limited liability\"\n",
    "gen limpartner=0\n",
    "replace limpartner=1 if legals==5\n",
    "tab limpartner\n",
    "lab var limpartner \"Limited Partnership\"\n",
    "gen other=0\n",
    "replace other=1 if legals==6\n",
    "tab other\n",
    "lab var other \"Other current legal status\""
   ]
  },
  {
   "cell_type": "markdown",
   "id": "ba205664-473f-432b-953b-eec2e3ed330f",
   "metadata": {},
   "source": [
    "## Sector of the firm"
   ]
  },
  {
   "cell_type": "code",
   "execution_count": null,
   "id": "e15b26f6-7a55-46a3-a492-86a2a97bbe38",
   "metadata": {},
   "outputs": [],
   "source": [
    "*MANUFACTURE\n",
    "tab SECTOR if SECTOR<45\n",
    "gen manuf=0 if SECTOR>44\n",
    "replace manuf=1 if SECTOR<45\n",
    "lab var manuf \"Manufacturing activities\"\n",
    "*retail\n",
    "gen retail=0\n",
    "replace retail=1 if SECTOR==52\n",
    "tab retail\n",
    "lab var retail \"Retail activities\"\n",
    "\n",
    "*other SERVICEs\n",
    "tab SECTOR if SECTOR<45 \n",
    "gen otserv=0 \n",
    "replace otserv=1 if SECTOR>44&SECTOR!=52\n",
    "tab otserv\n",
    "lab var otserv \"Other services\""
   ]
  },
  {
   "cell_type": "markdown",
   "id": "330c784b-f372-441c-b15a-6b595b6915ec",
   "metadata": {},
   "source": [
    "## Main market"
   ]
  },
  {
   "cell_type": "code",
   "execution_count": null,
   "id": "9d915100-1184-4df6-91ff-d4ee8759fd4f",
   "metadata": {},
   "outputs": [],
   "source": [
    "tab D5A\n",
    "**Formal Status of the firm**\n",
    "*Is your establishment formally registered? very few informal <5\n",
    "tab B6C"
   ]
  },
  {
   "cell_type": "markdown",
   "id": "b3b54fbf-2425-46cd-b118-8e6818b07595",
   "metadata": {},
   "source": [
    "# Business constraints"
   ]
  },
  {
   "cell_type": "code",
   "execution_count": null,
   "id": "d114aaa7-59d5-4617-b5fd-5c9914c92516",
   "metadata": {},
   "outputs": [],
   "source": [
    "**Informal Competition \n",
    "*Does this establishment compete against unregistered or informal firms?\n",
    "tab D10A\n",
    "gen infcomp=0 if D10A==2\n",
    "replace infcomp=1 if D10A==1\n",
    "lab var infcomp\"The firm compete against informal firms\""
   ]
  },
  {
   "cell_type": "code",
   "execution_count": null,
   "id": "e4c7024c-6aa1-49a1-987c-72ff4e464a90",
   "metadata": {},
   "outputs": [],
   "source": [
    "**Owning a Website\n",
    "tab C4B\n",
    "gen web=0 if C4B==2\n",
    "replace web=1 if C4B==1\n",
    "tab web\n",
    "lab var web \"The firm uses its own website\""
   ]
  },
  {
   "cell_type": "code",
   "execution_count": null,
   "id": "c35c00fa-c61f-4af2-a03a-1b7c522b4b8e",
   "metadata": {},
   "outputs": [],
   "source": [
    "**Technical Assistance \n",
    "*Does your establishment currently benefit from any technical assistance programs? \n",
    "tab M1B\n",
    "gen techas=0 if M1B==2\n",
    "replace techas=1 if M1B==1\n",
    "lab var techas \"The firm benefits from any technical assistance programs\""
   ]
  },
  {
   "cell_type": "code",
   "execution_count": null,
   "id": "67e4e8b2-e46d-4fa3-b92c-06d0b4d03f65",
   "metadata": {},
   "outputs": [],
   "source": [
    "**Innovation (2 possible proxies)\n",
    "*Does this establishment have a department or a group of professionals dedicated to innovation (research and development, service)? \n",
    "gen innovd=0 if E1B==2\n",
    "replace innovd=1 if E1B==1\n",
    "lab var innovd \"Innovation department\"\n",
    "*In the last three years, did this establishment introduce to the market a new or significantly improved good or service? \n",
    "gen innovp=0 if E1A==2\n",
    "replace innovp=1 if E1A==1\n",
    "lab var innovp \"Innovation introduced\"\n",
    "\n",
    "corr innovd innovp\n",
    "*sum characteristics of the firm\n",
    "sum  lnage shareh partner limpartner multi foreign export manuf retail otserv  web  techas innovd innovp"
   ]
  },
  {
   "cell_type": "code",
   "execution_count": null,
   "id": "437799b1-6c44-4d6c-a7c6-c08e15324207",
   "metadata": {},
   "outputs": [],
   "source": [
    "**Institutional Constrain variables (Obstacles)**\n",
    "gen tel=L1A\n",
    "gen elec=L1B\n",
    "gen trans=L1C\n",
    "gen land=L1D\n",
    "gen policy=L1M\n",
    "gen taxrates=L1E\n",
    "gen taxadmin=L1F\n",
    "gen customs=L1G\n",
    "gen labour=L1H\n",
    "gen skills=L1I\n",
    "gen permits=L1J\n",
    "gen accesfinance=L1K\n",
    "gen costfinance=L1L\n",
    "gen macroenv=L1N \n",
    "gen corruption=L1O\n",
    "gen crime=L1P\n",
    "gen competitors=L1Q\n",
    "gen corruption2=L3 "
   ]
  },
  {
   "cell_type": "code",
   "execution_count": null,
   "id": "4e4b225e-b930-4244-892a-927af69838c0",
   "metadata": {},
   "outputs": [],
   "source": [
    "*sum business constraints\n",
    "sum  skills permits accesfinance  macroenv corruption crime infcomp\n",
    "sum age lnage SECTOR tel elec trans land policy taxrates taxadmin customs labour "
   ]
  },
  {
   "cell_type": "code",
   "execution_count": null,
   "id": "93fea1c6-2f9a-4995-9c4b-1843b600665b",
   "metadata": {},
   "outputs": [],
   "source": [
    "replace tel=. if tel==-99\n",
    "replace elec=. if elec==-99\n",
    "replace trans=. if trans==-99\n",
    "replace land=. if land==-99\n",
    "replace policy =. if policy==-99|policy==-66\n",
    "replace taxrates=. if taxrates==-99\n",
    "replace taxadmin=. if taxadmin==-99\n",
    "replace labour=. if labour==-99\n",
    "replace customs=. if customs==-99|customs==-77|customs==-66\n",
    "replace skills=. if skills==-99\n",
    "replace permits=. if permits==-99|permits==-66\n",
    "replace accesfinance=. if accesfinance==-99|accesfinance==-66\n",
    "replace costfinance=. if costfinance==-99\n",
    "replace macroenv=. if macroenv==-99\n",
    "replace corruption=. if corruption==-99|corruption==-66\n",
    "replace crime=. if crime==-99\n",
    "replace competitors=. if competitors==-99|competitors==-66\n",
    "replace corruption2=. if corruption2==-99"
   ]
  },
  {
   "cell_type": "code",
   "execution_count": null,
   "id": "be99c696-dc0b-4fc1-bd15-7b3f34897f77",
   "metadata": {},
   "outputs": [],
   "source": [
    "label variable tel \"Telecomunications\"\n",
    "label variable elec \"Electricity\"\n",
    "label variable trans \"Transportation\"\n",
    "label variable land \"Access to land\"\n",
    "label variable policy \"Political environment\"\n",
    "label variable taxrates \"Tax rates\"\n",
    "label variable taxadmin \"Tax administration\"\n",
    "label variable customs \"Customs and trade regulations\"\n",
    "label variable labour \"Labour regulations\"\n",
    "label variable skills \"Inadequately educated workforce\"\n",
    "label variable permits \"Business licencing and permits\"\n",
    "label variable accesfinance \"Access to finance\"\n",
    "label variable costfinance \"Cost of finance -Interest rate\"\n",
    "label variable macroenv \"Macroeconomic environment\"\n",
    "label variable corruption \"Corruption\"\n",
    "label variable crime \"Crime, theft and disorder\"\n",
    "label variable competitors \"Practices of competitors\""
   ]
  },
  {
   "cell_type": "code",
   "execution_count": null,
   "id": "f7da450f-5fef-4eed-9b93-5f2d566c7ad0",
   "metadata": {},
   "outputs": [],
   "source": [
    "*change dummies to unitary pc\n",
    " gen foreign1=foreign/100\n",
    " gen owncon1=owncon/100"
   ]
  },
  {
   "cell_type": "markdown",
   "id": "0bbb20d4-fea7-4a22-9b37-774694cfcce1",
   "metadata": {},
   "source": [
    "# Table 1"
   ]
  },
  {
   "cell_type": "code",
   "execution_count": null,
   "id": "88fed430-428e-450c-97a8-1f42c80450f9",
   "metadata": {},
   "outputs": [],
   "source": [
    "tabstat  tfem  tfemmore ofem femmore, by(SECTOR) stat(mean)  format(%5.0g) la(40)"
   ]
  },
  {
   "cell_type": "markdown",
   "id": "ad21d6a4-39d2-4094-8722-4a9247dbc47a",
   "metadata": {},
   "source": [
    "# Table 2"
   ]
  },
  {
   "cell_type": "code",
   "execution_count": null,
   "id": "230b1fe8-b5fc-438a-bfaa-8313883cecca",
   "metadata": {},
   "outputs": [],
   "source": [
    "global treat tfem\n",
    "global ylist lnlabpro12\n",
    "global xmana lnwagem12d edumanmin edumanav expsec\n",
    "global xfirm lnage lnnworkers fixas shareh partner limpartner multi foreign export  web techas innovd innovp\n",
    "global xconstr skills permits accesfinance macroenv corruption crime tel elec trans land policy taxrates taxadmin customs labour \n",
    "*t2docx $ylist $xmana $xfirm $xconstr using Table2.docx, replace by(tfem)"
   ]
  },
  {
   "cell_type": "markdown",
   "id": "14bdb78f-ea06-4ede-83ba-08a2cbd8916e",
   "metadata": {},
   "source": [
    "# Table 3"
   ]
  },
  {
   "cell_type": "code",
   "execution_count": null,
   "id": "e7149775-cf18-4e62-a462-41832506b7de",
   "metadata": {},
   "outputs": [],
   "source": [
    "global treat tfem \n",
    "global ylist lnlabpro12\n",
    "global xmana lnwagem12d edumanmin edumanav expsec\n",
    "global xfirm lnage lnnworkers fixas shareh partner limpartner multi foreign export  web techas innovd innovp\n",
    "global xconstr skills permits accesfinance macroenv corruption crime tel elec trans land policy taxrates taxadmin customs labour \n",
    "\n",
    "*with sector (17-1) and country (13-1)dummies, for the variable female top manager\n",
    "reg $ylist $treat $xmana $xfirm $xconstr i.SECTOR i.countryc, robust\n",
    "outreg2 using \"`result'/table3.xls\", replace dec(3) excel e(r2_a) label  drop (i.SECTOR i.countryc) addtext(Country FE, Yes, Sector FE, Yes)\n",
    "\n",
    "*with sector*country dummies for the variable female top manager\n",
    "reg $ylist $treat $xmana $xfirm $xconstr SECTOR#countryc, robust\n",
    "outreg2 using \"`result'/table3.xls\", append dec(3) excel label e(r2_a) drop (SECTOR#countryc) addtext(Country-Sector FE, Yes)"
   ]
  },
  {
   "cell_type": "code",
   "execution_count": null,
   "id": "dfcf5841-6a95-48d5-badf-14bfd96d5b92",
   "metadata": {},
   "outputs": [],
   "source": [
    "*with sector*country dummies for the variable female top manager: services\n",
    "reg $ylist $treat $xmana $xfirm $xconstr SECTOR#countryc if manuf==0, robust\n",
    "outreg2 using \"`result'/table3.xls\", append  excel dec(3) label e(r2_a)  drop (SECTOR#countryc) addtext(Country-Sector FE, Yes, Services, Yes)\n",
    "\n",
    "*with sector*country dummies for the variable female top manager: manuf\n",
    "reg $ylist $treat $xmana $xfirm $xconstr SECTOR#countryc if manuf==1, robust\n",
    "outreg2 using \"`result'/table3.xls\" , append excel dec(3) label  e(r2_a) drop (SECTOR#countryc) addtext(Country-Sector FE, Yes, Manufactures, Yes)"
   ]
  },
  {
   "cell_type": "markdown",
   "id": "2d9aec74-8cae-4f2d-8caf-de1bb833a79a",
   "metadata": {},
   "source": [
    "# Table 4"
   ]
  },
  {
   "cell_type": "code",
   "execution_count": null,
   "id": "5d13e100-f275-44f1-8bd6-d80fae29c284",
   "metadata": {},
   "outputs": [],
   "source": [
    "global treat tfem \n",
    "global ylist lnlabpro12\n",
    "global xmana lnwagem12d edumanav \n",
    "global xfirm lnage fixas shareh foreign export  web techas innovd \n",
    "global xconstr skills   accesfinance  tel elec  policy   taxadmin "
   ]
  },
  {
   "cell_type": "code",
   "execution_count": null,
   "id": "4c00a0f3-a5b1-4258-8829-fd78e3503c74",
   "metadata": {},
   "outputs": [],
   "source": [
    "*here create constraint variables as a dummy variable, i.e. polity1=1 if policy is seen as a constraint, that is binary instead of discrete and from 0 to 4\n",
    "\n",
    "gen policy1=0\n",
    "replace policy1=1 if policy>0\n",
    "\n",
    "gen accesfi1=0\n",
    "replace accesfi1=1 if accesfinance>0\n",
    "\n",
    "gen taxadmin1=0\n",
    "replace taxadmin1=1 if taxadmin>0\n",
    "\n",
    "gen tel1=0\n",
    "replace tel1=1 if tel>0\n",
    "\n",
    "gen elec1=0\n",
    "replace elec1=1 if elec>0\n",
    "\n",
    "gen skills1=0\n",
    "replace skills1=1 if skills>0"
   ]
  },
  {
   "cell_type": "code",
   "execution_count": null,
   "id": "15523434-399c-4fc6-927d-e6bc3af3f8e6",
   "metadata": {},
   "outputs": [],
   "source": [
    "*POLITICAL ENVIRONMENT\n",
    "reg $ylist  $xmana $xfirm  skills  taxadmin accesfinance  tel elec    SECTOR#countryc i.tfem#i.policy1, robust\n",
    "outreg2 using \"`result'/table4.xls\", replace dec(3) excel e(r2_a) drop ($xmana $xfirm  skills  taxadmin accesfinance  tel elec    SECTOR#countryc) label  addtext(Country-Sector FE, Yes)\n",
    "lincom _b[1.tfem#1.policy1] - _b[0.tfem#1.policy1]"
   ]
  },
  {
   "cell_type": "code",
   "execution_count": null,
   "id": "6ff11945-5f40-4536-8cf3-1430d31e561d",
   "metadata": {},
   "outputs": [],
   "source": [
    "reg $ylist  $xmana $xfirm  skills  taxadmin accesfinance  tel elec    SECTOR#countryc i.tfem#i.policy1 if manuf==1, robust\n",
    "outreg2 using \"`result'/table4.xls\", append dec(3) excel e(r2_a) drop ($xmana $xfirm  skills  taxadmin accesfinance  tel elec    SECTOR#countryc) label  addtext(Country-Sector FE, Yes, Manufactures, Yes)\n",
    "lincom _b[1.tfem#1.policy1] - _b[0.tfem#1.policy1]"
   ]
  },
  {
   "cell_type": "code",
   "execution_count": null,
   "id": "856d501c-0f49-4122-b5f8-ba2ef8f65566",
   "metadata": {},
   "outputs": [],
   "source": [
    "reg $ylist  $xmana $xfirm  skills  taxadmin accesfinance  tel elec    SECTOR#countryc i.tfem#i.policy1 if manuf==0, robust\n",
    "outreg2 using \"`result'/table4.xls\", append dec(3) excel e(r2_a) drop ($xmana $xfirm  skills  taxadmin accesfinance  tel elec    SECTOR#countryc) label  addtext(Country-Sector FE, Yes, Services, Yes)\n",
    "lincom _b[1.tfem#1.policy1] - _b[0.tfem#1.policy1]"
   ]
  },
  {
   "cell_type": "code",
   "execution_count": null,
   "id": "c7c81072-95d6-4f14-9e78-51f920017915",
   "metadata": {},
   "outputs": [],
   "source": [
    "*ACCESS TO FINANCE\n",
    "reg $ylist $xmana $xfirm  skills  taxadmin  tel elec policy    SECTOR#countryc i.tfem#i.accesfi1, robust\n",
    "outreg2 using \"`result'/table4.xls\", append dec(3) excel e(r2_a) drop ($xmana $xfirm  skills  taxadmin policy  tel elec    SECTOR#countryc) label  addtext(Country-Sector FE, Yes)\n",
    "lincom _b[1.tfem#1.accesfi1] - _b[0.tfem#1.accesfi1]"
   ]
  },
  {
   "cell_type": "code",
   "execution_count": null,
   "id": "4123d34d-e672-4976-a175-4726499afc87",
   "metadata": {},
   "outputs": [],
   "source": [
    "reg $ylist $xmana $xfirm  skills  taxadmin  tel elec policy    SECTOR#countryc i.tfem#i.accesfi1 if manuf==1, robust\n",
    "outreg2 using \"`result'/table4.xls\", append dec(3) excel e(r2_a) drop ($xmana $xfirm  skills  taxadmin policy  tel elec    SECTOR#countryc) label  addtext(Country-Sector FE, Yes, Manufactures, Yes)\n",
    "lincom _b[1.tfem#1.accesfi1] - _b[0.tfem#1.accesfi1]"
   ]
  },
  {
   "cell_type": "code",
   "execution_count": null,
   "id": "c3fd4bb2-1584-4e29-bfc4-a3169b02042a",
   "metadata": {},
   "outputs": [],
   "source": [
    "reg $ylist $xmana $xfirm  skills  taxadmin  tel elec policy    SECTOR#countryc i.tfem#i.accesfi1 if manuf==0, robust\n",
    "outreg2 using \"`result'/table4.xls\", append dec(3) excel e(r2_a) drop ($xmana $xfirm  skills  taxadmin policy  tel elec    SECTOR#countryc) label  addtext(Country-Sector FE, Yes, Services, Yes)\n",
    "lincom _b[1.tfem#1.accesfi1] - _b[0.tfem#1.accesfi1]"
   ]
  },
  {
   "cell_type": "code",
   "execution_count": null,
   "id": "6416079e-00e9-4826-bf53-f56ffe4563f3",
   "metadata": {},
   "outputs": [],
   "source": [
    "* TAX ADMIN\t\t\t\t\t\t\t\t\t\t\t\t\t\n",
    "reg $ylist $xmana $xfirm  skills  accesfinance  tel elec policy    SECTOR#countryc i.tfem#i.taxadmin1, robust\n",
    "outreg2 using \"`result'/table4.xls\", append dec(3) excel e(r2_a) drop ($xmana $xfirm  skills  accesfinance policy  tel elec    SECTOR#countryc) label  addtext(Country-Sector FE, Yes)\n",
    "lincom _b[1.tfem#1.taxadmin1] - _b[0.tfem#1.taxadmin1]"
   ]
  },
  {
   "cell_type": "code",
   "execution_count": null,
   "id": "2f185dac-dd9b-4bfa-9df6-8be484b8427b",
   "metadata": {},
   "outputs": [],
   "source": [
    "reg $ylist $xmana $xfirm  skills  accesfinance  tel elec policy    SECTOR#countryc i.tfem#i.taxadmin1 if manuf==1, robust\n",
    "outreg2 using \"`result'/table4.xls\", append dec(3) excel e(r2_a) drop ($xmana $xfirm  skills  accesfinance policy  tel elec    SECTOR#countryc) label  addtext(Country-Sector FE, Yes, Manufactures, Yes)\n",
    "lincom _b[1.tfem#1.taxadmin1] - _b[0.tfem#1.taxadmin1]"
   ]
  },
  {
   "cell_type": "code",
   "execution_count": null,
   "id": "6f981c30-2b4d-4cd3-a286-c046ce4fa707",
   "metadata": {},
   "outputs": [],
   "source": [
    "reg $ylist $xmana $xfirm  skills  accesfinance  tel elec policy    SECTOR#countryc i.tfem#i.taxadmin1 if manuf==0, robust\n",
    "outreg2 using \"`result'/table4.xls\", append dec(3) excel e(r2_a) drop ($xmana $xfirm  skills  accesfinance policy  tel elec    SECTOR#countryc) label  addtext(Country-Sector FE, Yes, Services, Yes)\n",
    "lincom _b[1.tfem#1.taxadmin1] - _b[0.tfem#1.taxadmin1]"
   ]
  },
  {
   "cell_type": "code",
   "execution_count": null,
   "id": "5e1342a7-4ae6-4976-b417-b19d0b450c86",
   "metadata": {},
   "outputs": [],
   "source": [
    "*SKILLS\n",
    "reg $ylist $xmana $xfirm  taxadmin  accesfinance  tel elec policy    SECTOR#countryc i.tfem#i.skills1, robust\n",
    "outreg2 using \"`result'/table4.xls\", append dec(3) excel e(r2_a) drop ($xmana $xfirm  taxadmin  accesfinance policy  tel elec    SECTOR#countryc) label  addtext(Country-Sector FE, Yes)\n",
    "lincom _b[1.tfem#1.skills1] - _b[0.tfem#1.skills1]"
   ]
  },
  {
   "cell_type": "code",
   "execution_count": null,
   "id": "28b1f5fd-01a5-45d6-8499-1c76718fa80f",
   "metadata": {},
   "outputs": [],
   "source": [
    "reg $ylist $xmana $xfirm  taxadmin  accesfinance  tel elec policy    SECTOR#countryc i.tfem#i.skills1 if manuf==1, robust\n",
    "outreg2 using \"`result'/table4.xls\", append dec(3) excel e(r2_a) drop ($xmana $xfirm  taxadmin  accesfinance policy  tel elec    SECTOR#countryc) label  addtext(Country-Sector FE, Yes, Manufactures, Yes)\n",
    "lincom _b[1.tfem#1.skills1] - _b[0.tfem#1.skills1]"
   ]
  },
  {
   "cell_type": "code",
   "execution_count": null,
   "id": "812173ad-85f0-4807-80b1-b8503c4e13e2",
   "metadata": {},
   "outputs": [],
   "source": [
    "reg $ylist $xmana $xfirm  taxadmin  accesfinance  tel elec policy    SECTOR#countryc i.tfem#i.skills1 if manuf==0, robust\n",
    "outreg2 using \"`result'/table4.xls\", append dec(3) excel e(r2_a) drop ($xmana $xfirm  taxadmin  accesfinance policy  tel elec    SECTOR#countryc) label  addtext(Country-Sector FE, Yes, Services, Yes)\n",
    "lincom _b[1.tfem#1.skills1] - _b[0.tfem#1.skills1]"
   ]
  },
  {
   "cell_type": "code",
   "execution_count": null,
   "id": "482c099e-e540-4356-b1a8-713d262b35b2",
   "metadata": {},
   "outputs": [],
   "source": [
    "*ELECTRICITY\n",
    "reg $ylist $xmana $xfirm  taxadmin  accesfinance skills tel  policy    SECTOR#countryc i.tfem#i.elec1, robust\n",
    "outreg2 using \"`result'/table4.xls\", append dec(3) excel e(r2_a) drop ($xmana $xfirm  taxadmin  accesfinance policy  tel skills    SECTOR#countryc) label  addtext(Country-Sector FE, Yes)\n",
    "lincom _b[1.tfem#1.elec1] - _b[0.tfem#1.elec1]"
   ]
  },
  {
   "cell_type": "code",
   "execution_count": null,
   "id": "82daf404-3fd9-49ff-bebc-09ea774a2fee",
   "metadata": {},
   "outputs": [],
   "source": [
    "reg $ylist $xmana $xfirm  taxadmin  accesfinance skills tel  policy    SECTOR#countryc i.tfem#i.elec1 if manuf==1, robust\n",
    "outreg2 using \"`result'/table4.xls\", append dec(3) excel e(r2_a) drop ($xmana $xfirm  taxadmin  accesfinance policy  tel skills    SECTOR#countryc) label  addtext(Country-Sector FE, Yes, Manufactures, Yes)\n",
    "lincom _b[1.tfem#1.elec1] - _b[0.tfem#1.elec1]"
   ]
  },
  {
   "cell_type": "code",
   "execution_count": null,
   "id": "9d60d250-f677-49df-a635-4747660c02db",
   "metadata": {},
   "outputs": [],
   "source": [
    "reg $ylist $xmana $xfirm  taxadmin  accesfinance skills tel  policy    SECTOR#countryc i.tfem#i.elec1 if manuf==0, robust\n",
    "outreg2 using \"`result'/table4.xls\", append dec(3) excel e(r2_a) drop ($xmana $xfirm  taxadmin  accesfinance policy  tel skills    SECTOR#countryc) label  addtext(Country-Sector FE, Yes, Services, Yes)\n",
    "lincom _b[1.tfem#1.elec1] - _b[0.tfem#1.elec1]"
   ]
  },
  {
   "cell_type": "code",
   "execution_count": null,
   "id": "979c1e56-9387-4acf-9361-0f7ad9ab6b0f",
   "metadata": {},
   "outputs": [],
   "source": [
    "*TELECOMMUNICATION\n",
    "reg $ylist $xmana $xfirm  taxadmin  accesfinance skills elec  policy    SECTOR#countryc i.tfem#i.tel1, robust\n",
    "outreg2 using \"`result'/table4.xls\", append dec(3) excel e(r2_a) drop ($xmana $xfirm  taxadmin  accesfinance policy  elec skills    SECTOR#countryc) label  addtext(Country-Sector FE, Yes)\n",
    "lincom _b[1.tfem#1.tel1] - _b[0.tfem#1.tel1]"
   ]
  },
  {
   "cell_type": "code",
   "execution_count": null,
   "id": "4f2b3855-f49b-43c3-910f-8bfd697727fb",
   "metadata": {},
   "outputs": [],
   "source": [
    "reg $ylist $xmana $xfirm  taxadmin  accesfinance skills elec  policy    SECTOR#countryc i.tfem#i.tel1 if manuf==1, robust\n",
    "outreg2 using \"`result'/table4.xls\", append dec(3) excel e(r2_a) drop ($xmana $xfirm  taxadmin  accesfinance policy  elec skills    SECTOR#countryc) label  addtext(Country-Sector FE, Yes,Manufactures, Yes)\n",
    "lincom _b[1.tfem#1.tel1] - _b[0.tfem#1.tel1]"
   ]
  },
  {
   "cell_type": "code",
   "execution_count": null,
   "id": "40b2d2e1-26f8-416b-9f95-069442ab5b26",
   "metadata": {},
   "outputs": [],
   "source": [
    "reg $ylist $xmana $xfirm  taxadmin  accesfinance skills elec  policy    SECTOR#countryc i.tfem#i.tel1 if manuf==0, robust\n",
    "outreg2 using \"`result'/table4.xls\", append dec(3) excel e(r2_a) drop ($xmana $xfirm  taxadmin  accesfinance policy  elec skills    SECTOR#countryc) label  addtext(Country-Sector FE, Yes,Services, Yes)\n",
    "lincom _b[1.tfem#1.tel1] - _b[0.tfem#1.tel1]"
   ]
  },
  {
   "cell_type": "markdown",
   "id": "4630dcb2-82a1-48ea-bf1a-6b9dc54575e2",
   "metadata": {},
   "source": [
    "# Table 5"
   ]
  },
  {
   "cell_type": "code",
   "execution_count": null,
   "id": "61b6a1a6-117c-47c6-9403-d02bfffc81f8",
   "metadata": {},
   "outputs": [],
   "source": [
    "global treat tfem \n",
    "global ylist lnlabpro12\n",
    "global xmana lnwagem12d edumanmin edumanav expsec\n",
    "global xfirm lnage lnnworkers fixas shareh partner limpartner multi foreign export  web techas innovd innovp\n",
    "global xconstr skills permits accesfinance macroenv corruption crime tel elec trans land policy taxrates taxadmin customs labour "
   ]
  },
  {
   "cell_type": "code",
   "execution_count": null,
   "id": "22ed3bef-f959-494b-a61c-0ee4505a22ec",
   "metadata": {},
   "outputs": [],
   "source": [
    "xi:oaxaca $ylist i.SECTOR i.countryc, by(tfem) \n",
    "outreg2 using \"`result'/table5.xls\", replace dec(3) excel label  drop () title(\"NC\") addtext(Country FE, Yes, Sector FE, Yes) "
   ]
  },
  {
   "cell_type": "code",
   "execution_count": null,
   "id": "175ccc52-52ad-4fbf-93f5-06fc7a3480c6",
   "metadata": {},
   "outputs": [],
   "source": [
    "xi:oaxaca $ylist $xmana i.SECTOR i.countryc, by(tfem)\n",
    "outreg2 using \"`result'/table5.xls\", append dec(3) excel label  drop () title(\"TM\") addtext(Country FE, Yes, Sector FE, Yes)"
   ]
  },
  {
   "cell_type": "code",
   "execution_count": null,
   "id": "ab51f8ef-ea7f-490b-8884-06b968c2dee4",
   "metadata": {},
   "outputs": [],
   "source": [
    "xi:oaxaca $ylist $xmana $xfirm  i.SECTOR i.countryc, by(tfem) \n",
    "outreg2 using \"`result'/table5.xls\", append dec(3) excel label  drop () title(\"FIRM\") addtext(Country FE, Yes, Sector FE, Yes)"
   ]
  },
  {
   "cell_type": "code",
   "execution_count": null,
   "id": "bbcc31d5-0056-42a9-ab86-d176cf123d49",
   "metadata": {},
   "outputs": [],
   "source": [
    "xi:oaxaca $ylist $xmana $xfirm $xconstr i.SECTOR i.countryc, by(tfem) \n",
    "outreg2 using \"`result'/table5.xls\", append dec(3) excel label  drop () title(\"CONS\") addtext(Country FE, Yes, Sector FE, Yes)"
   ]
  },
  {
   "cell_type": "code",
   "execution_count": null,
   "id": "b7d50ed3-7f34-48f9-b624-1845cc0b3c37",
   "metadata": {},
   "outputs": [],
   "source": [
    "xi:oaxaca $ylist $xmana $xfirm $xconstr i.SECTOR i.countryc, by(tfem) weights (2) \n",
    "outreg2 using \"`result'/table5.xls\", append dec(3) excel label  drop () title(\"NC\") addtext(Country FE, Yes, Sector FE, Yes) "
   ]
  },
  {
   "cell_type": "markdown",
   "id": "246dd333-ee06-4514-9790-2726f13020e9",
   "metadata": {},
   "source": [
    "# Table 6"
   ]
  },
  {
   "cell_type": "code",
   "execution_count": null,
   "id": "8b61c939-b171-4e28-a98b-b35d27b3b4b2",
   "metadata": {},
   "outputs": [],
   "source": [
    "set seed 123"
   ]
  },
  {
   "cell_type": "code",
   "execution_count": null,
   "id": "eaaff6f6-c1fa-43af-9113-77a44b865ed4",
   "metadata": {},
   "outputs": [],
   "source": [
    "nopo decomp lnlabpro12 i.countryc i.SECTOR, by(tfem) kmatch(ps) kmopt(pscmd(probit) bw(0.001))\n",
    "est store cs \n",
    "nopo decomp lnlabpro12 lnwagem12d edumanav  i.countryc i.SECTOR, by(tfem) kmatch(ps) kmopt(pscmd(probit) bw(0.001))\n",
    "est store mcs\n",
    "nopo decomp lnlabpro12 lnwagem12d lnage  shareh foreign i.countryc i.SECTOR, by(tfem) kmatch(ps) kmopt(pscmd(probit) bw(0.001))\n",
    "est store fcs \n",
    "nopo decomp lnlabpro12 lnwagem12d lnage shareh foreign   skills  accesfinance  elec macroenv taxadmin i.countryc i.SECTOR, by(tfem) kmatch(ps) kmopt(pscmd(probit) bw(0.001)) \n",
    "est store ccs"
   ]
  },
  {
   "cell_type": "code",
   "execution_count": null,
   "id": "7bdec84f-f950-4747-abc4-9dcb3434f7e8",
   "metadata": {},
   "outputs": [],
   "source": [
    "esttab cs mcs fcs ccs using \"`result'/table6.xls\", se nonumbers nonotes mtitles( \"Country and Sector FE\" \"+Managers' characteristics\" \"+Firm Characteristics\" \"+Environment' Constraints\") stats(nA mshareuwA nB mshareuwB bwidth, label(\"N(A)\" \"% matched A\" \"N(B)\" \"% matched B\" \"Bandwidth\"))"
   ]
  },
  {
   "cell_type": "markdown",
   "id": "c7c93f12-2dcf-457a-a8ed-bf9a8a5174b1",
   "metadata": {},
   "source": [
    "# Figure 1"
   ]
  },
  {
   "cell_type": "code",
   "execution_count": null,
   "id": "a688f4c4-1555-426c-b272-c4ec200442d3",
   "metadata": {},
   "outputs": [],
   "source": [
    "qreg lnlabpro12 i.tfem lnwagem12d edumanmin edumanav lnage lnnworkers fixas shareh partner limpartner multi foreign export web techas innovd innovp   skills permits accesfinance macroenv corruption crime tel elec trans land  taxrates taxadmin customs labour"
   ]
  },
  {
   "cell_type": "code",
   "execution_count": null,
   "id": "eb954004-25f9-43bf-ae7f-82bf1299ec04",
   "metadata": {},
   "outputs": [],
   "source": [
    "qregplot  tfem    , q(5(2.5)95) ols"
   ]
  },
  {
   "cell_type": "markdown",
   "id": "ae98f2c2-e613-450f-ae66-9443145b6638",
   "metadata": {},
   "source": [
    "# Figure 2"
   ]
  },
  {
   "cell_type": "code",
   "execution_count": null,
   "id": "fd8810f0-c8fc-4a33-a5fa-4af193bc3ee1",
   "metadata": {},
   "outputs": [],
   "source": [
    "global treat tfem \n",
    "global ylist lnlabpro12\n",
    "global xmana lnwagem12d edumanmin edumanav expsec\n",
    "global xfirm lnage lnnworkers fixas shareh partner limpartner multi foreign export  web techas innovd innovp\n",
    "global xconstr skills permits accesfinance macroenv corruption crime tel elec trans land policy taxrates taxadmin customs labour "
   ]
  },
  {
   "cell_type": "code",
   "execution_count": null,
   "id": "f50aef4f-b55f-4dfb-a31b-c9d98aa6c6bd",
   "metadata": {},
   "outputs": [],
   "source": [
    "reg $ylist $treat $xmana $xfirm $xconstr i.SECTOR if countryc==1, robust\n",
    "estimates store AB\n",
    "reg $ylist $treat $xmana $xfirm $xconstr i.SECTOR if countryc==2, robust\n",
    "estimates store BAR\n",
    "reg $ylist $treat $xmana $xfirm $xconstr i.SECTOR if countryc==3, robust\n",
    "estimates store BEL\n",
    "reg $ylist $treat $xmana $xfirm $xconstr i.SECTOR if countryc==4, robust\n",
    "estimates store DOM\n",
    "reg $ylist $treat $xmana $xfirm $xconstr i.SECTOR if countryc==5, robust\n",
    "estimates store GRE\n",
    "reg $ylist $treat $xmana $xfirm $xconstr i.SECTOR if countryc==6, robust\n",
    "estimates store GUY\n",
    "reg $ylist $treat $xmana $xfirm $xconstr i.SECTOR if countryc==7, robust\n",
    "estimates store JAM\n",
    "reg $ylist $treat $xmana $xfirm $xconstr i.SECTOR if countryc==8, robust\n",
    "estimates store StL\n",
    "reg $ylist $treat $xmana $xfirm $xconstr i.SECTOR if countryc==9, robust\n",
    "estimates store StK\n",
    "reg $ylist $treat $xmana $xfirm $xconstr i.SECTOR if countryc==10, robust\n",
    "estimates store StV\n",
    "reg $ylist $treat $xmana $xfirm $xconstr i.SECTOR if countryc==11, robust\n",
    "estimates store SUR\n",
    "reg $ylist $treat $xmana $xfirm $xconstr i.SECTOR if countryc==12, robust\n",
    "estimates store BAH\n",
    "reg $ylist $treat $xmana $xfirm $xconstr i.SECTOR if countryc==13, robust\n",
    "estimates store TT"
   ]
  },
  {
   "cell_type": "code",
   "execution_count": null,
   "id": "7be39a0e-b45a-477d-a963-b4b3156bcf29",
   "metadata": {},
   "outputs": [],
   "source": [
    "coefplot  (AB, mlabels (tfem = 1 \"A&B\") pstyle(p1)) (BAR, mlabels (tfem = 1 \"BAR\")pstyle(p1)) ///\n",
    "(BEL, mlabels (tfem = 1 \"BEL\")pstyle(p1)) (DOM, mlabels (tfem = 1 \"DOM\")pstyle(p1)) ///\n",
    "(GRE, mlabels (tfem = 1 \"GRE\")pstyle(p1)) (GUY, mlabels (tfem = 1 \"GUY\")pstyle(p1)) ///\n",
    "(JAM, mlabels (tfem = 1 \"JAM\")pstyle(p1)) (StL, mlabels (tfem = 1 \"StL\")pstyle(p1)) ///\n",
    "(StK, mlabels (tfem = 1 \"StK\")pstyle(p1)) (StV, mlabels (tfem = 1 \"StV\")pstyle(p1)) ///\n",
    "(SUR, mlabels (tfem = 1 \"SUR\")pstyle(p1)) (BAH, mlabels (tfem = 1 \"BAH\")pstyle(p1)) ///\n",
    "(TT, mlabels (tfem = 1 \"T&T\")pstyle(p1)), keep($treat) levels (90) yline(0) vertical legend(off)"
   ]
  },
  {
   "cell_type": "code",
   "execution_count": null,
   "id": "4738d588-bf57-4cca-85fb-e2304bacb1df",
   "metadata": {},
   "outputs": [],
   "source": [
    "graph export \"`result'/figure2.png\", replace"
   ]
  },
  {
   "cell_type": "markdown",
   "id": "36cddeb7-e7d3-4ef9-bd3d-9dbc9f3e4f5d",
   "metadata": {},
   "source": [
    "# Appendix"
   ]
  },
  {
   "cell_type": "markdown",
   "id": "038c4d12-8489-49c6-8c3e-b2bf870b0ede",
   "metadata": {},
   "source": [
    "## APPENDIX  TABLE A1"
   ]
  },
  {
   "cell_type": "code",
   "execution_count": null,
   "id": "4aefc5ae-5344-4d0d-b33b-90a821c4166f",
   "metadata": {},
   "outputs": [],
   "source": [
    "tabstat  tfem  tfemmore ofem femmore, by(COUNTRY) stat(mean)  format(%5.0g) la(40)"
   ]
  },
  {
   "cell_type": "markdown",
   "id": "f8fd27c0-c7b8-4a9a-bb73-bbdaf4cd5570",
   "metadata": {},
   "source": [
    "## APPENDIX  TABLE A2"
   ]
  },
  {
   "cell_type": "code",
   "execution_count": null,
   "id": "7bdd9b58-fbc6-46d5-98fb-dfcef9b4d12c",
   "metadata": {},
   "outputs": [],
   "source": [
    "fsum $treat $ylist $xmana $xfirm $xconstr, uselabel\n",
    "\n",
    "bysort $treat: sum $ylist $xmana $xfirm $xconstr\n",
    "tabstat $ylist $xmana $xfirm $xconstr, by($treat) columns(statistics) varwidth(20)"
   ]
  },
  {
   "cell_type": "markdown",
   "id": "b4459964-a085-42a3-ae31-60617ad68b5d",
   "metadata": {},
   "source": [
    "## APPENDIX  TABLE A3"
   ]
  },
  {
   "cell_type": "code",
   "execution_count": null,
   "id": "ec04e909-7e96-4cbe-9165-4b62a636d256",
   "metadata": {},
   "outputs": [],
   "source": [
    "set seed 123"
   ]
  },
  {
   "cell_type": "code",
   "execution_count": null,
   "id": "bdd5e15d-7d08-4b0b-bc50-e62282311e2e",
   "metadata": {},
   "outputs": [],
   "source": [
    "nopo decomp lnlabpro12 lnwagem12d lnage  shareh foreign, by(tfem) kmatch(em) \n",
    "est store em\n",
    "nopo decomp lnlabpro12 lnwagem12d lnage  shareh foreign, by(tfem) kmatch(ps) \n",
    "est store ps\n",
    "nopo decomp lnlabpro12 lnwagem12d lnage  shareh foreign, by(tfem) kmatch(md) \n",
    "est store md\n",
    "nopo decomp lnlabpro12 lnwagem12d lnage  shareh foreign, by(tfem) kmatch(ps) kmopt(pscmd(probit) bw(0.0001))\n",
    "est store probit"
   ]
  },
  {
   "cell_type": "code",
   "execution_count": null,
   "id": "0150cd47-2215-44f2-a865-1afe09d63477",
   "metadata": {},
   "outputs": [],
   "source": [
    "esttab em ps md probit using \"`result'/tableA3.xls\", se nonumbers nonotes mtitles(\"exact\" \"prop. score\" \"multi. dist.\" \"probit ps\") stats(nA mshareuwA nB mshareuwB bwidth, label(\"N(A)\" \"% matched A\" \"N(B)\" \"% matched B\" \"Bandwidth\"))\t"
   ]
  },
  {
   "cell_type": "markdown",
   "id": "db560b67-6ae6-45da-a11f-040cd4217b91",
   "metadata": {},
   "source": [
    "## APPENDIX  TABLE A4"
   ]
  },
  {
   "cell_type": "code",
   "execution_count": null,
   "id": "27e44fc8-2753-498b-88f8-cbc262c4e202",
   "metadata": {},
   "outputs": [],
   "source": [
    "*top part: Target VARIABLE=1 if at least 50% of managers are female\n",
    "              \n",
    "global treat tfemmore \n",
    "global ylist lnlabpro12\n",
    "global xmana lnwagem12d edumanmin edumanav expsec\n",
    "global xfirm lnage lnnworkers fixas shareh partner limpartner multi foreign export manuf retail  web techas innovd innovp\n",
    "global xconstr skills permits accesfinance macroenv corruption crime tel elec trans land policy taxrates taxadmin customs labour "
   ]
  },
  {
   "cell_type": "code",
   "execution_count": null,
   "id": "e8f219b9-27b0-4e41-aa6e-c3371508439c",
   "metadata": {},
   "outputs": [],
   "source": [
    "*with sector (17-1) and country (13-1)dummies, for the variable > 50% female managers\n",
    "reg $ylist $treat $xmana $xfirm $xconstr i.SECTOR i.countryc, robust\n",
    "outreg2 using \"`result'/tableA4.xls\", replace dec(3) excel label  keep(tfemmore) addtext(Country FE, Yes, Sector FE, Yes)"
   ]
  },
  {
   "cell_type": "code",
   "execution_count": null,
   "id": "91254933-8ce2-4647-a294-38d906bbc99d",
   "metadata": {},
   "outputs": [],
   "source": [
    "*with sector*country dummies for the variable > 50% female managers\n",
    "reg $ylist $treat $xmana $xfirm $xconstr SECTOR#countryc, robust\n",
    "outreg2 using \"`result'/tableA4.xls\", append dec(3) excel label  keep(tfemmore) addtext(Country-Sector FE, Yes)"
   ]
  },
  {
   "cell_type": "code",
   "execution_count": null,
   "id": "b9d2647e-102f-44cc-8c82-84ad8bfb290a",
   "metadata": {},
   "outputs": [],
   "source": [
    "*with sector*country dummies for the variable > 50% female managers: services\n",
    "reg $ylist $treat $xmana $xfirm $xconstr SECTOR#countryc if manuf==0, robust\n",
    "outreg2 using \"`result'/tableA4.xls\", append  excel dec(3) label  keep(tfemmore) addtext(Country-Sector FE, Yes, Services, Yes)"
   ]
  },
  {
   "cell_type": "code",
   "execution_count": null,
   "id": "16b9e0cd-2279-4740-848b-8939506a6fa0",
   "metadata": {},
   "outputs": [],
   "source": [
    "*with sector*country dummies for the variable > 50% female managers: manuf\n",
    "reg $ylist $treat $xmana $xfirm $xconstr SECTOR#countryc if manuf==1, robust\n",
    "outreg2 using \"`result'/tableA4.xls\", append excel dec(3) label  keep(tfemmore) addtext(Country-Sector FE, Yes, Manufactures, Yes)"
   ]
  },
  {
   "cell_type": "code",
   "execution_count": null,
   "id": "483ebad0-bd1a-49e3-b614-1c0caea9c55b",
   "metadata": {},
   "outputs": [],
   "source": [
    "*Bottom part:\tTarget VARIABLE01 if There are males and females in management team"
   ]
  },
  {
   "cell_type": "code",
   "execution_count": null,
   "id": "36a30a6e-2396-42a4-b691-b7340a8fcb7d",
   "metadata": {},
   "outputs": [],
   "source": [
    "global treat gendivm\n",
    "global ylist lnlabpro12\n",
    "global xmana lnwagem12d edumanmin edumanav expsec\n",
    "global xfirm lnage lnnworkers fixas shareh partner limpartner multi foreign export manuf retail  web techas innovd innovp\n",
    "global xconstr skills permits accesfinance macroenv corruption crime tel elec trans land policy taxrates taxadmin customs labour "
   ]
  },
  {
   "cell_type": "code",
   "execution_count": null,
   "id": "2f411265-b7e0-42c8-9198-f162bd524ebd",
   "metadata": {},
   "outputs": [],
   "source": [
    "*with sector (17-1) and country (13-1)dummies, \n",
    "reg $ylist $treat $xmana $xfirm $xconstr i.SECTOR i.countryc, robust\n",
    "outreg2 using \"`result'/tableA4.xls\", append dec(3) excel label  keep(gendivm) addtext(Country FE, Yes, Sector FE, Yes)"
   ]
  },
  {
   "cell_type": "code",
   "execution_count": null,
   "id": "2decd384-64e9-4ae5-af16-1070e48398b9",
   "metadata": {},
   "outputs": [],
   "source": [
    "*with sector*country dummies \n",
    "reg $ylist $treat $xmana $xfirm $xconstr SECTOR#countryc, robust\n",
    "outreg2 using \"`result'/tableA4.xls\", append dec(3) excel label  keep(gendivm) addtext(Country-Sector FE, Yes)"
   ]
  },
  {
   "cell_type": "code",
   "execution_count": null,
   "id": "7f9864a1-1e2f-4ee0-9c69-4c255a727c28",
   "metadata": {},
   "outputs": [],
   "source": [
    "*with sector*country dummies for  services\n",
    "reg $ylist $treat $xmana $xfirm $xconstr SECTOR#countryc if manuf==0, robust\n",
    "outreg2 using \"`result'/tableA4.xls\", append  excel dec(3) label  keep(gendivm) addtext(Country-Sector FE, Yes, Services, Yes)"
   ]
  },
  {
   "cell_type": "code",
   "execution_count": null,
   "id": "afdc8157-a1e8-4a59-b254-c84511fbeab2",
   "metadata": {},
   "outputs": [],
   "source": [
    "*with sector*country dummies for  manuf\n",
    "reg $ylist $treat $xmana $xfirm $xconstr SECTOR#countryc if manuf==1, robust\n",
    "outreg2 using \"`result'/tableA4.xls\", append excel dec(3) label  keep(gendivm) addtext(Country-Sector FE, Yes, Manufactures, Yes)"
   ]
  },
  {
   "cell_type": "markdown",
   "id": "14cb6f19-f913-4ff5-a0e1-ccd153e18e3e",
   "metadata": {},
   "source": [
    "## APPENDIX  TABLE A5"
   ]
  },
  {
   "cell_type": "code",
   "execution_count": null,
   "id": "4a39396e-9450-4960-be5b-679ded96a11d",
   "metadata": {},
   "outputs": [],
   "source": [
    "global ylist lnlabpro12\n",
    "global xmana lnwagem12d edumanmin edumanav expsec\n",
    "global xfirm lnage lnnworkers fixas shareh partner limpartner multi foreign export manuf retail  web techas innovd innovp\n",
    "global xconstr skills permits accesfinance macroenv corruption crime tel elec trans land policy taxrates taxadmin customs labour "
   ]
  },
  {
   "cell_type": "code",
   "execution_count": null,
   "id": "4d259779-7890-4525-a554-1b2901462c31",
   "metadata": {},
   "outputs": [],
   "source": [
    "xi:oaxaca $ylist i.SECTOR i.countryc, by(tfemmore) \n",
    "outreg2 using \"`result'/tableA5.xls\", replace dec(3) excel label  drop () title(\"NC\") addtext(Country FE, Yes, Sector FE, Yes)"
   ]
  },
  {
   "cell_type": "code",
   "execution_count": null,
   "id": "b9a363bf-6074-4242-bfc4-0b9353c66767",
   "metadata": {},
   "outputs": [],
   "source": [
    "xi:oaxaca $ylist $xmana i.SECTOR i.countryc, by(tfemmore) \n",
    "outreg2 using \"`result'/tableA5.xls\", append dec(3) excel label  drop () title(\"TM\") addtext(Country FE, Yes, Sector FE, Yes)"
   ]
  },
  {
   "cell_type": "code",
   "execution_count": null,
   "id": "b9f58dc1-2fc7-4f61-b298-c384d95e286e",
   "metadata": {},
   "outputs": [],
   "source": [
    "xi:oaxaca $ylist $xmana $xfirm  i.SECTOR i.countryc, by(tfemmore) relax\n",
    "outreg2 using \"`result'/tableA5.xls\", append dec(3) excel label  drop () title(\"FIRM\") addtext(Country FE, Yes, Sector FE, Yes)"
   ]
  },
  {
   "cell_type": "code",
   "execution_count": null,
   "id": "a43eee25-78c5-4522-87a4-d2e50c1cb380",
   "metadata": {},
   "outputs": [],
   "source": [
    "xi:oaxaca $ylist $xmana $xfirm $xconstr i.SECTOR i.countryc, by(tfemmore) relax\n",
    "outreg2 using \"`result'/tableA5.xls\", append dec(3) excel label  drop () title(\"CONS\") addtext(Country FE, Yes, Sector FE, Yes)"
   ]
  },
  {
   "cell_type": "markdown",
   "id": "621a7528-502d-48b1-9fb9-1b971b0da351",
   "metadata": {},
   "source": [
    "## APPENDIX  TABLE A6"
   ]
  },
  {
   "cell_type": "code",
   "execution_count": null,
   "id": "e9ec954b-5ad7-4814-844a-896f9a2af9f6",
   "metadata": {},
   "outputs": [],
   "source": [
    "gen pcfemman1=pcfemman/100"
   ]
  },
  {
   "cell_type": "code",
   "execution_count": null,
   "id": "5af794b0-471c-4421-bf28-356484a28799",
   "metadata": {},
   "outputs": [],
   "source": [
    "global xmana lnwagem11d edumanmin edumanav expsec\n",
    "global xfirm lnage lnnworkers fixas shareh partner limpartner multi foreign export   web techas innovd innovp\n",
    "global xconstr skills permits accesfinance macroenv corruption crime tel elec trans land policy taxrates taxadmin customs labour "
   ]
  },
  {
   "cell_type": "code",
   "execution_count": null,
   "id": "2fbefef5-0142-4d8c-823d-77d3d4596fc2",
   "metadata": {},
   "outputs": [],
   "source": [
    "reg lnlabpro12 pcfemman1  $xmana $xfirm $xconstr i.SECTOR i.countryc, robust cluster(strata)\n",
    "outreg2 using \"`result'/tableA6.xls\", replace dec(3) excel label  keep(pcfemman1) addtext(Country FE, Yes, Sector FE, Yes)"
   ]
  },
  {
   "cell_type": "code",
   "execution_count": null,
   "id": "b88dee83-c545-4cb3-9034-9f2f9d1d5317",
   "metadata": {},
   "outputs": [],
   "source": [
    "reg lnlabpro12 c.pcfemman1##c.pcfemman1  $xmana $xfirm $xconstr i.SECTOR i.countryc, robust cluster(strata)\n",
    "outreg2 using \"`result'/tableA6.xls\", append dec(3) excel label keep (c.pcfemman1  c.pcfemman1#c.pcfemman1) addtext(Country FE, Yes, Sector FE, Yes)"
   ]
  },
  {
   "cell_type": "code",
   "execution_count": null,
   "id": "127e83d8-922e-4001-8b4e-a94f24bdfb44",
   "metadata": {},
   "outputs": [],
   "source": [
    "reg lnlabpro12 c.pcfemman1##c.pcfemman1   $xmana $xfirm $xconstr SECTOR#countryc, robust cluster(strata)\t\n",
    "outreg2 using \"`result'/tableA6.xls\", append dec(3) excel label  keep (c.pcfemman1  c.pcfemman1#c.pcfemman1)  addtext(Country-Sector FE, Yes)"
   ]
  },
  {
   "cell_type": "code",
   "execution_count": null,
   "id": "ce9494bc-0936-41e1-89a7-a83fbb5bd96a",
   "metadata": {},
   "outputs": [],
   "source": [
    "reg lnlabpro12 c.pcfemman1##c.pcfemman1   $xmana $xfirm $xconstr SECTOR#countryc  if manuf==0,  robust cluster(strata)\t\n",
    "outreg2 using \"`result'/tableA6.xls\", append  excel dec(3) label  keep (c.pcfemman1  c.pcfemman1#c.pcfemman1)  addtext(Country-Sector FE, Yes, Services, Yes)"
   ]
  },
  {
   "cell_type": "code",
   "execution_count": null,
   "id": "56581fa8-ba0f-4013-b5b9-71054fdfa5c7",
   "metadata": {},
   "outputs": [],
   "source": [
    "reg lnlabpro12 c.pcfemman1##c.pcfemman1   $xmana $xfirm $xconstr SECTOR#countryc if manuf==1,  robust cluster(strata)\t\n",
    "outreg2 using \"`result'/tableA6.xls\", append excel dec(3) label  keep (c.pcfemman1  c.pcfemman1#c.pcfemman1)  addtext(Country-Sector FE, Yes, Manufactures, Yes)"
   ]
  },
  {
   "cell_type": "markdown",
   "id": "132301d4-c91b-488b-ad89-8c423031b0cc",
   "metadata": {},
   "source": [
    "## APPENDIX  TABLE A7"
   ]
  },
  {
   "cell_type": "code",
   "execution_count": null,
   "id": "155a6803-f81e-411c-ab83-ef51739b76c5",
   "metadata": {},
   "outputs": [],
   "source": [
    "gen pcfemunsk=I2B2B*100/I2A2B\n",
    "gen pcfemskil=I2B2A*100/I2A2A if I2B2A>=0\n",
    "gen pcfemnopro=I2B3*100/I2A3 if I2B3>=0\n",
    "sum pc*"
   ]
  },
  {
   "cell_type": "code",
   "execution_count": null,
   "id": "91240757-b0c3-4bdd-8491-160f3846889a",
   "metadata": {},
   "outputs": [],
   "source": [
    "*Regression analysis with Female Top and the interaction witht the share of female employees, \n",
    "*it is only significant when using the share of unskilled female workers, not when using skilled \n",
    "*or non-production female workers"
   ]
  },
  {
   "cell_type": "code",
   "execution_count": null,
   "id": "0bb9c04b-c190-4b6a-bddd-5020a18afc95",
   "metadata": {},
   "outputs": [],
   "source": [
    "gen tfem_pcfememp=tfem*pcfemempl \n",
    "gen lnfemempl=log(femempl)\n",
    "gen tfem_lnfememp=tfem*pcfems"
   ]
  },
  {
   "cell_type": "code",
   "execution_count": null,
   "id": "7276bfb2-e5b1-4d4f-a1b2-13dc386e2d76",
   "metadata": {},
   "outputs": [],
   "source": [
    "global treat tfem##c.pcfemunsk\n",
    "global ylist lnlabpro12\n",
    "global xmana lnwagem11d edumanmin edumanav expsec \n",
    "global xfirm lnage lnnworkers fixas shareh partner limpartner multi foreign export manuf retail  web techas innovd innovp\n",
    "global xconstr skills permits accesfinance macroenv corruption crime tel elec trans land policy taxrates taxadmin customs labour "
   ]
  },
  {
   "cell_type": "code",
   "execution_count": null,
   "id": "054d1926-0fec-4e9f-9cc4-8468b9e3f2f5",
   "metadata": {},
   "outputs": [],
   "source": [
    "*with sector (17-1) and country (13-1)dummies, for the variable female top manager\n",
    "reg $ylist $treat $xmana $xfirm $xconstr i.SECTOR i.countryc, robust\n",
    "outreg2 using \"`result'/tableA7.xls\", replace dec(3) excel label  drop (i.SECTOR i.countryc) addtext(Country FE, Yes, Sector FE, Yes)"
   ]
  },
  {
   "cell_type": "code",
   "execution_count": null,
   "id": "9b157fe6-f7b0-4e93-8020-c035a11d8565",
   "metadata": {},
   "outputs": [],
   "source": [
    "*with sector*country dummies for the variable female top manager\n",
    "reg $ylist $treat $xmana $xfirm $xconstr SECTOR#countryc, robust\n",
    "outreg2 using \"`result'/tableA7.xls\", append dec(3) excel label  drop (SECTOR#countryc) addtext(Country-Sector FE, Yes)"
   ]
  },
  {
   "cell_type": "code",
   "execution_count": null,
   "id": "7c3aefcd-acb3-4cf1-af3e-d71deaf9455d",
   "metadata": {},
   "outputs": [],
   "source": [
    "*with sector*country dummies for the variable female top manager: services\n",
    "reg $ylist $treat $xmana $xfirm $xconstr SECTOR#countryc if manuf==0, robust\n",
    "outreg2 using \"`result'/tableA7.xls\", append  excel dec(3) label  drop (SECTOR#countryc) addtext(Country-Sector FE, Yes, Services, Yes)"
   ]
  },
  {
   "cell_type": "code",
   "execution_count": null,
   "id": "3ba979d1-a7be-487a-b9fd-5c28adc1a65c",
   "metadata": {},
   "outputs": [],
   "source": [
    "*with sector*country dummies for the variable female top manager: manuf\n",
    "reg $ylist $treat $xmana $xfirm $xconstr SECTOR#countryc if manuf==1, robust\n",
    "outreg2 using \"`result'/tableA7.xls\", append excel dec(3) label  drop (SECTOR#countryc) addtext(Country-Sector FE, Yes, Manufactures, Yes)"
   ]
  },
  {
   "cell_type": "code",
   "execution_count": null,
   "id": "6497ac6e-1185-4213-9b7f-6a050fbf3989",
   "metadata": {},
   "outputs": [],
   "source": [
    "*marginal effects\n",
    "margins, dydx(tfem pcfemunsk)\n",
    "margins, dydx(*)"
   ]
  },
  {
   "cell_type": "code",
   "execution_count": null,
   "id": "77bb33ed-68ad-4d13-ad2d-2f4ae6613ff2",
   "metadata": {},
   "outputs": [],
   "source": [
    "*Graph to see differences in female labor force participation, when the manager is a female or a male\n",
    "kdensity pcfemempl if tfem==1, addplot((kdensity pcfemempl if tfem==0, lpattern(dash)))"
   ]
  },
  {
   "cell_type": "markdown",
   "id": "459cc5b0-aac2-4312-8ef3-e347ade53b93",
   "metadata": {},
   "source": [
    "# APPENDIX KERNEL GRAPHS"
   ]
  },
  {
   "cell_type": "markdown",
   "id": "61614438-3f98-4b0c-8134-b67e0e860de2",
   "metadata": {},
   "source": [
    "## FIGURE A1"
   ]
  },
  {
   "cell_type": "code",
   "execution_count": null,
   "id": "10e7304f-1827-4851-b94e-a032f3b24256",
   "metadata": {},
   "outputs": [],
   "source": [
    "kdensity lnlabpro11 if tfem==0, addplot( (kdensity lnlabpro11 if tfem==1, lpattern(\"-\")))   legend(order(1 \"No Top Female Manager\" 2 \"Top Female Manager\" ))    title (Kernel Density)"
   ]
  },
  {
   "cell_type": "markdown",
   "id": "0ca6a750-bda7-4ec4-b2d7-3b9a869b5b1e",
   "metadata": {},
   "source": [
    "## FIGURE A2"
   ]
  },
  {
   "cell_type": "code",
   "execution_count": null,
   "id": "e9e8850f-42af-4b37-b65f-579c14fa4218",
   "metadata": {},
   "outputs": [],
   "source": [
    "kdensity lnlabpro12 if tfem_cat==1, addplot( (kdensity lnlabpro12 if tfem_cat==2,lp(\"-\") )  (kdensity lnlabpro12 if tfem_cat==3, lp(\".\") ) (kdensity lnlabpro12 if tfem_cat==4, lp(\"-.-.\") )  (kdensity lnlabpro11 if tfem_cat==5, lp(\"_.\") )  ) legend(order(1 \"All Males\" 2 \">50% Males\" 3 \"equaly M/F\" 4 \">50% Females\" 5 \"All Females\"))    title (Kernel Density)"
   ]
  },
  {
   "cell_type": "markdown",
   "id": "8e9afd88-da20-462e-bd67-b0131a84f522",
   "metadata": {},
   "source": [
    "## FIGURE A3"
   ]
  },
  {
   "cell_type": "code",
   "execution_count": null,
   "id": "d72573e5-7297-4185-ade0-5bbb6486e7cd",
   "metadata": {},
   "outputs": [],
   "source": [
    "kdensity lnlabpro12 if fem_cat==1, addplot( (kdensity lnlabpro12 if fem_cat==2,lp(\"-\") )  (kdensity lnlabpro12 if fem_cat==3, lp(\".\") ) (kdensity lnlabpro12 if fem_cat==4, lp(\"-.-.\") )  (kdensity lnlabpro11 if fem_cat==5, lp(\"_.\") )  ) legend(order(1 \"All Males\" 2 \">50% Males\" 3 \"equaly M/F\" 4 \">50% Females\" 5 \"All Females\"))    title (Kernel Density) "
   ]
  },
  {
   "cell_type": "markdown",
   "id": "338dcd73-b35e-4017-ac7a-432bf4c5d460",
   "metadata": {},
   "source": [
    "# APPENDIX  FIGURE A4"
   ]
  },
  {
   "cell_type": "code",
   "execution_count": null,
   "id": "c523f973-f5ca-4445-b750-7ca7ca8d3ade",
   "metadata": {},
   "outputs": [],
   "source": [
    "global treat tfem \n",
    "global ylist lnlabpro12\n",
    "global xmana lnwagem12d edumanmin edumanav expsec\n",
    "global xfirm lnage lnnworkers fixas shareh partner limpartner multi foreign export  web techas innovd innovp\n",
    "global xconstr skills permits accesfinance macroenv corruption crime tel elec trans land policy taxrates taxadmin customs labour "
   ]
  },
  {
   "cell_type": "code",
   "execution_count": null,
   "id": "d7cbe275-6998-415b-9a87-6b27d131e840",
   "metadata": {},
   "outputs": [],
   "source": [
    "**access to finance\n",
    "reg accesfinance $treat $xmana $xfirm  i.SECTOR i.countryc, robust\n",
    "outreg2 using \"`result'/olsconstraint.xls\", replace dec(3) excel e(r2_a) label  drop (i.SECTOR i.countryc) addtext(Constraint, Finance, Country FE, Yes, Sector FE, Yes)\n",
    "estimates store fi1"
   ]
  },
  {
   "cell_type": "code",
   "execution_count": null,
   "id": "59423fc1-c21f-44d6-9a7e-553241ca6a69",
   "metadata": {},
   "outputs": [],
   "source": [
    "*with sector*country dummies for the variable female top manager\n",
    "reg accesfinance $treat $xmana $xfirm  SECTOR#countryc, robust\n",
    "outreg2 using \"`result'/olsconstraint.xls\", append dec(3) excel e(r2_a) label  drop (SECTOR#countryc) addtext(Constraint, Finance, Country-Sector FE, Yes)\n",
    "estimates store fi2"
   ]
  },
  {
   "cell_type": "code",
   "execution_count": null,
   "id": "11c928f6-a076-42da-8e8b-63c437a8540e",
   "metadata": {},
   "outputs": [],
   "source": [
    "*with sector*country dummies for the variable female top manager: services\n",
    "reg accesfinance $treat $xmana $xfirm  SECTOR#countryc if manuf==0, robust\n",
    "outreg2 using \"`result'/olsconstraint.xls\", append dec(3) excel e(r2_a) label  drop (SECTOR#countryc) addtext(Constraint, Finance, Country-Sector FE, Yes, Services, Yes)\n",
    "estimates store fi3"
   ]
  },
  {
   "cell_type": "code",
   "execution_count": null,
   "id": "e779890b-9016-46e8-bbed-ae6571ad47fa",
   "metadata": {},
   "outputs": [],
   "source": [
    "*with sector*country dummies for the variable female top manager: manuf\n",
    "reg accesfinance $treat $xmana $xfirm  SECTOR#countryc if manuf==1, robust\n",
    "outreg2 using \"`result'/olsconstraint.xls\", append dec(3) excel e(r2_a) label  drop (SECTOR#countryc) addtext(Constraint, Finance, Country-Sector FE, Yes, Manufactures, Yes)\n",
    "estimates store fi4"
   ]
  },
  {
   "cell_type": "code",
   "execution_count": null,
   "id": "18addd7e-b4b7-461e-b689-d2cc9a7c8434",
   "metadata": {},
   "outputs": [],
   "source": [
    "coefplot (fi1, label(Country and Sector FE) pstyle(p5) msymbol(diamond)) ///\n",
    "(fi2, label(Country x Sector FE) pstyle(p5)msymbol(triangle)) ///\n",
    "(fi3, label(Services) pstyle(p5)msymbol(circle_hollow )) ///\n",
    "(fi4, label(Manufacturing) pstyle(p5)msymbol(circle)) ///\n",
    ", keep(tfem) xline(0)  title(\"Access to finance\") \n",
    "graph save \"`result'/finance.gph\", replace"
   ]
  },
  {
   "cell_type": "markdown",
   "id": "79d7962e-af13-4d18-9b31-11b031386b39",
   "metadata": {},
   "source": [
    "### Electricity"
   ]
  },
  {
   "cell_type": "code",
   "execution_count": null,
   "id": "e21c7879-7d66-406d-8935-69f9917af809",
   "metadata": {},
   "outputs": [],
   "source": [
    "reg elec $treat $xmana $xfirm  i.SECTOR i.countryc, robust\n",
    "outreg2 using \"`result'/olsconstraint.xls\", append dec(3) excel e(r2_a) label  drop (i.SECTOR i.countryc) addtext(Constraint, elec, Country FE, Yes, Sector FE, Yes)\n",
    "estimates store e1"
   ]
  },
  {
   "cell_type": "code",
   "execution_count": null,
   "id": "5f31d9a3-4e0e-4774-88b3-61a0b3e8e020",
   "metadata": {},
   "outputs": [],
   "source": [
    "reg elec $treat $xmana $xfirm  SECTOR#countryc, robust\n",
    "outreg2 using \"`result'/olsconstraint.xls\", append dec(3) excel e(r2_a) label  drop (SECTOR#countryc) addtext(Constraint, elec, Country-Sector FE, Yes)\n",
    "estimates store e2"
   ]
  },
  {
   "cell_type": "code",
   "execution_count": null,
   "id": "afa76b81-f680-459c-8fa1-4702caa96496",
   "metadata": {},
   "outputs": [],
   "source": [
    "reg elec $treat $xmana $xfirm  SECTOR#countryc if manuf==0, robust\n",
    "outreg2 using \"`result'/olsconstraint.xls\", append dec(3) excel e(r2_a) label  drop (SECTOR#countryc) addtext(Constraint, elec, Country-Sector FE, Yes, Services, Yes)\n",
    "estimates store e3"
   ]
  },
  {
   "cell_type": "code",
   "execution_count": null,
   "id": "d245f6bf-a00c-4581-896a-53964ab508fb",
   "metadata": {},
   "outputs": [],
   "source": [
    "reg elec $treat $xmana $xfirm  SECTOR#countryc if manuf==1, robust\n",
    "outreg2 using \"`result'/olsconstraint.xls\", append dec(3) excel e(r2_a) label  drop (SECTOR#countryc) addtext(Constraint, elec, Country-Sector FE, Yes, Manufactures, Yes)\n",
    "estimates store e4"
   ]
  },
  {
   "cell_type": "code",
   "execution_count": null,
   "id": "d2cf8b31-ce1d-4c6a-a705-399a7340e4fc",
   "metadata": {},
   "outputs": [],
   "source": [
    "coefplot (e1, label(Country and Sector FE) pstyle(p5) msymbol(diamond)) ///\n",
    "(e2, label(Country x Sector FE) pstyle(p5)msymbol(triangle)) ///\n",
    "(e3, label(Services) pstyle(p5)msymbol(circle_hollow )) ///\n",
    "(e4, label(Manufacturing) pstyle(p5)msymbol(circle)) ///\n",
    ", keep(tfem) xline(0)  title(\"Access to electricity\") \n",
    "graph save \"`result'/electricity.gph\", replace"
   ]
  },
  {
   "cell_type": "markdown",
   "id": "2e126683-1b49-4181-b1b3-d73887420dd4",
   "metadata": {},
   "source": [
    "### political environment"
   ]
  },
  {
   "cell_type": "code",
   "execution_count": null,
   "id": "c945e614-9829-449c-aef6-7708ebeecd7e",
   "metadata": {},
   "outputs": [],
   "source": [
    "reg policy $treat $xmana $xfirm  i.SECTOR i.countryc, robust\n",
    "outreg2 using \"`result'/olsconstraint.xls\", append dec(3) excel e(r2_a) label  drop (i.SECTOR i.countryc) addtext(Constraint, policy, Country FE, Yes, Sector FE, Yes)\n",
    "estimates store p1"
   ]
  },
  {
   "cell_type": "code",
   "execution_count": null,
   "id": "507a2999-facf-4ad4-905b-1cf3265c0139",
   "metadata": {},
   "outputs": [],
   "source": [
    "reg policy $treat $xmana $xfirm  SECTOR#countryc, robust\n",
    "outreg2 using \"`result'/olsconstraint.xls\", append dec(3) excel e(r2_a) label  drop (SECTOR#countryc) addtext(Constraint, policy, Country-Sector FE, Yes)\n",
    "estimates store p2"
   ]
  },
  {
   "cell_type": "code",
   "execution_count": null,
   "id": "daee7c6c-4ace-479a-a4fa-56d502b74ac5",
   "metadata": {},
   "outputs": [],
   "source": [
    "reg policy $treat $xmana $xfirm  SECTOR#countryc if manuf==0, robust\n",
    "outreg2 using \"`result'/olsconstraint.xls\", append dec(3) excel e(r2_a) label  drop (SECTOR#countryc) addtext(Constraint, policy, Country-Sector FE, Yes, Services, Yes)\n",
    "estimates store p3"
   ]
  },
  {
   "cell_type": "code",
   "execution_count": null,
   "id": "a28282f8-4741-4e7a-839d-b8848b2db170",
   "metadata": {},
   "outputs": [],
   "source": [
    "reg policy $treat $xmana $xfirm  SECTOR#countryc if manuf==1, robust\n",
    "outreg2 using \"`result'/olsconstraint.xls\", append dec(3) excel e(r2_a) label  drop (SECTOR#countryc) addtext(Constraint, policy, Country-Sector FE, Yes, Manufactures, Yes)\n",
    "estimates store p4"
   ]
  },
  {
   "cell_type": "code",
   "execution_count": null,
   "id": "807a0a29-e2e1-4339-9192-c094bd3cf56e",
   "metadata": {},
   "outputs": [],
   "source": [
    "coefplot (p1, label(Country and Sector FE) pstyle(p5) msymbol(diamond)) ///\n",
    "(p2, label(Country x Sector FE) pstyle(p5)msymbol(triangle)) ///\n",
    "(p3, label(Services) pstyle(p5)msymbol(circle_hollow )) ///\n",
    "(p4, label(Manufacturing) pstyle(p5)msymbol(circle)) ///\n",
    ", keep(tfem) xline(0)  title(\"Issues in the political environment\") \n",
    "graph save \"`result'/policy.gph\", replace"
   ]
  },
  {
   "cell_type": "markdown",
   "id": "284eb4f2-243d-4f99-96b3-80c744b93108",
   "metadata": {},
   "source": [
    "### tax administration"
   ]
  },
  {
   "cell_type": "code",
   "execution_count": null,
   "id": "6f57db14-3799-49c5-ac0a-40bb900fc1c6",
   "metadata": {},
   "outputs": [],
   "source": [
    "reg taxadmin $treat $xmana $xfirm  i.SECTOR i.countryc, robust\n",
    "outreg2 using \"`result'/olsconstraint.xls\", append dec(3) excel e(r2_a) label  drop (i.SECTOR i.countryc) addtext(Constraint, taxadmin, Country FE, Yes, Sector FE, Yes)\n",
    "estimates store ta1"
   ]
  },
  {
   "cell_type": "code",
   "execution_count": null,
   "id": "96596be1-f837-4013-824c-76e2b41ae30c",
   "metadata": {},
   "outputs": [],
   "source": [
    "reg taxadmin $treat $xmana $xfirm  SECTOR#countryc, robust\n",
    "outreg2 using \"`result'/olsconstraint.xls\", append dec(3) excel e(r2_a) label  drop (SECTOR#countryc) addtext(Constraint, taxadmin, Country-Sector FE, Yes)\n",
    "estimates store ta2"
   ]
  },
  {
   "cell_type": "code",
   "execution_count": null,
   "id": "aa13c6f6-d89b-4eef-89a4-8173961ce7fc",
   "metadata": {},
   "outputs": [],
   "source": [
    "reg taxadmin $treat $xmana $xfirm  SECTOR#countryc if manuf==0, robust\n",
    "outreg2 using \"`result'/olsconstraint.xls\", append dec(3) excel e(r2_a) label  drop (SECTOR#countryc) addtext(Constraint, taxadmin, Country-Sector FE, Yes, Services, Yes)\n",
    "estimates store ta3"
   ]
  },
  {
   "cell_type": "code",
   "execution_count": null,
   "id": "e4531fa6-244b-4b47-a4c3-89329b301812",
   "metadata": {},
   "outputs": [],
   "source": [
    "reg taxadmin $treat $xmana $xfirm  SECTOR#countryc if manuf==1, robust\n",
    "outreg2 using \"`result'/olsconstraint.xls\", append dec(3) excel e(r2_a) label  drop (SECTOR#countryc) addtext(Constraint, taxadmin, Country-Sector FE, Yes, Manufactures, Yes)\n",
    "estimates store ta4"
   ]
  },
  {
   "cell_type": "code",
   "execution_count": null,
   "id": "b4af8236-75f8-4d8f-8ee2-019bf8f29d4f",
   "metadata": {},
   "outputs": [],
   "source": [
    "coefplot (ta1, label(Country and Sector FE) pstyle(p5) msymbol(diamond)) ///\n",
    "(ta2, label(Country x Sector FE) pstyle(p5)msymbol(triangle)) ///\n",
    "(ta3, label(Services) pstyle(p5)msymbol(circle_hollow )) ///\n",
    "(ta4, label(Manufacturing) pstyle(p5)msymbol(circle)) ///\n",
    ", keep(tfem) xline(0)  title(\"Tax Administration\") \n",
    "graph save \"`result'/tax.gph\", replace"
   ]
  },
  {
   "cell_type": "code",
   "execution_count": null,
   "id": "142ba67d-d16a-4a30-a9de-80767e89cf12",
   "metadata": {},
   "outputs": [],
   "source": [
    "grc1leg \"`result'/finance.gph\" \"`result'/electricity.gph\", cols(2) graphregion(fcolor(white)) saving(\"`result'/fiel.gph\", replace)\n",
    "grc1leg \"`result'/policy.gph\" \"`result'/tax.gph\", cols(2) graphregion(fcolor(white)) saving(\"`result'/pota.gph\", replace)\n",
    "graph combine \"`result'/fiel.gph\" \"`result'/pota.gph\" ,imargin(small) cols(1) ///\n",
    "graphregion(fcolor(white) margin(zero)) ysize(4.5)  ///\n",
    "saving(\"`result'/FigureA4.gph\", replace)  "
   ]
  },
  {
   "cell_type": "markdown",
   "id": "82675198-a2e0-424f-8d62-dcba2143dda6",
   "metadata": {},
   "source": [
    "## APPENDIX  FIGURE A5"
   ]
  },
  {
   "cell_type": "code",
   "execution_count": null,
   "id": "5cba3903-bacc-4b4f-a0c7-3e0cdf48751f",
   "metadata": {},
   "outputs": [],
   "source": [
    "kdensity pcfemempl if tfem==1, addplot((kdensity pcfemempl if tfem==0, lpattern(dash)))"
   ]
  },
  {
   "cell_type": "code",
   "execution_count": null,
   "id": "503e4a15-64b6-4801-ba2c-a973a5833c1e",
   "metadata": {},
   "outputs": [],
   "source": [
    "graph use \"`result'/tax.gph\"\n",
    "graph export \"`result'/tax.png\", as(png)"
   ]
  },
  {
   "cell_type": "code",
   "execution_count": null,
   "id": "ec6f86ec-2818-4b51-911b-e3e4f98cf186",
   "metadata": {},
   "outputs": [],
   "source": [
    "graph use \"`result'/fiel.gph\"\n",
    "graph export \"`result'/fiel.png\", as(png)"
   ]
  },
  {
   "cell_type": "code",
   "execution_count": null,
   "id": "a1049634-5d20-47a1-b5d8-2d7b3ca6b746",
   "metadata": {},
   "outputs": [],
   "source": [
    "graph use \"`result'/FigureA4.gph\"\n",
    "graph export \"`result'/FigureA4.png\", as(png)"
   ]
  },
  {
   "cell_type": "code",
   "execution_count": null,
   "id": "c586a7e2-8014-4828-949d-730a95acf2d7",
   "metadata": {},
   "outputs": [],
   "source": [
    "graph use \"`result'/electricity.gph\"\n",
    "graph export \"`result'/electricity.png\", as(png)"
   ]
  },
  {
   "cell_type": "code",
   "execution_count": null,
   "id": "3779cef4-0138-4403-91f7-a25636e53670",
   "metadata": {},
   "outputs": [],
   "source": [
    "graph use \"`result'/finance.gph\"\n",
    "graph export \"`result'/finance.png\", as(png)"
   ]
  },
  {
   "cell_type": "code",
   "execution_count": null,
   "id": "2d144ec7-bb89-4377-8849-49ebf1e9a444",
   "metadata": {},
   "outputs": [],
   "source": [
    "graph use \"`result'/policy.gph\"\n",
    "graph export \"`result'/policy.png\", as(png)"
   ]
  },
  {
   "cell_type": "code",
   "execution_count": null,
   "id": "9bedf0de-19e5-49db-b838-370f36da8846",
   "metadata": {},
   "outputs": [],
   "source": [
    "graph use \"`result'/pota.gph\"\n",
    "graph export \"`result'/pota.png\", as(png)"
   ]
  },
  {
   "cell_type": "code",
   "execution_count": null,
   "id": "5c834749-6ace-45f4-84fc-60fb2d677f33",
   "metadata": {},
   "outputs": [],
   "source": []
  },
  {
   "cell_type": "code",
   "execution_count": null,
   "id": "7dd6f1eb-6ae9-4d3d-aa0f-9231078c0e5c",
   "metadata": {},
   "outputs": [],
   "source": []
  },
  {
   "cell_type": "code",
   "execution_count": null,
   "id": "4ef3c23b-8e84-44c9-ab4c-961b879daded",
   "metadata": {},
   "outputs": [],
   "source": []
  }
 ],
 "metadata": {
  "kernelspec": {
   "display_name": "Stata",
   "language": "stata",
   "name": "stata"
  },
  "language_info": {
   "codemirror_mode": "stata",
   "file_extension": ".do",
   "mimetype": "text/x-stata",
   "name": "stata",
   "version": "15.1"
  }
 },
 "nbformat": 4,
 "nbformat_minor": 5
}
